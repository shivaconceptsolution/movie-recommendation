{
 "cells": [
  {
   "cell_type": "markdown",
   "metadata": {
    "colab_type": "text",
    "id": "view-in-github"
   },
   "source": [
    "<a href=\"https://colab.research.google.com/github/rposhala/Recommender-System-on-MovieLens-dataset/blob/main/Item_based_Collaborative_Recommender_System_using_KNN.ipynb\" target=\"_parent\"><img src=\"https://colab.research.google.com/assets/colab-badge.svg\" alt=\"Open In Colab\"/></a>"
   ]
  },
  {
   "cell_type": "code",
   "execution_count": 1,
   "metadata": {
    "id": "bwSPLalV6Rca"
   },
   "outputs": [],
   "source": [
    "import os\n",
    "import numpy as np\n",
    "import pandas as pd\n",
    "import matplotlib.pyplot as plt\n",
    "from scipy.sparse import csr_matrix\n",
    "from sklearn.neighbors import NearestNeighbors"
   ]
  },
  {
   "cell_type": "markdown",
   "metadata": {
    "id": "d4WNkFXcauZ3"
   },
   "source": [
    "## Loading MovieLens dataset"
   ]
  },
  {
   "cell_type": "markdown",
   "metadata": {
    "id": "3jZ7lU8RafYz"
   },
   "source": [
    "Loading u.info     -- The number of users, items, and ratings in the u data set."
   ]
  },
  {
   "cell_type": "code",
   "execution_count": 6,
   "metadata": {
    "colab": {
     "base_uri": "https://localhost:8080/",
     "height": 34
    },
    "id": "dEj5ZJQzaX-7",
    "outputId": "b73df5ec-cf04-491f-ad79-e2b9a8c26b16"
   },
   "outputs": [
    {
     "name": "stdout",
     "output_type": "stream",
     "text": [
      "Details of users, items and ratings involved in the loaded movielens dataset:  ['943 users', '1682 items', '100000 ratings']\n"
     ]
    }
   ],
   "source": [
    "overall_stats = pd.read_csv('d:\\\\ml-100k\\\\u.info', header=None)\n",
    "print(\"Details of users, items and ratings involved in the loaded movielens dataset: \",list(overall_stats[0]))"
   ]
  },
  {
   "cell_type": "markdown",
   "metadata": {
    "id": "aFzpbJ_Hap8V"
   },
   "source": [
    "Loading u.data     -- The full u data set, 100000 ratings by 943 users on 1682 items.\n",
    "\n",
    "---\n",
    "\n",
    "\n",
    "\n",
    "              Each user has rated at least 20 movies.  Users and items are\n",
    "              numbered consecutively from 1.  The data is randomly ordered. This is a tab separated list of \n",
    "\t         user id | item id | rating | timestamp. \n",
    "              The time stamps are unix seconds since 1/1/1970 UTC "
   ]
  },
  {
   "cell_type": "code",
   "execution_count": 7,
   "metadata": {
    "colab": {
     "base_uri": "https://localhost:8080/",
     "height": 195
    },
    "id": "NXg9Sj7ralr4",
    "outputId": "0c8ac301-e92f-4682-df49-9c21c137dcd0"
   },
   "outputs": [
    {
     "data": {
      "text/html": [
       "<div>\n",
       "<style scoped>\n",
       "    .dataframe tbody tr th:only-of-type {\n",
       "        vertical-align: middle;\n",
       "    }\n",
       "\n",
       "    .dataframe tbody tr th {\n",
       "        vertical-align: top;\n",
       "    }\n",
       "\n",
       "    .dataframe thead th {\n",
       "        text-align: right;\n",
       "    }\n",
       "</style>\n",
       "<table border=\"1\" class=\"dataframe\">\n",
       "  <thead>\n",
       "    <tr style=\"text-align: right;\">\n",
       "      <th></th>\n",
       "      <th>user id</th>\n",
       "      <th>movie id</th>\n",
       "      <th>rating</th>\n",
       "      <th>timestamp</th>\n",
       "    </tr>\n",
       "  </thead>\n",
       "  <tbody>\n",
       "    <tr>\n",
       "      <th>0</th>\n",
       "      <td>196</td>\n",
       "      <td>242</td>\n",
       "      <td>3</td>\n",
       "      <td>881250949</td>\n",
       "    </tr>\n",
       "    <tr>\n",
       "      <th>1</th>\n",
       "      <td>186</td>\n",
       "      <td>302</td>\n",
       "      <td>3</td>\n",
       "      <td>891717742</td>\n",
       "    </tr>\n",
       "    <tr>\n",
       "      <th>2</th>\n",
       "      <td>22</td>\n",
       "      <td>377</td>\n",
       "      <td>1</td>\n",
       "      <td>878887116</td>\n",
       "    </tr>\n",
       "    <tr>\n",
       "      <th>3</th>\n",
       "      <td>244</td>\n",
       "      <td>51</td>\n",
       "      <td>2</td>\n",
       "      <td>880606923</td>\n",
       "    </tr>\n",
       "    <tr>\n",
       "      <th>4</th>\n",
       "      <td>166</td>\n",
       "      <td>346</td>\n",
       "      <td>1</td>\n",
       "      <td>886397596</td>\n",
       "    </tr>\n",
       "  </tbody>\n",
       "</table>\n",
       "</div>"
      ],
      "text/plain": [
       "   user id  movie id  rating  timestamp\n",
       "0      196       242       3  881250949\n",
       "1      186       302       3  891717742\n",
       "2       22       377       1  878887116\n",
       "3      244        51       2  880606923\n",
       "4      166       346       1  886397596"
      ]
     },
     "execution_count": 7,
     "metadata": {},
     "output_type": "execute_result"
    }
   ],
   "source": [
    "## same item id is same as movie id, item id column is renamed as movie id\n",
    "column_names1 = ['user id','movie id','rating','timestamp']\n",
    "dataset = pd.read_csv('d:\\\\ml-100k\\\\u.data', sep='\\t',header=None,names=column_names1)\n",
    "dataset.head() "
   ]
  },
  {
   "cell_type": "code",
   "execution_count": 8,
   "metadata": {
    "colab": {
     "base_uri": "https://localhost:8080/",
     "height": 34
    },
    "id": "M2lYi6toa9tA",
    "outputId": "01b6797c-12cf-479f-fc6e-1889e088e8af"
   },
   "outputs": [
    {
     "data": {
      "text/plain": [
       "(100000, 1682, 1)"
      ]
     },
     "execution_count": 8,
     "metadata": {},
     "output_type": "execute_result"
    }
   ],
   "source": [
    "len(dataset), max(dataset['movie id']),min(dataset['movie id'])"
   ]
  },
  {
   "cell_type": "markdown",
   "metadata": {
    "id": "9C9qVRfcbE0k"
   },
   "source": [
    "Loading u.item     -- Information about the items (movies); this is a tab separated\n",
    "\n",
    "              list of\n",
    "              movie id | movie title | release date | video release date |\n",
    "              IMDb URL | unknown | Action | Adventure | Animation |\n",
    "              Children's | Comedy | Crime | Documentary | Drama | Fantasy |\n",
    "              Film-Noir | Horror | Musical | Mystery | Romance | Sci-Fi |\n",
    "              Thriller | War | Western |\n",
    "              The last 19 fields are the genres, a 1 indicates the movie\n",
    "              is of that genre, a 0 indicates it is not; movies can be in\n",
    "              several genres at once.\n",
    "              The movie ids are the ones used in the u.data data set.\n"
   ]
  },
  {
   "cell_type": "code",
   "execution_count": 9,
   "metadata": {
    "colab": {
     "base_uri": "https://localhost:8080/",
     "height": 420
    },
    "id": "ZaMNuf9fbA0V",
    "outputId": "d0d0ced1-9bfb-404a-d0d4-e168cddc6ea0"
   },
   "outputs": [
    {
     "data": {
      "text/plain": [
       "['movie id',\n",
       " 'movie title',\n",
       " 'release date',\n",
       " 'video release date',\n",
       " 'IMDb URL',\n",
       " 'unknown',\n",
       " 'Action',\n",
       " 'Adventure',\n",
       " 'Animation',\n",
       " 'Children',\n",
       " 'Comedy',\n",
       " 'Crime',\n",
       " 'Documentary',\n",
       " 'Drama',\n",
       " 'Fantasy',\n",
       " 'Film-Noir',\n",
       " 'Horror',\n",
       " 'Musical',\n",
       " 'Mystery',\n",
       " 'Romance',\n",
       " 'Sci-Fi',\n",
       " 'Thriller',\n",
       " 'War',\n",
       " 'Western']"
      ]
     },
     "execution_count": 9,
     "metadata": {},
     "output_type": "execute_result"
    }
   ],
   "source": [
    "d = 'movie id | movie title | release date | video release date | IMDb URL | unknown | Action | Adventure | Animation | Children | Comedy | Crime | Documentary | Drama | Fantasy | Film-Noir | Horror | Musical | Mystery | Romance | Sci-Fi | Thriller | War | Western'\n",
    "column_names2 = d.split(' | ')\n",
    "column_names2"
   ]
  },
  {
   "cell_type": "code",
   "execution_count": 10,
   "metadata": {
    "colab": {
     "base_uri": "https://localhost:8080/",
     "height": 758
    },
    "id": "Cv_sboAHbMp7",
    "outputId": "db4cb56c-afa3-4ad4-bef6-fd6937eaddf1"
   },
   "outputs": [
    {
     "data": {
      "text/html": [
       "<div>\n",
       "<style scoped>\n",
       "    .dataframe tbody tr th:only-of-type {\n",
       "        vertical-align: middle;\n",
       "    }\n",
       "\n",
       "    .dataframe tbody tr th {\n",
       "        vertical-align: top;\n",
       "    }\n",
       "\n",
       "    .dataframe thead th {\n",
       "        text-align: right;\n",
       "    }\n",
       "</style>\n",
       "<table border=\"1\" class=\"dataframe\">\n",
       "  <thead>\n",
       "    <tr style=\"text-align: right;\">\n",
       "      <th></th>\n",
       "      <th>movie id</th>\n",
       "      <th>movie title</th>\n",
       "      <th>release date</th>\n",
       "      <th>video release date</th>\n",
       "      <th>IMDb URL</th>\n",
       "      <th>unknown</th>\n",
       "      <th>Action</th>\n",
       "      <th>Adventure</th>\n",
       "      <th>Animation</th>\n",
       "      <th>Children</th>\n",
       "      <th>...</th>\n",
       "      <th>Fantasy</th>\n",
       "      <th>Film-Noir</th>\n",
       "      <th>Horror</th>\n",
       "      <th>Musical</th>\n",
       "      <th>Mystery</th>\n",
       "      <th>Romance</th>\n",
       "      <th>Sci-Fi</th>\n",
       "      <th>Thriller</th>\n",
       "      <th>War</th>\n",
       "      <th>Western</th>\n",
       "    </tr>\n",
       "  </thead>\n",
       "  <tbody>\n",
       "    <tr>\n",
       "      <th>0</th>\n",
       "      <td>1</td>\n",
       "      <td>Toy Story (1995)</td>\n",
       "      <td>01-Jan-1995</td>\n",
       "      <td>NaN</td>\n",
       "      <td>http://us.imdb.com/M/title-exact?Toy%20Story%2...</td>\n",
       "      <td>0</td>\n",
       "      <td>0</td>\n",
       "      <td>0</td>\n",
       "      <td>1</td>\n",
       "      <td>1</td>\n",
       "      <td>...</td>\n",
       "      <td>0</td>\n",
       "      <td>0</td>\n",
       "      <td>0</td>\n",
       "      <td>0</td>\n",
       "      <td>0</td>\n",
       "      <td>0</td>\n",
       "      <td>0</td>\n",
       "      <td>0</td>\n",
       "      <td>0</td>\n",
       "      <td>0</td>\n",
       "    </tr>\n",
       "    <tr>\n",
       "      <th>1</th>\n",
       "      <td>2</td>\n",
       "      <td>GoldenEye (1995)</td>\n",
       "      <td>01-Jan-1995</td>\n",
       "      <td>NaN</td>\n",
       "      <td>http://us.imdb.com/M/title-exact?GoldenEye%20(...</td>\n",
       "      <td>0</td>\n",
       "      <td>1</td>\n",
       "      <td>1</td>\n",
       "      <td>0</td>\n",
       "      <td>0</td>\n",
       "      <td>...</td>\n",
       "      <td>0</td>\n",
       "      <td>0</td>\n",
       "      <td>0</td>\n",
       "      <td>0</td>\n",
       "      <td>0</td>\n",
       "      <td>0</td>\n",
       "      <td>0</td>\n",
       "      <td>1</td>\n",
       "      <td>0</td>\n",
       "      <td>0</td>\n",
       "    </tr>\n",
       "    <tr>\n",
       "      <th>2</th>\n",
       "      <td>3</td>\n",
       "      <td>Four Rooms (1995)</td>\n",
       "      <td>01-Jan-1995</td>\n",
       "      <td>NaN</td>\n",
       "      <td>http://us.imdb.com/M/title-exact?Four%20Rooms%...</td>\n",
       "      <td>0</td>\n",
       "      <td>0</td>\n",
       "      <td>0</td>\n",
       "      <td>0</td>\n",
       "      <td>0</td>\n",
       "      <td>...</td>\n",
       "      <td>0</td>\n",
       "      <td>0</td>\n",
       "      <td>0</td>\n",
       "      <td>0</td>\n",
       "      <td>0</td>\n",
       "      <td>0</td>\n",
       "      <td>0</td>\n",
       "      <td>1</td>\n",
       "      <td>0</td>\n",
       "      <td>0</td>\n",
       "    </tr>\n",
       "    <tr>\n",
       "      <th>3</th>\n",
       "      <td>4</td>\n",
       "      <td>Get Shorty (1995)</td>\n",
       "      <td>01-Jan-1995</td>\n",
       "      <td>NaN</td>\n",
       "      <td>http://us.imdb.com/M/title-exact?Get%20Shorty%...</td>\n",
       "      <td>0</td>\n",
       "      <td>1</td>\n",
       "      <td>0</td>\n",
       "      <td>0</td>\n",
       "      <td>0</td>\n",
       "      <td>...</td>\n",
       "      <td>0</td>\n",
       "      <td>0</td>\n",
       "      <td>0</td>\n",
       "      <td>0</td>\n",
       "      <td>0</td>\n",
       "      <td>0</td>\n",
       "      <td>0</td>\n",
       "      <td>0</td>\n",
       "      <td>0</td>\n",
       "      <td>0</td>\n",
       "    </tr>\n",
       "    <tr>\n",
       "      <th>4</th>\n",
       "      <td>5</td>\n",
       "      <td>Copycat (1995)</td>\n",
       "      <td>01-Jan-1995</td>\n",
       "      <td>NaN</td>\n",
       "      <td>http://us.imdb.com/M/title-exact?Copycat%20(1995)</td>\n",
       "      <td>0</td>\n",
       "      <td>0</td>\n",
       "      <td>0</td>\n",
       "      <td>0</td>\n",
       "      <td>0</td>\n",
       "      <td>...</td>\n",
       "      <td>0</td>\n",
       "      <td>0</td>\n",
       "      <td>0</td>\n",
       "      <td>0</td>\n",
       "      <td>0</td>\n",
       "      <td>0</td>\n",
       "      <td>0</td>\n",
       "      <td>1</td>\n",
       "      <td>0</td>\n",
       "      <td>0</td>\n",
       "    </tr>\n",
       "    <tr>\n",
       "      <th>...</th>\n",
       "      <td>...</td>\n",
       "      <td>...</td>\n",
       "      <td>...</td>\n",
       "      <td>...</td>\n",
       "      <td>...</td>\n",
       "      <td>...</td>\n",
       "      <td>...</td>\n",
       "      <td>...</td>\n",
       "      <td>...</td>\n",
       "      <td>...</td>\n",
       "      <td>...</td>\n",
       "      <td>...</td>\n",
       "      <td>...</td>\n",
       "      <td>...</td>\n",
       "      <td>...</td>\n",
       "      <td>...</td>\n",
       "      <td>...</td>\n",
       "      <td>...</td>\n",
       "      <td>...</td>\n",
       "      <td>...</td>\n",
       "      <td>...</td>\n",
       "    </tr>\n",
       "    <tr>\n",
       "      <th>1677</th>\n",
       "      <td>1678</td>\n",
       "      <td>Mat' i syn (1997)</td>\n",
       "      <td>06-Feb-1998</td>\n",
       "      <td>NaN</td>\n",
       "      <td>http://us.imdb.com/M/title-exact?Mat%27+i+syn+...</td>\n",
       "      <td>0</td>\n",
       "      <td>0</td>\n",
       "      <td>0</td>\n",
       "      <td>0</td>\n",
       "      <td>0</td>\n",
       "      <td>...</td>\n",
       "      <td>0</td>\n",
       "      <td>0</td>\n",
       "      <td>0</td>\n",
       "      <td>0</td>\n",
       "      <td>0</td>\n",
       "      <td>0</td>\n",
       "      <td>0</td>\n",
       "      <td>0</td>\n",
       "      <td>0</td>\n",
       "      <td>0</td>\n",
       "    </tr>\n",
       "    <tr>\n",
       "      <th>1678</th>\n",
       "      <td>1679</td>\n",
       "      <td>B. Monkey (1998)</td>\n",
       "      <td>06-Feb-1998</td>\n",
       "      <td>NaN</td>\n",
       "      <td>http://us.imdb.com/M/title-exact?B%2E+Monkey+(...</td>\n",
       "      <td>0</td>\n",
       "      <td>0</td>\n",
       "      <td>0</td>\n",
       "      <td>0</td>\n",
       "      <td>0</td>\n",
       "      <td>...</td>\n",
       "      <td>0</td>\n",
       "      <td>0</td>\n",
       "      <td>0</td>\n",
       "      <td>0</td>\n",
       "      <td>0</td>\n",
       "      <td>1</td>\n",
       "      <td>0</td>\n",
       "      <td>1</td>\n",
       "      <td>0</td>\n",
       "      <td>0</td>\n",
       "    </tr>\n",
       "    <tr>\n",
       "      <th>1679</th>\n",
       "      <td>1680</td>\n",
       "      <td>Sliding Doors (1998)</td>\n",
       "      <td>01-Jan-1998</td>\n",
       "      <td>NaN</td>\n",
       "      <td>http://us.imdb.com/Title?Sliding+Doors+(1998)</td>\n",
       "      <td>0</td>\n",
       "      <td>0</td>\n",
       "      <td>0</td>\n",
       "      <td>0</td>\n",
       "      <td>0</td>\n",
       "      <td>...</td>\n",
       "      <td>0</td>\n",
       "      <td>0</td>\n",
       "      <td>0</td>\n",
       "      <td>0</td>\n",
       "      <td>0</td>\n",
       "      <td>1</td>\n",
       "      <td>0</td>\n",
       "      <td>0</td>\n",
       "      <td>0</td>\n",
       "      <td>0</td>\n",
       "    </tr>\n",
       "    <tr>\n",
       "      <th>1680</th>\n",
       "      <td>1681</td>\n",
       "      <td>You So Crazy (1994)</td>\n",
       "      <td>01-Jan-1994</td>\n",
       "      <td>NaN</td>\n",
       "      <td>http://us.imdb.com/M/title-exact?You%20So%20Cr...</td>\n",
       "      <td>0</td>\n",
       "      <td>0</td>\n",
       "      <td>0</td>\n",
       "      <td>0</td>\n",
       "      <td>0</td>\n",
       "      <td>...</td>\n",
       "      <td>0</td>\n",
       "      <td>0</td>\n",
       "      <td>0</td>\n",
       "      <td>0</td>\n",
       "      <td>0</td>\n",
       "      <td>0</td>\n",
       "      <td>0</td>\n",
       "      <td>0</td>\n",
       "      <td>0</td>\n",
       "      <td>0</td>\n",
       "    </tr>\n",
       "    <tr>\n",
       "      <th>1681</th>\n",
       "      <td>1682</td>\n",
       "      <td>Scream of Stone (Schrei aus Stein) (1991)</td>\n",
       "      <td>08-Mar-1996</td>\n",
       "      <td>NaN</td>\n",
       "      <td>http://us.imdb.com/M/title-exact?Schrei%20aus%...</td>\n",
       "      <td>0</td>\n",
       "      <td>0</td>\n",
       "      <td>0</td>\n",
       "      <td>0</td>\n",
       "      <td>0</td>\n",
       "      <td>...</td>\n",
       "      <td>0</td>\n",
       "      <td>0</td>\n",
       "      <td>0</td>\n",
       "      <td>0</td>\n",
       "      <td>0</td>\n",
       "      <td>0</td>\n",
       "      <td>0</td>\n",
       "      <td>0</td>\n",
       "      <td>0</td>\n",
       "      <td>0</td>\n",
       "    </tr>\n",
       "  </tbody>\n",
       "</table>\n",
       "<p>1682 rows × 24 columns</p>\n",
       "</div>"
      ],
      "text/plain": [
       "      movie id                                movie title release date  \\\n",
       "0            1                           Toy Story (1995)  01-Jan-1995   \n",
       "1            2                           GoldenEye (1995)  01-Jan-1995   \n",
       "2            3                          Four Rooms (1995)  01-Jan-1995   \n",
       "3            4                          Get Shorty (1995)  01-Jan-1995   \n",
       "4            5                             Copycat (1995)  01-Jan-1995   \n",
       "...        ...                                        ...          ...   \n",
       "1677      1678                          Mat' i syn (1997)  06-Feb-1998   \n",
       "1678      1679                           B. Monkey (1998)  06-Feb-1998   \n",
       "1679      1680                       Sliding Doors (1998)  01-Jan-1998   \n",
       "1680      1681                        You So Crazy (1994)  01-Jan-1994   \n",
       "1681      1682  Scream of Stone (Schrei aus Stein) (1991)  08-Mar-1996   \n",
       "\n",
       "      video release date                                           IMDb URL  \\\n",
       "0                    NaN  http://us.imdb.com/M/title-exact?Toy%20Story%2...   \n",
       "1                    NaN  http://us.imdb.com/M/title-exact?GoldenEye%20(...   \n",
       "2                    NaN  http://us.imdb.com/M/title-exact?Four%20Rooms%...   \n",
       "3                    NaN  http://us.imdb.com/M/title-exact?Get%20Shorty%...   \n",
       "4                    NaN  http://us.imdb.com/M/title-exact?Copycat%20(1995)   \n",
       "...                  ...                                                ...   \n",
       "1677                 NaN  http://us.imdb.com/M/title-exact?Mat%27+i+syn+...   \n",
       "1678                 NaN  http://us.imdb.com/M/title-exact?B%2E+Monkey+(...   \n",
       "1679                 NaN      http://us.imdb.com/Title?Sliding+Doors+(1998)   \n",
       "1680                 NaN  http://us.imdb.com/M/title-exact?You%20So%20Cr...   \n",
       "1681                 NaN  http://us.imdb.com/M/title-exact?Schrei%20aus%...   \n",
       "\n",
       "      unknown  Action  Adventure  Animation  Children  ...  Fantasy  \\\n",
       "0           0       0          0          1         1  ...        0   \n",
       "1           0       1          1          0         0  ...        0   \n",
       "2           0       0          0          0         0  ...        0   \n",
       "3           0       1          0          0         0  ...        0   \n",
       "4           0       0          0          0         0  ...        0   \n",
       "...       ...     ...        ...        ...       ...  ...      ...   \n",
       "1677        0       0          0          0         0  ...        0   \n",
       "1678        0       0          0          0         0  ...        0   \n",
       "1679        0       0          0          0         0  ...        0   \n",
       "1680        0       0          0          0         0  ...        0   \n",
       "1681        0       0          0          0         0  ...        0   \n",
       "\n",
       "      Film-Noir  Horror  Musical  Mystery  Romance  Sci-Fi  Thriller  War  \\\n",
       "0             0       0        0        0        0       0         0    0   \n",
       "1             0       0        0        0        0       0         1    0   \n",
       "2             0       0        0        0        0       0         1    0   \n",
       "3             0       0        0        0        0       0         0    0   \n",
       "4             0       0        0        0        0       0         1    0   \n",
       "...         ...     ...      ...      ...      ...     ...       ...  ...   \n",
       "1677          0       0        0        0        0       0         0    0   \n",
       "1678          0       0        0        0        1       0         1    0   \n",
       "1679          0       0        0        0        1       0         0    0   \n",
       "1680          0       0        0        0        0       0         0    0   \n",
       "1681          0       0        0        0        0       0         0    0   \n",
       "\n",
       "      Western  \n",
       "0           0  \n",
       "1           0  \n",
       "2           0  \n",
       "3           0  \n",
       "4           0  \n",
       "...       ...  \n",
       "1677        0  \n",
       "1678        0  \n",
       "1679        0  \n",
       "1680        0  \n",
       "1681        0  \n",
       "\n",
       "[1682 rows x 24 columns]"
      ]
     },
     "execution_count": 10,
     "metadata": {},
     "output_type": "execute_result"
    }
   ],
   "source": [
    "items_dataset = pd.read_csv('d:\\\\ml-100k\\\\u.item', sep='|',header=None,names=column_names2,encoding='latin-1')\n",
    "items_dataset"
   ]
  },
  {
   "cell_type": "code",
   "execution_count": 11,
   "metadata": {
    "colab": {
     "base_uri": "https://localhost:8080/",
     "height": 195
    },
    "id": "VFhUx9zsbQpD",
    "outputId": "d6bf0a5a-4dd8-4923-9b91-c50a04bef417"
   },
   "outputs": [
    {
     "data": {
      "text/html": [
       "<div>\n",
       "<style scoped>\n",
       "    .dataframe tbody tr th:only-of-type {\n",
       "        vertical-align: middle;\n",
       "    }\n",
       "\n",
       "    .dataframe tbody tr th {\n",
       "        vertical-align: top;\n",
       "    }\n",
       "\n",
       "    .dataframe thead th {\n",
       "        text-align: right;\n",
       "    }\n",
       "</style>\n",
       "<table border=\"1\" class=\"dataframe\">\n",
       "  <thead>\n",
       "    <tr style=\"text-align: right;\">\n",
       "      <th></th>\n",
       "      <th>movie id</th>\n",
       "      <th>movie title</th>\n",
       "    </tr>\n",
       "  </thead>\n",
       "  <tbody>\n",
       "    <tr>\n",
       "      <th>0</th>\n",
       "      <td>1</td>\n",
       "      <td>Toy Story (1995)</td>\n",
       "    </tr>\n",
       "    <tr>\n",
       "      <th>1</th>\n",
       "      <td>2</td>\n",
       "      <td>GoldenEye (1995)</td>\n",
       "    </tr>\n",
       "    <tr>\n",
       "      <th>2</th>\n",
       "      <td>3</td>\n",
       "      <td>Four Rooms (1995)</td>\n",
       "    </tr>\n",
       "    <tr>\n",
       "      <th>3</th>\n",
       "      <td>4</td>\n",
       "      <td>Get Shorty (1995)</td>\n",
       "    </tr>\n",
       "    <tr>\n",
       "      <th>4</th>\n",
       "      <td>5</td>\n",
       "      <td>Copycat (1995)</td>\n",
       "    </tr>\n",
       "  </tbody>\n",
       "</table>\n",
       "</div>"
      ],
      "text/plain": [
       "   movie id        movie title\n",
       "0         1   Toy Story (1995)\n",
       "1         2   GoldenEye (1995)\n",
       "2         3  Four Rooms (1995)\n",
       "3         4  Get Shorty (1995)\n",
       "4         5     Copycat (1995)"
      ]
     },
     "execution_count": 11,
     "metadata": {},
     "output_type": "execute_result"
    }
   ],
   "source": [
    "movie_dataset = items_dataset[['movie id','movie title']]\n",
    "movie_dataset.head()"
   ]
  },
  {
   "cell_type": "markdown",
   "metadata": {
    "id": "Wr2cmp5impC7"
   },
   "source": [
    "Looking at length of original items_dataset and length of unique combination of rows in items_dataset after removing movie id column"
   ]
  },
  {
   "cell_type": "code",
   "execution_count": 12,
   "metadata": {
    "colab": {
     "base_uri": "https://localhost:8080/",
     "height": 34
    },
    "id": "iIwj68LWGeQX",
    "outputId": "1df25549-276e-49fc-950f-139f79f493e2"
   },
   "outputs": [
    {
     "data": {
      "text/plain": [
       "(1664, 1682)"
      ]
     },
     "execution_count": 12,
     "metadata": {},
     "output_type": "execute_result"
    }
   ],
   "source": [
    "## looking at length of original items_dataset and length of unique combination of rows in items_dataset after removing movie id column\n",
    "len(items_dataset.groupby(by=column_names2[1:])),len(items_dataset)"
   ]
  },
  {
   "cell_type": "markdown",
   "metadata": {
    "id": "AfBNIWO7mqjc"
   },
   "source": [
    "We can see there are 18 extra movie id's for already mapped movie title and the same duplicate movie id is assigned to the user in the user-item dataset."
   ]
  },
  {
   "cell_type": "markdown",
   "metadata": {
    "id": "nwdvxUdkbiPK"
   },
   "source": [
    "## Merging required datasets"
   ]
  },
  {
   "cell_type": "code",
   "execution_count": 13,
   "metadata": {
    "colab": {
     "base_uri": "https://localhost:8080/",
     "height": 195
    },
    "id": "-fKazhqFbcAq",
    "outputId": "636990d0-c78b-4b1e-f269-dec12c317de3"
   },
   "outputs": [
    {
     "data": {
      "text/html": [
       "<div>\n",
       "<style scoped>\n",
       "    .dataframe tbody tr th:only-of-type {\n",
       "        vertical-align: middle;\n",
       "    }\n",
       "\n",
       "    .dataframe tbody tr th {\n",
       "        vertical-align: top;\n",
       "    }\n",
       "\n",
       "    .dataframe thead th {\n",
       "        text-align: right;\n",
       "    }\n",
       "</style>\n",
       "<table border=\"1\" class=\"dataframe\">\n",
       "  <thead>\n",
       "    <tr style=\"text-align: right;\">\n",
       "      <th></th>\n",
       "      <th>user id</th>\n",
       "      <th>movie id</th>\n",
       "      <th>rating</th>\n",
       "      <th>timestamp</th>\n",
       "      <th>movie title</th>\n",
       "    </tr>\n",
       "  </thead>\n",
       "  <tbody>\n",
       "    <tr>\n",
       "      <th>0</th>\n",
       "      <td>196</td>\n",
       "      <td>242</td>\n",
       "      <td>3</td>\n",
       "      <td>881250949</td>\n",
       "      <td>Kolya (1996)</td>\n",
       "    </tr>\n",
       "    <tr>\n",
       "      <th>1</th>\n",
       "      <td>63</td>\n",
       "      <td>242</td>\n",
       "      <td>3</td>\n",
       "      <td>875747190</td>\n",
       "      <td>Kolya (1996)</td>\n",
       "    </tr>\n",
       "    <tr>\n",
       "      <th>2</th>\n",
       "      <td>226</td>\n",
       "      <td>242</td>\n",
       "      <td>5</td>\n",
       "      <td>883888671</td>\n",
       "      <td>Kolya (1996)</td>\n",
       "    </tr>\n",
       "    <tr>\n",
       "      <th>3</th>\n",
       "      <td>154</td>\n",
       "      <td>242</td>\n",
       "      <td>3</td>\n",
       "      <td>879138235</td>\n",
       "      <td>Kolya (1996)</td>\n",
       "    </tr>\n",
       "    <tr>\n",
       "      <th>4</th>\n",
       "      <td>306</td>\n",
       "      <td>242</td>\n",
       "      <td>5</td>\n",
       "      <td>876503793</td>\n",
       "      <td>Kolya (1996)</td>\n",
       "    </tr>\n",
       "  </tbody>\n",
       "</table>\n",
       "</div>"
      ],
      "text/plain": [
       "   user id  movie id  rating  timestamp   movie title\n",
       "0      196       242       3  881250949  Kolya (1996)\n",
       "1       63       242       3  875747190  Kolya (1996)\n",
       "2      226       242       5  883888671  Kolya (1996)\n",
       "3      154       242       3  879138235  Kolya (1996)\n",
       "4      306       242       5  876503793  Kolya (1996)"
      ]
     },
     "execution_count": 13,
     "metadata": {},
     "output_type": "execute_result"
    }
   ],
   "source": [
    "merged_dataset = pd.merge(dataset, movie_dataset, how='inner', on='movie id')\n",
    "merged_dataset.head()"
   ]
  },
  {
   "cell_type": "markdown",
   "metadata": {
    "id": "ELmLkEQBnxv1"
   },
   "source": [
    "A dataset is created from the existing merged dataset by grouping the unique user id and movie title combination and the ratings by a user to the same movie in different instances (timestamps) are averaged and stored in the new dataset."
   ]
  },
  {
   "cell_type": "markdown",
   "metadata": {
    "id": "zd2jR0cFouee"
   },
   "source": [
    "Example of a multiple rating scenario by an user to a specific movie:"
   ]
  },
  {
   "cell_type": "code",
   "execution_count": 14,
   "metadata": {
    "colab": {
     "base_uri": "https://localhost:8080/",
     "height": 106
    },
    "id": "HQ6owSOikYMq",
    "outputId": "496ac596-719b-4ad3-bf8f-79cae6e0e88d"
   },
   "outputs": [
    {
     "data": {
      "text/html": [
       "<div>\n",
       "<style scoped>\n",
       "    .dataframe tbody tr th:only-of-type {\n",
       "        vertical-align: middle;\n",
       "    }\n",
       "\n",
       "    .dataframe tbody tr th {\n",
       "        vertical-align: top;\n",
       "    }\n",
       "\n",
       "    .dataframe thead th {\n",
       "        text-align: right;\n",
       "    }\n",
       "</style>\n",
       "<table border=\"1\" class=\"dataframe\">\n",
       "  <thead>\n",
       "    <tr style=\"text-align: right;\">\n",
       "      <th></th>\n",
       "      <th>user id</th>\n",
       "      <th>movie id</th>\n",
       "      <th>rating</th>\n",
       "      <th>timestamp</th>\n",
       "      <th>movie title</th>\n",
       "    </tr>\n",
       "  </thead>\n",
       "  <tbody>\n",
       "    <tr>\n",
       "      <th>4800</th>\n",
       "      <td>894</td>\n",
       "      <td>246</td>\n",
       "      <td>4</td>\n",
       "      <td>882404137</td>\n",
       "      <td>Chasing Amy (1997)</td>\n",
       "    </tr>\n",
       "    <tr>\n",
       "      <th>22340</th>\n",
       "      <td>894</td>\n",
       "      <td>268</td>\n",
       "      <td>3</td>\n",
       "      <td>879896041</td>\n",
       "      <td>Chasing Amy (1997)</td>\n",
       "    </tr>\n",
       "  </tbody>\n",
       "</table>\n",
       "</div>"
      ],
      "text/plain": [
       "       user id  movie id  rating  timestamp         movie title\n",
       "4800       894       246       4  882404137  Chasing Amy (1997)\n",
       "22340      894       268       3  879896041  Chasing Amy (1997)"
      ]
     },
     "execution_count": 14,
     "metadata": {},
     "output_type": "execute_result"
    }
   ],
   "source": [
    "merged_dataset[(merged_dataset['movie title'] == 'Chasing Amy (1997)') & (merged_dataset['user id'] == 894)]"
   ]
  },
  {
   "cell_type": "code",
   "execution_count": 15,
   "metadata": {
    "colab": {
     "base_uri": "https://localhost:8080/",
     "height": 195
    },
    "id": "p5XS_3dPhCVb",
    "outputId": "f122409a-556b-4dd7-eeb0-1c98b280c81d"
   },
   "outputs": [
    {
     "data": {
      "text/html": [
       "<div>\n",
       "<style scoped>\n",
       "    .dataframe tbody tr th:only-of-type {\n",
       "        vertical-align: middle;\n",
       "    }\n",
       "\n",
       "    .dataframe tbody tr th {\n",
       "        vertical-align: top;\n",
       "    }\n",
       "\n",
       "    .dataframe thead th {\n",
       "        text-align: right;\n",
       "    }\n",
       "</style>\n",
       "<table border=\"1\" class=\"dataframe\">\n",
       "  <thead>\n",
       "    <tr style=\"text-align: right;\">\n",
       "      <th></th>\n",
       "      <th>user id</th>\n",
       "      <th>movie title</th>\n",
       "      <th>rating</th>\n",
       "    </tr>\n",
       "  </thead>\n",
       "  <tbody>\n",
       "    <tr>\n",
       "      <th>0</th>\n",
       "      <td>1</td>\n",
       "      <td>101 Dalmatians (1996)</td>\n",
       "      <td>2.0</td>\n",
       "    </tr>\n",
       "    <tr>\n",
       "      <th>1</th>\n",
       "      <td>1</td>\n",
       "      <td>12 Angry Men (1957)</td>\n",
       "      <td>5.0</td>\n",
       "    </tr>\n",
       "    <tr>\n",
       "      <th>2</th>\n",
       "      <td>1</td>\n",
       "      <td>20,000 Leagues Under the Sea (1954)</td>\n",
       "      <td>3.0</td>\n",
       "    </tr>\n",
       "    <tr>\n",
       "      <th>3</th>\n",
       "      <td>1</td>\n",
       "      <td>2001: A Space Odyssey (1968)</td>\n",
       "      <td>4.0</td>\n",
       "    </tr>\n",
       "    <tr>\n",
       "      <th>4</th>\n",
       "      <td>1</td>\n",
       "      <td>Abyss, The (1989)</td>\n",
       "      <td>3.0</td>\n",
       "    </tr>\n",
       "  </tbody>\n",
       "</table>\n",
       "</div>"
      ],
      "text/plain": [
       "   user id                          movie title  rating\n",
       "0        1                101 Dalmatians (1996)     2.0\n",
       "1        1                  12 Angry Men (1957)     5.0\n",
       "2        1  20,000 Leagues Under the Sea (1954)     3.0\n",
       "3        1         2001: A Space Odyssey (1968)     4.0\n",
       "4        1                    Abyss, The (1989)     3.0"
      ]
     },
     "execution_count": 15,
     "metadata": {},
     "output_type": "execute_result"
    }
   ],
   "source": [
    "refined_dataset = merged_dataset.groupby(by=['user id','movie title'], as_index=False).agg({\"rating\":\"mean\"})\n",
    "\n",
    "refined_dataset.head()"
   ]
  },
  {
   "cell_type": "markdown",
   "metadata": {
    "id": "W_HNZ2j9dP5O"
   },
   "source": [
    "## Exploratory data analysis\n",
    "\n",
    "*   Plot the counts of each rating\n",
    "*   Plot rating frequency of each movie"
   ]
  },
  {
   "cell_type": "markdown",
   "metadata": {
    "id": "i_cInoHOrk4o"
   },
   "source": [
    "**Plot the counts of each rating**\n",
    "\n",
    "we first need to get the counts of each rating from ratings data"
   ]
  },
  {
   "cell_type": "code",
   "execution_count": 16,
   "metadata": {
    "colab": {
     "base_uri": "https://localhost:8080/",
     "height": 50
    },
    "id": "qkoNLoyabl42",
    "outputId": "e71b61e0-1106-4cc1-f4af-b4cbce4d6400"
   },
   "outputs": [
    {
     "name": "stdout",
     "output_type": "stream",
     "text": [
      "Unique number of users in the dataset: 943\n",
      "Unique number of movies in the dataset: 1664\n"
     ]
    }
   ],
   "source": [
    "# num_users = len(refined_dataset.rating.unique())\n",
    "# num_items = len(refined_dataset.movieId.unique())\n",
    "num_users = len(refined_dataset['user id'].value_counts())\n",
    "num_items = len(refined_dataset['movie title'].value_counts())\n",
    "print('Unique number of users in the dataset: {}'.format(num_users))\n",
    "print('Unique number of movies in the dataset: {}'.format(num_items))\n"
   ]
  },
  {
   "cell_type": "code",
   "execution_count": 18,
   "metadata": {
    "colab": {
     "base_uri": "https://localhost:8080/",
     "height": 343
    },
    "id": "Ea3fORd-r24Z",
    "outputId": "1aed76ea-4851-436e-943a-1eb45473905b"
   },
   "outputs": [
    {
     "data": {
      "text/html": [
       "<div>\n",
       "<style scoped>\n",
       "    .dataframe tbody tr th:only-of-type {\n",
       "        vertical-align: middle;\n",
       "    }\n",
       "\n",
       "    .dataframe tbody tr th {\n",
       "        vertical-align: top;\n",
       "    }\n",
       "\n",
       "    .dataframe thead th {\n",
       "        text-align: right;\n",
       "    }\n",
       "</style>\n",
       "<table border=\"1\" class=\"dataframe\">\n",
       "  <thead>\n",
       "    <tr style=\"text-align: right;\">\n",
       "      <th></th>\n",
       "      <th>count</th>\n",
       "    </tr>\n",
       "    <tr>\n",
       "      <th>rating</th>\n",
       "      <th></th>\n",
       "    </tr>\n",
       "  </thead>\n",
       "  <tbody>\n",
       "    <tr>\n",
       "      <th>1.0</th>\n",
       "      <td>6083</td>\n",
       "    </tr>\n",
       "    <tr>\n",
       "      <th>1.5</th>\n",
       "      <td>3</td>\n",
       "    </tr>\n",
       "    <tr>\n",
       "      <th>2.0</th>\n",
       "      <td>11334</td>\n",
       "    </tr>\n",
       "    <tr>\n",
       "      <th>2.5</th>\n",
       "      <td>6</td>\n",
       "    </tr>\n",
       "    <tr>\n",
       "      <th>3.0</th>\n",
       "      <td>27060</td>\n",
       "    </tr>\n",
       "    <tr>\n",
       "      <th>3.5</th>\n",
       "      <td>19</td>\n",
       "    </tr>\n",
       "    <tr>\n",
       "      <th>4.0</th>\n",
       "      <td>34042</td>\n",
       "    </tr>\n",
       "    <tr>\n",
       "      <th>4.5</th>\n",
       "      <td>16</td>\n",
       "    </tr>\n",
       "    <tr>\n",
       "      <th>5.0</th>\n",
       "      <td>21130</td>\n",
       "    </tr>\n",
       "  </tbody>\n",
       "</table>\n",
       "</div>"
      ],
      "text/plain": [
       "        count\n",
       "rating       \n",
       "1.0      6083\n",
       "1.5         3\n",
       "2.0     11334\n",
       "2.5         6\n",
       "3.0     27060\n",
       "3.5        19\n",
       "4.0     34042\n",
       "4.5        16\n",
       "5.0     21130"
      ]
     },
     "execution_count": 18,
     "metadata": {},
     "output_type": "execute_result"
    }
   ],
   "source": [
    "rating_count_df = pd.DataFrame(refined_dataset.groupby(['rating']).size(), columns=['count'])\n",
    "rating_count_df"
   ]
  },
  {
   "cell_type": "code",
   "execution_count": 19,
   "metadata": {
    "colab": {
     "base_uri": "https://localhost:8080/",
     "height": 539
    },
    "id": "BbcBMiiC0GIl",
    "outputId": "b777075a-17f1-44a5-d239-808d729274a4"
   },
   "outputs": [
    {
     "data": {
      "text/plain": [
       "Text(0, 0.5, 'number of ratings')"
      ]
     },
     "execution_count": 19,
     "metadata": {},
     "output_type": "execute_result"
    },
    {
     "data": {
      "image/png": "[encoded data removed]",
      "text/plain": [
       "<Figure size 1200x800 with 1 Axes>"
      ]
     },
     "metadata": {},
     "output_type": "display_data"
    }
   ],
   "source": [
    "ax = rating_count_df.reset_index().rename(columns={'index': 'rating score'}).plot('rating','count', 'bar',\n",
    "    figsize=(12, 8),\n",
    "    title='Count for Each Rating Score',\n",
    "    fontsize=12)\n",
    "\n",
    "ax.set_xlabel(\"movie rating score\")\n",
    "ax.set_ylabel(\"number of ratings\")"
   ]
  },
  {
   "cell_type": "markdown",
   "metadata": {
    "id": "zM7NoOXG1vYU"
   },
   "source": [
    "We can see that number of 1.5, 2.5, 3.5, 4.5 ratings by the users are comparitively negligible."
   ]
  },
  {
   "cell_type": "markdown",
   "metadata": {
    "id": "cXYlt0OFxP1z"
   },
   "source": [
    "Ratings for the movies not seen by a user is by default considered as 0. Lets calculate and add it to the existing dataframe."
   ]
  },
  {
   "cell_type": "code",
   "execution_count": 25,
   "metadata": {
    "colab": {
     "base_uri": "https://localhost:8080/",
     "height": 34
    },
    "id": "lgyPInMAwQAv",
    "outputId": "10191306-986d-469f-dd46-5be593208c7f"
   },
   "outputs": [
    {
     "data": {
      "text/plain": [
       "1469459"
      ]
     },
     "execution_count": 25,
     "metadata": {},
     "output_type": "execute_result"
    }
   ],
   "source": [
    "total_count = num_items * num_users\n",
    "zero_count = total_count-refined_dataset.shape[0]\n",
    "zero_count"
   ]
  },
  {
   "cell_type": "code",
   "execution_count": 55,
   "metadata": {
    "colab": {
     "base_uri": "https://localhost:8080/",
     "height": 343
    },
    "id": "avyj8_8ewjA_",
    "outputId": "8e6b1763-1ea6-45ed-e86c-8ec1216e1fe4"
   },
   "outputs": [
    {
     "data": {
      "text/html": [
       "<div>\n",
       "<style scoped>\n",
       "    .dataframe tbody tr th:only-of-type {\n",
       "        vertical-align: middle;\n",
       "    }\n",
       "\n",
       "    .dataframe tbody tr th {\n",
       "        vertical-align: top;\n",
       "    }\n",
       "\n",
       "    .dataframe thead th {\n",
       "        text-align: right;\n",
       "    }\n",
       "</style>\n",
       "<table border=\"1\" class=\"dataframe\">\n",
       "  <thead>\n",
       "    <tr style=\"text-align: right;\">\n",
       "      <th></th>\n",
       "      <th>rating score</th>\n",
       "      <th>rating</th>\n",
       "      <th>count</th>\n",
       "      <th>log_count</th>\n",
       "    </tr>\n",
       "  </thead>\n",
       "  <tbody>\n",
       "    <tr>\n",
       "      <th>0</th>\n",
       "      <td>0</td>\n",
       "      <td>1.0</td>\n",
       "      <td>6083</td>\n",
       "      <td>8.713253</td>\n",
       "    </tr>\n",
       "    <tr>\n",
       "      <th>1</th>\n",
       "      <td>1</td>\n",
       "      <td>1.5</td>\n",
       "      <td>3</td>\n",
       "      <td>1.098612</td>\n",
       "    </tr>\n",
       "    <tr>\n",
       "      <th>2</th>\n",
       "      <td>2</td>\n",
       "      <td>2.0</td>\n",
       "      <td>11334</td>\n",
       "      <td>9.335562</td>\n",
       "    </tr>\n",
       "    <tr>\n",
       "      <th>3</th>\n",
       "      <td>3</td>\n",
       "      <td>2.5</td>\n",
       "      <td>6</td>\n",
       "      <td>1.791759</td>\n",
       "    </tr>\n",
       "    <tr>\n",
       "      <th>4</th>\n",
       "      <td>4</td>\n",
       "      <td>3.0</td>\n",
       "      <td>27060</td>\n",
       "      <td>10.205812</td>\n",
       "    </tr>\n",
       "    <tr>\n",
       "      <th>5</th>\n",
       "      <td>5</td>\n",
       "      <td>3.5</td>\n",
       "      <td>19</td>\n",
       "      <td>2.944439</td>\n",
       "    </tr>\n",
       "    <tr>\n",
       "      <th>6</th>\n",
       "      <td>6</td>\n",
       "      <td>4.0</td>\n",
       "      <td>34042</td>\n",
       "      <td>10.435350</td>\n",
       "    </tr>\n",
       "    <tr>\n",
       "      <th>7</th>\n",
       "      <td>7</td>\n",
       "      <td>4.5</td>\n",
       "      <td>16</td>\n",
       "      <td>2.772589</td>\n",
       "    </tr>\n",
       "    <tr>\n",
       "      <th>8</th>\n",
       "      <td>8</td>\n",
       "      <td>5.0</td>\n",
       "      <td>21130</td>\n",
       "      <td>9.958449</td>\n",
       "    </tr>\n",
       "  </tbody>\n",
       "</table>\n",
       "</div>"
      ],
      "text/plain": [
       "   rating score  rating  count  log_count\n",
       "0             0     1.0   6083   8.713253\n",
       "1             1     1.5      3   1.098612\n",
       "2             2     2.0  11334   9.335562\n",
       "3             3     2.5      6   1.791759\n",
       "4             4     3.0  27060  10.205812\n",
       "5             5     3.5     19   2.944439\n",
       "6             6     4.0  34042  10.435350\n",
       "7             7     4.5     16   2.772589\n",
       "8             8     5.0  21130   9.958449"
      ]
     },
     "execution_count": 55,
     "metadata": {},
     "output_type": "execute_result"
    }
   ],
   "source": [
    "# append counts of zero rating to df_ratings_cnt\n",
    "#rating_count_df = rating_count_df.append(pd.DataFrame({'count': zero_count}, index=[0.0]),verify_integrity=True,).sort_index()\n",
    "#rating_count_df\n",
    "pd.concat([rating_count_df, pd.DataFrame({'count': zero_count}, index=[0.0])], ignore_index=True)\n",
    "rating_count_df"
   ]
  },
  {
   "cell_type": "markdown",
   "metadata": {
    "id": "Ofd8LQcVxvYA"
   },
   "source": [
    "Number of times no rating was given (forged as 0 in this case) is a lot more than other ratings."
   ]
  },
  {
   "cell_type": "markdown",
   "metadata": {
    "id": "f7ngnrerysBV"
   },
   "source": [
    "So let's take log transform for count values and then we can plot them to compare"
   ]
  },
  {
   "cell_type": "code",
   "execution_count": 56,
   "metadata": {
    "colab": {
     "base_uri": "https://localhost:8080/",
     "height": 343
    },
    "id": "ACZx4jhKxtGH",
    "outputId": "43772624-dd68-4665-dab7-776df6fb0200"
   },
   "outputs": [
    {
     "data": {
      "text/html": [
       "<div>\n",
       "<style scoped>\n",
       "    .dataframe tbody tr th:only-of-type {\n",
       "        vertical-align: middle;\n",
       "    }\n",
       "\n",
       "    .dataframe tbody tr th {\n",
       "        vertical-align: top;\n",
       "    }\n",
       "\n",
       "    .dataframe thead th {\n",
       "        text-align: right;\n",
       "    }\n",
       "</style>\n",
       "<table border=\"1\" class=\"dataframe\">\n",
       "  <thead>\n",
       "    <tr style=\"text-align: right;\">\n",
       "      <th></th>\n",
       "      <th>rating score</th>\n",
       "      <th>rating</th>\n",
       "      <th>count</th>\n",
       "      <th>log_count</th>\n",
       "    </tr>\n",
       "  </thead>\n",
       "  <tbody>\n",
       "    <tr>\n",
       "      <th>0</th>\n",
       "      <td>0</td>\n",
       "      <td>1.0</td>\n",
       "      <td>6083</td>\n",
       "      <td>8.713253</td>\n",
       "    </tr>\n",
       "    <tr>\n",
       "      <th>1</th>\n",
       "      <td>1</td>\n",
       "      <td>1.5</td>\n",
       "      <td>3</td>\n",
       "      <td>1.098612</td>\n",
       "    </tr>\n",
       "    <tr>\n",
       "      <th>2</th>\n",
       "      <td>2</td>\n",
       "      <td>2.0</td>\n",
       "      <td>11334</td>\n",
       "      <td>9.335562</td>\n",
       "    </tr>\n",
       "    <tr>\n",
       "      <th>3</th>\n",
       "      <td>3</td>\n",
       "      <td>2.5</td>\n",
       "      <td>6</td>\n",
       "      <td>1.791759</td>\n",
       "    </tr>\n",
       "    <tr>\n",
       "      <th>4</th>\n",
       "      <td>4</td>\n",
       "      <td>3.0</td>\n",
       "      <td>27060</td>\n",
       "      <td>10.205812</td>\n",
       "    </tr>\n",
       "    <tr>\n",
       "      <th>5</th>\n",
       "      <td>5</td>\n",
       "      <td>3.5</td>\n",
       "      <td>19</td>\n",
       "      <td>2.944439</td>\n",
       "    </tr>\n",
       "    <tr>\n",
       "      <th>6</th>\n",
       "      <td>6</td>\n",
       "      <td>4.0</td>\n",
       "      <td>34042</td>\n",
       "      <td>10.435350</td>\n",
       "    </tr>\n",
       "    <tr>\n",
       "      <th>7</th>\n",
       "      <td>7</td>\n",
       "      <td>4.5</td>\n",
       "      <td>16</td>\n",
       "      <td>2.772589</td>\n",
       "    </tr>\n",
       "    <tr>\n",
       "      <th>8</th>\n",
       "      <td>8</td>\n",
       "      <td>5.0</td>\n",
       "      <td>21130</td>\n",
       "      <td>9.958449</td>\n",
       "    </tr>\n",
       "  </tbody>\n",
       "</table>\n",
       "</div>"
      ],
      "text/plain": [
       "   rating score  rating  count  log_count\n",
       "0             0     1.0   6083   8.713253\n",
       "1             1     1.5      3   1.098612\n",
       "2             2     2.0  11334   9.335562\n",
       "3             3     2.5      6   1.791759\n",
       "4             4     3.0  27060  10.205812\n",
       "5             5     3.5     19   2.944439\n",
       "6             6     4.0  34042  10.435350\n",
       "7             7     4.5     16   2.772589\n",
       "8             8     5.0  21130   9.958449"
      ]
     },
     "execution_count": 56,
     "metadata": {},
     "output_type": "execute_result"
    }
   ],
   "source": [
    "# add log count\n",
    "rating_count_df['log_count'] = np.log(rating_count_df['count'])\n",
    "rating_count_df"
   ]
  },
  {
   "cell_type": "code",
   "execution_count": 58,
   "metadata": {
    "colab": {
     "base_uri": "https://localhost:8080/",
     "height": 343
    },
    "id": "J2LE9usIy1Mz",
    "outputId": "b0bd7926-7d36-4e9d-ec5b-f9f090ef228d"
   },
   "outputs": [
    {
     "data": {
      "text/html": [
       "<div>\n",
       "<style scoped>\n",
       "    .dataframe tbody tr th:only-of-type {\n",
       "        vertical-align: middle;\n",
       "    }\n",
       "\n",
       "    .dataframe tbody tr th {\n",
       "        vertical-align: top;\n",
       "    }\n",
       "\n",
       "    .dataframe thead th {\n",
       "        text-align: right;\n",
       "    }\n",
       "</style>\n",
       "<table border=\"1\" class=\"dataframe\">\n",
       "  <thead>\n",
       "    <tr style=\"text-align: right;\">\n",
       "      <th></th>\n",
       "      <th>rating score</th>\n",
       "      <th>rating score</th>\n",
       "      <th>rating score</th>\n",
       "      <th>rating</th>\n",
       "      <th>count</th>\n",
       "      <th>log_count</th>\n",
       "    </tr>\n",
       "  </thead>\n",
       "  <tbody>\n",
       "    <tr>\n",
       "      <th>0</th>\n",
       "      <td>0</td>\n",
       "      <td>0</td>\n",
       "      <td>0</td>\n",
       "      <td>1.0</td>\n",
       "      <td>6083</td>\n",
       "      <td>8.713253</td>\n",
       "    </tr>\n",
       "    <tr>\n",
       "      <th>1</th>\n",
       "      <td>1</td>\n",
       "      <td>1</td>\n",
       "      <td>1</td>\n",
       "      <td>1.5</td>\n",
       "      <td>3</td>\n",
       "      <td>1.098612</td>\n",
       "    </tr>\n",
       "    <tr>\n",
       "      <th>2</th>\n",
       "      <td>2</td>\n",
       "      <td>2</td>\n",
       "      <td>2</td>\n",
       "      <td>2.0</td>\n",
       "      <td>11334</td>\n",
       "      <td>9.335562</td>\n",
       "    </tr>\n",
       "    <tr>\n",
       "      <th>3</th>\n",
       "      <td>3</td>\n",
       "      <td>3</td>\n",
       "      <td>3</td>\n",
       "      <td>2.5</td>\n",
       "      <td>6</td>\n",
       "      <td>1.791759</td>\n",
       "    </tr>\n",
       "    <tr>\n",
       "      <th>4</th>\n",
       "      <td>4</td>\n",
       "      <td>4</td>\n",
       "      <td>4</td>\n",
       "      <td>3.0</td>\n",
       "      <td>27060</td>\n",
       "      <td>10.205812</td>\n",
       "    </tr>\n",
       "    <tr>\n",
       "      <th>5</th>\n",
       "      <td>5</td>\n",
       "      <td>5</td>\n",
       "      <td>5</td>\n",
       "      <td>3.5</td>\n",
       "      <td>19</td>\n",
       "      <td>2.944439</td>\n",
       "    </tr>\n",
       "    <tr>\n",
       "      <th>6</th>\n",
       "      <td>6</td>\n",
       "      <td>6</td>\n",
       "      <td>6</td>\n",
       "      <td>4.0</td>\n",
       "      <td>34042</td>\n",
       "      <td>10.435350</td>\n",
       "    </tr>\n",
       "    <tr>\n",
       "      <th>7</th>\n",
       "      <td>7</td>\n",
       "      <td>7</td>\n",
       "      <td>7</td>\n",
       "      <td>4.5</td>\n",
       "      <td>16</td>\n",
       "      <td>2.772589</td>\n",
       "    </tr>\n",
       "    <tr>\n",
       "      <th>8</th>\n",
       "      <td>8</td>\n",
       "      <td>8</td>\n",
       "      <td>8</td>\n",
       "      <td>5.0</td>\n",
       "      <td>21130</td>\n",
       "      <td>9.958449</td>\n",
       "    </tr>\n",
       "  </tbody>\n",
       "</table>\n",
       "</div>"
      ],
      "text/plain": [
       "   rating score  rating score  rating score  rating  count  log_count\n",
       "0             0             0             0     1.0   6083   8.713253\n",
       "1             1             1             1     1.5      3   1.098612\n",
       "2             2             2             2     2.0  11334   9.335562\n",
       "3             3             3             3     2.5      6   1.791759\n",
       "4             4             4             4     3.0  27060  10.205812\n",
       "5             5             5             5     3.5     19   2.944439\n",
       "6             6             6             6     4.0  34042  10.435350\n",
       "7             7             7             7     4.5     16   2.772589\n",
       "8             8             8             8     5.0  21130   9.958449"
      ]
     },
     "execution_count": 58,
     "metadata": {},
     "output_type": "execute_result"
    }
   ],
   "source": [
    "rating_count_df = rating_count_df.reset_index().rename(columns={'index': 'rating score'})\n",
    "rating_count_df"
   ]
  },
  {
   "cell_type": "code",
   "execution_count": 73,
   "metadata": {
    "colab": {
     "base_uri": "https://localhost:8080/",
     "height": 539
    },
    "id": "vb5wAmR4zg7s",
    "outputId": "8b822e7a-4e99-460e-e78f-2e4fa97bf9af"
   },
   "outputs": [
    {
     "data": {
      "text/plain": [
       "Text(0, 0.5, 'number of ratings')"
      ]
     },
     "execution_count": 73,
     "metadata": {},
     "output_type": "execute_result"
    },
    {
     "data": {
      "image/png": "[encoded data removed]",
      "text/plain": [
       "<Figure size 1200x800 with 1 Axes>"
      ]
     },
     "metadata": {},
     "output_type": "display_data"
    }
   ],
   "source": [
    "ax = rating_count_df.plot('rating', 'log_count', 'bar', figsize=(12, 8),\n",
    "    title='Count for Each Rating Score (in Log Scale)',\n",
    "    logy=True,\n",
    "    fontsize=12,)\n",
    "\n",
    "ax.set_xlabel(\"movie rating score\")\n",
    "ax.set_ylabel(\"number of ratings\")"
   ]
  },
  {
   "cell_type": "markdown",
   "metadata": {
    "id": "J5oRl9LZ2KiW"
   },
   "source": [
    "We have already observed from the before bar plot that ratings 3 and 4 are given in more numbers by the users. Even the above graph suggests the same.\n",
    "\n",
    " Take away from this plot is by the number of missing ratings, we can estimate the level of sparsity in the matrix we are going to form. "
   ]
  },
  {
   "cell_type": "markdown",
   "metadata": {
    "id": "ezYrpsCM2LC7"
   },
   "source": [
    "**Plot rating frequency of all movies**"
   ]
  },
  {
   "cell_type": "code",
   "execution_count": 74,
   "metadata": {
    "colab": {
     "base_uri": "https://localhost:8080/",
     "height": 195
    },
    "id": "YqfWKYCEz782",
    "outputId": "93b3ac8c-a39f-44e5-9c2f-39ce2d9b6b55"
   },
   "outputs": [
    {
     "data": {
      "text/html": [
       "<div>\n",
       "<style scoped>\n",
       "    .dataframe tbody tr th:only-of-type {\n",
       "        vertical-align: middle;\n",
       "    }\n",
       "\n",
       "    .dataframe tbody tr th {\n",
       "        vertical-align: top;\n",
       "    }\n",
       "\n",
       "    .dataframe thead th {\n",
       "        text-align: right;\n",
       "    }\n",
       "</style>\n",
       "<table border=\"1\" class=\"dataframe\">\n",
       "  <thead>\n",
       "    <tr style=\"text-align: right;\">\n",
       "      <th></th>\n",
       "      <th>user id</th>\n",
       "      <th>movie title</th>\n",
       "      <th>rating</th>\n",
       "    </tr>\n",
       "  </thead>\n",
       "  <tbody>\n",
       "    <tr>\n",
       "      <th>0</th>\n",
       "      <td>1</td>\n",
       "      <td>101 Dalmatians (1996)</td>\n",
       "      <td>2.0</td>\n",
       "    </tr>\n",
       "    <tr>\n",
       "      <th>1</th>\n",
       "      <td>1</td>\n",
       "      <td>12 Angry Men (1957)</td>\n",
       "      <td>5.0</td>\n",
       "    </tr>\n",
       "    <tr>\n",
       "      <th>2</th>\n",
       "      <td>1</td>\n",
       "      <td>20,000 Leagues Under the Sea (1954)</td>\n",
       "      <td>3.0</td>\n",
       "    </tr>\n",
       "    <tr>\n",
       "      <th>3</th>\n",
       "      <td>1</td>\n",
       "      <td>2001: A Space Odyssey (1968)</td>\n",
       "      <td>4.0</td>\n",
       "    </tr>\n",
       "    <tr>\n",
       "      <th>4</th>\n",
       "      <td>1</td>\n",
       "      <td>Abyss, The (1989)</td>\n",
       "      <td>3.0</td>\n",
       "    </tr>\n",
       "  </tbody>\n",
       "</table>\n",
       "</div>"
      ],
      "text/plain": [
       "   user id                          movie title  rating\n",
       "0        1                101 Dalmatians (1996)     2.0\n",
       "1        1                  12 Angry Men (1957)     5.0\n",
       "2        1  20,000 Leagues Under the Sea (1954)     3.0\n",
       "3        1         2001: A Space Odyssey (1968)     4.0\n",
       "4        1                    Abyss, The (1989)     3.0"
      ]
     },
     "execution_count": 74,
     "metadata": {},
     "output_type": "execute_result"
    }
   ],
   "source": [
    "refined_dataset.head()"
   ]
  },
  {
   "cell_type": "code",
   "execution_count": 75,
   "metadata": {
    "colab": {
     "base_uri": "https://localhost:8080/",
     "height": 225
    },
    "id": "oTe-A4D156Ry",
    "outputId": "f64f656a-b218-4ab1-95a3-e01641fbe434"
   },
   "outputs": [
    {
     "data": {
      "text/html": [
       "<div>\n",
       "<style scoped>\n",
       "    .dataframe tbody tr th:only-of-type {\n",
       "        vertical-align: middle;\n",
       "    }\n",
       "\n",
       "    .dataframe tbody tr th {\n",
       "        vertical-align: top;\n",
       "    }\n",
       "\n",
       "    .dataframe thead th {\n",
       "        text-align: right;\n",
       "    }\n",
       "</style>\n",
       "<table border=\"1\" class=\"dataframe\">\n",
       "  <thead>\n",
       "    <tr style=\"text-align: right;\">\n",
       "      <th></th>\n",
       "      <th>count</th>\n",
       "    </tr>\n",
       "    <tr>\n",
       "      <th>movie title</th>\n",
       "      <th></th>\n",
       "    </tr>\n",
       "  </thead>\n",
       "  <tbody>\n",
       "    <tr>\n",
       "      <th>'Til There Was You (1997)</th>\n",
       "      <td>9</td>\n",
       "    </tr>\n",
       "    <tr>\n",
       "      <th>1-900 (1994)</th>\n",
       "      <td>5</td>\n",
       "    </tr>\n",
       "    <tr>\n",
       "      <th>101 Dalmatians (1996)</th>\n",
       "      <td>109</td>\n",
       "    </tr>\n",
       "    <tr>\n",
       "      <th>12 Angry Men (1957)</th>\n",
       "      <td>125</td>\n",
       "    </tr>\n",
       "    <tr>\n",
       "      <th>187 (1997)</th>\n",
       "      <td>41</td>\n",
       "    </tr>\n",
       "  </tbody>\n",
       "</table>\n",
       "</div>"
      ],
      "text/plain": [
       "                           count\n",
       "movie title                     \n",
       "'Til There Was You (1997)      9\n",
       "1-900 (1994)                   5\n",
       "101 Dalmatians (1996)        109\n",
       "12 Angry Men (1957)          125\n",
       "187 (1997)                    41"
      ]
     },
     "execution_count": 75,
     "metadata": {},
     "output_type": "execute_result"
    }
   ],
   "source": [
    "# get rating frequency\n",
    "movies_count_df = pd.DataFrame(refined_dataset.groupby('movie title').size(), columns=['count'])\n",
    "movies_count_df.head()"
   ]
  },
  {
   "cell_type": "code",
   "execution_count": 76,
   "metadata": {
    "colab": {
     "base_uri": "https://localhost:8080/",
     "height": 533
    },
    "id": "2PZxHmrq6MTz",
    "outputId": "e2b555d2-c2f9-44db-de48-8e57efe3e4c5"
   },
   "outputs": [
    {
     "data": {
      "text/plain": [
       "Text(0, 0.5, 'number of ratings')"
      ]
     },
     "execution_count": 76,
     "metadata": {},
     "output_type": "execute_result"
    },
    {
     "data": {
      "image/png": "[encoded data removed]",
      "text/plain": [
       "<Figure size 1200x800 with 1 Axes>"
      ]
     },
     "metadata": {},
     "output_type": "display_data"
    }
   ],
   "source": [
    "# plot rating frequency of all movies\n",
    "ax = movies_count_df \\\n",
    "    .sort_values('count', ascending=False) \\\n",
    "    .reset_index(drop=True) \\\n",
    "    .plot(\n",
    "        figsize=(12, 8),\n",
    "        title='Rating Frequency of All Movies',\n",
    "        fontsize=12\n",
    "    )\n",
    "ax.set_xlabel(\"movie Id\")\n",
    "ax.set_ylabel(\"number of ratings\")"
   ]
  },
  {
   "cell_type": "markdown",
   "metadata": {
    "id": "PyCcV_0j6yUw"
   },
   "source": [
    "**As the size of MovieLens dataset picked for this project is small. There is no need of removing rarely rated movies or users who has given rating for fewer movies.**\n",
    "\n",
    "**Also because the dataset considered is small, we do not see the long-tail property which will be the scenario with the distribution of ratings.**\n",
    "\n",
    "*If the dataset is larger, then* (this can be referred when we do similar kind of tasks with a larger dataset, just for future reference)\n",
    "\n",
    "The distribution of ratings among movies often satisfies a property in real-world settings, which is referred to as the long-tail property. According to this property, only a small fraction of the items are rated frequently. Such items are referred to as popular items. The vast majority of items are rated rarely. This results in a highly skewed distribution of the underlying ratings."
   ]
  },
  {
   "cell_type": "markdown",
   "metadata": {
    "id": "PZD27ZLM8IN7"
   },
   "source": [
    "# Training KNN model to build item-based collaborative Recommender System."
   ]
  },
  {
   "cell_type": "markdown",
   "metadata": {
    "id": "5omV7GyNTITK"
   },
   "source": [
    "**Reshaping the dataframe**\n",
    "\n",
    "We need to transform (reshape in this case) the data in such a way that each row of the dataframe represents a movie and each column represents a different user. So we want the data to be [movies, users] array if movie is the subject where similar movies must be found and [users, movies] array for reverse.\n",
    "\n",
    "To reshape the dataframe, we will pivot the dataframe to the wide format with movies as rows and users as columns. As we know that not all users watch all the movies, we can expect a lot of missing values. We will have to fill those missing observations with 0s since we are going to perform linear algebra operations (calculating distances between vectors). \n",
    "\n",
    "Finally, we transform the values of the dataframe into a scipy sparse matrix for most efficient calculations.\n",
    "\n",
    "This dataframe is then fed into a KNN model."
   ]
  },
  {
   "cell_type": "markdown",
   "metadata": {
    "id": "IyvX84Lm6ToE"
   },
   "source": [
    "## Movie Recommendation using KNN with Input as **User id**, Number of similar users should the model pick and Number of movies you want to get recommended:"
   ]
  },
  {
   "cell_type": "markdown",
   "metadata": {
    "id": "3qJCE3l3f2mY"
   },
   "source": [
    "1. Reshaping model in such a way that each user has n-dimensional rating space where n is total number of movies\n",
    "\n",
    " We will train the KNN model inorder to find the closely matching similar users to the user we give as input and we recommend the top movies which would interest the input user."
   ]
  },
  {
   "cell_type": "code",
   "execution_count": 64,
   "metadata": {
    "colab": {
     "base_uri": "https://localhost:8080/",
     "height": 391
    },
    "id": "pVjDfpRvWVhw",
    "outputId": "d4e854fb-2020-4c7e-88c4-57b2e5d638cb"
   },
   "outputs": [
    {
     "data": {
      "text/html": [
       "<div>\n",
       "<style scoped>\n",
       "    .dataframe tbody tr th:only-of-type {\n",
       "        vertical-align: middle;\n",
       "    }\n",
       "\n",
       "    .dataframe tbody tr th {\n",
       "        vertical-align: top;\n",
       "    }\n",
       "\n",
       "    .dataframe thead th {\n",
       "        text-align: right;\n",
       "    }\n",
       "</style>\n",
       "<table border=\"1\" class=\"dataframe\">\n",
       "  <thead>\n",
       "    <tr style=\"text-align: right;\">\n",
       "      <th>movie title</th>\n",
       "      <th>'Til There Was You (1997)</th>\n",
       "      <th>1-900 (1994)</th>\n",
       "      <th>101 Dalmatians (1996)</th>\n",
       "      <th>12 Angry Men (1957)</th>\n",
       "      <th>187 (1997)</th>\n",
       "      <th>2 Days in the Valley (1996)</th>\n",
       "      <th>20,000 Leagues Under the Sea (1954)</th>\n",
       "      <th>2001: A Space Odyssey (1968)</th>\n",
       "      <th>3 Ninjas: High Noon At Mega Mountain (1998)</th>\n",
       "      <th>39 Steps, The (1935)</th>\n",
       "      <th>...</th>\n",
       "      <th>Yankee Zulu (1994)</th>\n",
       "      <th>Year of the Horse (1997)</th>\n",
       "      <th>You So Crazy (1994)</th>\n",
       "      <th>Young Frankenstein (1974)</th>\n",
       "      <th>Young Guns (1988)</th>\n",
       "      <th>Young Guns II (1990)</th>\n",
       "      <th>Young Poisoner's Handbook, The (1995)</th>\n",
       "      <th>Zeus and Roxanne (1997)</th>\n",
       "      <th>unknown</th>\n",
       "      <th>Á köldum klaka (Cold Fever) (1994)</th>\n",
       "    </tr>\n",
       "    <tr>\n",
       "      <th>user id</th>\n",
       "      <th></th>\n",
       "      <th></th>\n",
       "      <th></th>\n",
       "      <th></th>\n",
       "      <th></th>\n",
       "      <th></th>\n",
       "      <th></th>\n",
       "      <th></th>\n",
       "      <th></th>\n",
       "      <th></th>\n",
       "      <th></th>\n",
       "      <th></th>\n",
       "      <th></th>\n",
       "      <th></th>\n",
       "      <th></th>\n",
       "      <th></th>\n",
       "      <th></th>\n",
       "      <th></th>\n",
       "      <th></th>\n",
       "      <th></th>\n",
       "      <th></th>\n",
       "    </tr>\n",
       "  </thead>\n",
       "  <tbody>\n",
       "    <tr>\n",
       "      <th>1</th>\n",
       "      <td>0.0</td>\n",
       "      <td>0.0</td>\n",
       "      <td>2.0</td>\n",
       "      <td>5.0</td>\n",
       "      <td>0.0</td>\n",
       "      <td>0.0</td>\n",
       "      <td>3.0</td>\n",
       "      <td>4.0</td>\n",
       "      <td>0.0</td>\n",
       "      <td>0.0</td>\n",
       "      <td>...</td>\n",
       "      <td>0.0</td>\n",
       "      <td>0.0</td>\n",
       "      <td>0.0</td>\n",
       "      <td>5.0</td>\n",
       "      <td>3.0</td>\n",
       "      <td>0.0</td>\n",
       "      <td>0.0</td>\n",
       "      <td>0.0</td>\n",
       "      <td>4.0</td>\n",
       "      <td>0.0</td>\n",
       "    </tr>\n",
       "    <tr>\n",
       "      <th>2</th>\n",
       "      <td>0.0</td>\n",
       "      <td>0.0</td>\n",
       "      <td>0.0</td>\n",
       "      <td>0.0</td>\n",
       "      <td>0.0</td>\n",
       "      <td>0.0</td>\n",
       "      <td>0.0</td>\n",
       "      <td>0.0</td>\n",
       "      <td>1.0</td>\n",
       "      <td>0.0</td>\n",
       "      <td>...</td>\n",
       "      <td>0.0</td>\n",
       "      <td>0.0</td>\n",
       "      <td>0.0</td>\n",
       "      <td>0.0</td>\n",
       "      <td>0.0</td>\n",
       "      <td>0.0</td>\n",
       "      <td>0.0</td>\n",
       "      <td>0.0</td>\n",
       "      <td>0.0</td>\n",
       "      <td>0.0</td>\n",
       "    </tr>\n",
       "    <tr>\n",
       "      <th>3</th>\n",
       "      <td>0.0</td>\n",
       "      <td>0.0</td>\n",
       "      <td>0.0</td>\n",
       "      <td>0.0</td>\n",
       "      <td>2.0</td>\n",
       "      <td>0.0</td>\n",
       "      <td>0.0</td>\n",
       "      <td>0.0</td>\n",
       "      <td>0.0</td>\n",
       "      <td>0.0</td>\n",
       "      <td>...</td>\n",
       "      <td>0.0</td>\n",
       "      <td>0.0</td>\n",
       "      <td>0.0</td>\n",
       "      <td>0.0</td>\n",
       "      <td>0.0</td>\n",
       "      <td>0.0</td>\n",
       "      <td>0.0</td>\n",
       "      <td>0.0</td>\n",
       "      <td>0.0</td>\n",
       "      <td>0.0</td>\n",
       "    </tr>\n",
       "    <tr>\n",
       "      <th>4</th>\n",
       "      <td>0.0</td>\n",
       "      <td>0.0</td>\n",
       "      <td>0.0</td>\n",
       "      <td>0.0</td>\n",
       "      <td>0.0</td>\n",
       "      <td>0.0</td>\n",
       "      <td>0.0</td>\n",
       "      <td>0.0</td>\n",
       "      <td>0.0</td>\n",
       "      <td>0.0</td>\n",
       "      <td>...</td>\n",
       "      <td>0.0</td>\n",
       "      <td>0.0</td>\n",
       "      <td>0.0</td>\n",
       "      <td>0.0</td>\n",
       "      <td>0.0</td>\n",
       "      <td>0.0</td>\n",
       "      <td>0.0</td>\n",
       "      <td>0.0</td>\n",
       "      <td>0.0</td>\n",
       "      <td>0.0</td>\n",
       "    </tr>\n",
       "    <tr>\n",
       "      <th>5</th>\n",
       "      <td>0.0</td>\n",
       "      <td>0.0</td>\n",
       "      <td>2.0</td>\n",
       "      <td>0.0</td>\n",
       "      <td>0.0</td>\n",
       "      <td>0.0</td>\n",
       "      <td>0.0</td>\n",
       "      <td>4.0</td>\n",
       "      <td>0.0</td>\n",
       "      <td>0.0</td>\n",
       "      <td>...</td>\n",
       "      <td>0.0</td>\n",
       "      <td>0.0</td>\n",
       "      <td>0.0</td>\n",
       "      <td>4.0</td>\n",
       "      <td>0.0</td>\n",
       "      <td>0.0</td>\n",
       "      <td>0.0</td>\n",
       "      <td>0.0</td>\n",
       "      <td>4.0</td>\n",
       "      <td>0.0</td>\n",
       "    </tr>\n",
       "  </tbody>\n",
       "</table>\n",
       "<p>5 rows × 1664 columns</p>\n",
       "</div>"
      ],
      "text/plain": [
       "movie title  'Til There Was You (1997)  1-900 (1994)  101 Dalmatians (1996)  \\\n",
       "user id                                                                       \n",
       "1                                  0.0           0.0                    2.0   \n",
       "2                                  0.0           0.0                    0.0   \n",
       "3                                  0.0           0.0                    0.0   \n",
       "4                                  0.0           0.0                    0.0   \n",
       "5                                  0.0           0.0                    2.0   \n",
       "\n",
       "movie title  12 Angry Men (1957)  187 (1997)  2 Days in the Valley (1996)  \\\n",
       "user id                                                                     \n",
       "1                            5.0         0.0                          0.0   \n",
       "2                            0.0         0.0                          0.0   \n",
       "3                            0.0         2.0                          0.0   \n",
       "4                            0.0         0.0                          0.0   \n",
       "5                            0.0         0.0                          0.0   \n",
       "\n",
       "movie title  20,000 Leagues Under the Sea (1954)  \\\n",
       "user id                                            \n",
       "1                                            3.0   \n",
       "2                                            0.0   \n",
       "3                                            0.0   \n",
       "4                                            0.0   \n",
       "5                                            0.0   \n",
       "\n",
       "movie title  2001: A Space Odyssey (1968)  \\\n",
       "user id                                     \n",
       "1                                     4.0   \n",
       "2                                     0.0   \n",
       "3                                     0.0   \n",
       "4                                     0.0   \n",
       "5                                     4.0   \n",
       "\n",
       "movie title  3 Ninjas: High Noon At Mega Mountain (1998)  \\\n",
       "user id                                                    \n",
       "1                                                    0.0   \n",
       "2                                                    1.0   \n",
       "3                                                    0.0   \n",
       "4                                                    0.0   \n",
       "5                                                    0.0   \n",
       "\n",
       "movie title  39 Steps, The (1935)  ...  Yankee Zulu (1994)  \\\n",
       "user id                            ...                       \n",
       "1                             0.0  ...                 0.0   \n",
       "2                             0.0  ...                 0.0   \n",
       "3                             0.0  ...                 0.0   \n",
       "4                             0.0  ...                 0.0   \n",
       "5                             0.0  ...                 0.0   \n",
       "\n",
       "movie title  Year of the Horse (1997)  You So Crazy (1994)  \\\n",
       "user id                                                      \n",
       "1                                 0.0                  0.0   \n",
       "2                                 0.0                  0.0   \n",
       "3                                 0.0                  0.0   \n",
       "4                                 0.0                  0.0   \n",
       "5                                 0.0                  0.0   \n",
       "\n",
       "movie title  Young Frankenstein (1974)  Young Guns (1988)  \\\n",
       "user id                                                     \n",
       "1                                  5.0                3.0   \n",
       "2                                  0.0                0.0   \n",
       "3                                  0.0                0.0   \n",
       "4                                  0.0                0.0   \n",
       "5                                  4.0                0.0   \n",
       "\n",
       "movie title  Young Guns II (1990)  Young Poisoner's Handbook, The (1995)  \\\n",
       "user id                                                                    \n",
       "1                             0.0                                    0.0   \n",
       "2                             0.0                                    0.0   \n",
       "3                             0.0                                    0.0   \n",
       "4                             0.0                                    0.0   \n",
       "5                             0.0                                    0.0   \n",
       "\n",
       "movie title  Zeus and Roxanne (1997)  unknown  \\\n",
       "user id                                         \n",
       "1                                0.0      4.0   \n",
       "2                                0.0      0.0   \n",
       "3                                0.0      0.0   \n",
       "4                                0.0      0.0   \n",
       "5                                0.0      4.0   \n",
       "\n",
       "movie title  Á köldum klaka (Cold Fever) (1994)  \n",
       "user id                                          \n",
       "1                                           0.0  \n",
       "2                                           0.0  \n",
       "3                                           0.0  \n",
       "4                                           0.0  \n",
       "5                                           0.0  \n",
       "\n",
       "[5 rows x 1664 columns]"
      ]
     },
     "execution_count": 64,
     "metadata": {},
     "output_type": "execute_result"
    }
   ],
   "source": [
    "# pivot and create movie-user matrix\n",
    "user_to_movie_df = refined_dataset.pivot(\n",
    "    index='user id',\n",
    "     columns='movie title',\n",
    "      values='rating').fillna(0)\n",
    "\n",
    "user_to_movie_df.head()"
   ]
  },
  {
   "cell_type": "code",
   "execution_count": 33,
   "metadata": {
    "colab": {
     "base_uri": "https://localhost:8080/",
     "height": 50
    },
    "id": "NzGiLk_P6ZPU",
    "outputId": "ce7e1849-a29d-456b-9eb7-a17190231787"
   },
   "outputs": [
    {
     "data": {
      "text/plain": [
       "<943x1664 sparse matrix of type '<class 'numpy.float64'>'\n",
       "\twith 99693 stored elements in Compressed Sparse Row format>"
      ]
     },
     "execution_count": 33,
     "metadata": {},
     "output_type": "execute_result"
    }
   ],
   "source": [
    "# transform matrix to scipy sparse matrix\n",
    "user_to_movie_sparse_df = csr_matrix(user_to_movie_df.values)\n",
    "user_to_movie_sparse_df"
   ]
  },
  {
   "cell_type": "markdown",
   "metadata": {
    "id": "_lmFFozScX9B"
   },
   "source": [
    "**Fitting K-Nearest Neighbours model to the scipy sparse matrix:**"
   ]
  },
  {
   "cell_type": "code",
   "execution_count": 34,
   "metadata": {
    "colab": {
     "base_uri": "https://localhost:8080/",
     "height": 67
    },
    "id": "T-C_KVvkglZZ",
    "outputId": "fa672186-a2c4-478a-9e26-5a8d9eaa8334"
   },
   "outputs": [
    {
     "data": {
      "text/html": [
       "<style>#sk-container-id-1 {color: black;}#sk-container-id-1 pre{padding: 0;}#sk-container-id-1 div.sk-toggleable {background-color: white;}#sk-container-id-1 label.sk-toggleable__label {cursor: pointer;display: block;width: 100%;margin-bottom: 0;padding: 0.3em;box-sizing: border-box;text-align: center;}#sk-container-id-1 label.sk-toggleable__label-arrow:before {content: \"▸\";float: left;margin-right: 0.25em;color: #696969;}#sk-container-id-1 label.sk-toggleable__label-arrow:hover:before {color: black;}#sk-container-id-1 div.sk-estimator:hover label.sk-toggleable__label-arrow:before {color: black;}#sk-container-id-1 div.sk-toggleable__content {max-height: 0;max-width: 0;overflow: hidden;text-align: left;background-color: #f0f8ff;}#sk-container-id-1 div.sk-toggleable__content pre {margin: 0.2em;color: black;border-radius: 0.25em;background-color: #f0f8ff;}#sk-container-id-1 input.sk-toggleable__control:checked~div.sk-toggleable__content {max-height: 200px;max-width: 100%;overflow: auto;}#sk-container-id-1 input.sk-toggleable__control:checked~label.sk-toggleable__label-arrow:before {content: \"▾\";}#sk-container-id-1 div.sk-estimator input.sk-toggleable__control:checked~label.sk-toggleable__label {background-color: #d4ebff;}#sk-container-id-1 div.sk-label input.sk-toggleable__control:checked~label.sk-toggleable__label {background-color: #d4ebff;}#sk-container-id-1 input.sk-hidden--visually {border: 0;clip: rect(1px 1px 1px 1px);clip: rect(1px, 1px, 1px, 1px);height: 1px;margin: -1px;overflow: hidden;padding: 0;position: absolute;width: 1px;}#sk-container-id-1 div.sk-estimator {font-family: monospace;background-color: #f0f8ff;border: 1px dotted black;border-radius: 0.25em;box-sizing: border-box;margin-bottom: 0.5em;}#sk-container-id-1 div.sk-estimator:hover {background-color: #d4ebff;}#sk-container-id-1 div.sk-parallel-item::after {content: \"\";width: 100%;border-bottom: 1px solid gray;flex-grow: 1;}#sk-container-id-1 div.sk-label:hover label.sk-toggleable__label {background-color: #d4ebff;}#sk-container-id-1 div.sk-serial::before {content: \"\";position: absolute;border-left: 1px solid gray;box-sizing: border-box;top: 0;bottom: 0;left: 50%;z-index: 0;}#sk-container-id-1 div.sk-serial {display: flex;flex-direction: column;align-items: center;background-color: white;padding-right: 0.2em;padding-left: 0.2em;position: relative;}#sk-container-id-1 div.sk-item {position: relative;z-index: 1;}#sk-container-id-1 div.sk-parallel {display: flex;align-items: stretch;justify-content: center;background-color: white;position: relative;}#sk-container-id-1 div.sk-item::before, #sk-container-id-1 div.sk-parallel-item::before {content: \"\";position: absolute;border-left: 1px solid gray;box-sizing: border-box;top: 0;bottom: 0;left: 50%;z-index: -1;}#sk-container-id-1 div.sk-parallel-item {display: flex;flex-direction: column;z-index: 1;position: relative;background-color: white;}#sk-container-id-1 div.sk-parallel-item:first-child::after {align-self: flex-end;width: 50%;}#sk-container-id-1 div.sk-parallel-item:last-child::after {align-self: flex-start;width: 50%;}#sk-container-id-1 div.sk-parallel-item:only-child::after {width: 0;}#sk-container-id-1 div.sk-dashed-wrapped {border: 1px dashed gray;margin: 0 0.4em 0.5em 0.4em;box-sizing: border-box;padding-bottom: 0.4em;background-color: white;}#sk-container-id-1 div.sk-label label {font-family: monospace;font-weight: bold;display: inline-block;line-height: 1.2em;}#sk-container-id-1 div.sk-label-container {text-align: center;}#sk-container-id-1 div.sk-container {/* jupyter's `normalize.less` sets `[hidden] { display: none; }` but bootstrap.min.css set `[hidden] { display: none !important; }` so we also need the `!important` here to be able to override the default hidden behavior on the sphinx rendered scikit-learn.org. See: https://github.com/scikit-learn/scikit-learn/issues/21755 */display: inline-block !important;position: relative;}#sk-container-id-1 div.sk-text-repr-fallback {display: none;}</style><div id=\"sk-container-id-1\" class=\"sk-top-container\"><div class=\"sk-text-repr-fallback\"><pre>NearestNeighbors(algorithm=&#x27;brute&#x27;, metric=&#x27;cosine&#x27;)</pre><b>In a Jupyter environment, please rerun this cell to show the HTML representation or trust the notebook. <br />On GitHub, the HTML representation is unable to render, please try loading this page with nbviewer.org.</b></div><div class=\"sk-container\" hidden><div class=\"sk-item\"><div class=\"sk-estimator sk-toggleable\"><input class=\"sk-toggleable__control sk-hidden--visually\" id=\"sk-estimator-id-1\" type=\"checkbox\" checked><label for=\"sk-estimator-id-1\" class=\"sk-toggleable__label sk-toggleable__label-arrow\">NearestNeighbors</label><div class=\"sk-toggleable__content\"><pre>NearestNeighbors(algorithm=&#x27;brute&#x27;, metric=&#x27;cosine&#x27;)</pre></div></div></div></div></div>"
      ],
      "text/plain": [
       "NearestNeighbors(algorithm='brute', metric='cosine')"
      ]
     },
     "execution_count": 34,
     "metadata": {},
     "output_type": "execute_result"
    }
   ],
   "source": [
    "knn_model = NearestNeighbors(metric='cosine', algorithm='brute')\n",
    "knn_model.fit(user_to_movie_sparse_df)"
   ]
  },
  {
   "cell_type": "code",
   "execution_count": 35,
   "metadata": {
    "id": "GznTZhlIcPCI"
   },
   "outputs": [],
   "source": [
    "## function to find top n similar users of the given input user \n",
    "def get_similar_users(user, n = 5):\n",
    "  ## input to this function is the user and number of top similar users you want.\n",
    "\n",
    "  knn_input = np.asarray([user_to_movie_df.values[user-1]])  #.reshape(1,-1)\n",
    "  # knn_input = user_to_movie_df.iloc[0,:].values.reshape(1,-1)\n",
    "  distances, indices = knn_model.kneighbors(knn_input, n_neighbors=n+1)\n",
    "  \n",
    "  print(\"Top\",n,\"users who are very much similar to the User-\",user, \"are: \")\n",
    "  print(\" \")\n",
    "  for i in range(1,len(distances[0])):\n",
    "    print(i,\". User:\", indices[0][i]+1, \"separated by distance of\",distances[0][i])\n",
    "  return indices.flatten()[1:] + 1, distances.flatten()[1:]\n"
   ]
  },
  {
   "cell_type": "markdown",
   "metadata": {
    "id": "UzD2cOe361JX"
   },
   "source": [
    "**Specify User id and Number of similar users we want to consider here**"
   ]
  },
  {
   "cell_type": "code",
   "execution_count": 36,
   "metadata": {
    "colab": {
     "base_uri": "https://localhost:8080/",
     "height": 319
    },
    "id": "ZAc5xnl2mZp3",
    "outputId": "9f9a1dd7-2877-4cdc-fd5f-e6282ac42a3e"
   },
   "outputs": [
    {
     "name": "stdout",
     "output_type": "stream",
     "text": [
      " Few of movies seen by the User:\n",
      "['Amityville Horror, The (1979)',\n",
      " 'Angels in the Outfield (1994)',\n",
      " 'Apocalypse Now (1979)',\n",
      " 'Apollo 13 (1995)',\n",
      " 'Austin Powers: International Man of Mystery (1997)',\n",
      " 'Babe (1995)',\n",
      " 'Back to the Future (1985)',\n",
      " 'Blues Brothers, The (1980)',\n",
      " 'Chasing Amy (1997)',\n",
      " 'Clerks (1994)']\n",
      "Top 5 users who are very much similar to the User- 778 are: \n",
      " \n",
      "1 . User: 124 separated by distance of 0.4586649429539592\n",
      "2 . User: 933 separated by distance of 0.5581959868865324\n",
      "3 . User: 56 separated by distance of 0.5858413112292744\n",
      "4 . User: 738 separated by distance of 0.5916272517988691\n",
      "5 . User: 653 separated by distance of 0.5991479757406326\n"
     ]
    }
   ],
   "source": [
    "from pprint import pprint\n",
    "user_id = 778\n",
    "print(\" Few of movies seen by the User:\")\n",
    "pprint(list(refined_dataset[refined_dataset['user id'] == user_id]['movie title'])[:10])\n",
    "similar_user_list, distance_list = get_similar_users(user_id,5)"
   ]
  },
  {
   "cell_type": "markdown",
   "metadata": {
    "id": "LDtU_DkCqLl6"
   },
   "source": [
    "**With the help of the KNN model built, we could get desired number of top similar users.**\n",
    "\n",
    "**Now we will have to pick the top movies to recommend.**\n",
    "\n",
    "**One way would be by taking the average of the existing ratings given by the similar users and picking the top 10 or 15 movies to recommend to our current user.**\n",
    "\n",
    "**But I feel recommendation would be more effective if we define weights to ratings by each similar user based on the thier distance from the input user. Defining these weights would give us the accurate recommendations by eliminating the chance of decision manipulation by the users who are relatively very far from the input user.**"
   ]
  },
  {
   "cell_type": "code",
   "execution_count": 37,
   "metadata": {
    "colab": {
     "base_uri": "https://localhost:8080/",
     "height": 50
    },
    "id": "3JNvsjkzhXj4",
    "outputId": "d8f1e6b9-9d26-4415-8ad9-f5b4b5049aec"
   },
   "outputs": [
    {
     "data": {
      "text/plain": [
       "(array([124, 933,  56, 738, 653], dtype=int64),\n",
       " array([0.45866494, 0.55819599, 0.58584131, 0.59162725, 0.59914798]))"
      ]
     },
     "execution_count": 37,
     "metadata": {},
     "output_type": "execute_result"
    }
   ],
   "source": [
    "similar_user_list, distance_list"
   ]
  },
  {
   "cell_type": "code",
   "execution_count": 38,
   "metadata": {
    "colab": {
     "base_uri": "https://localhost:8080/",
     "height": 34
    },
    "id": "7de9PUuitY5p",
    "outputId": "360455f1-412d-4b07-ed51-c704da2d788c"
   },
   "outputs": [
    {
     "data": {
      "text/plain": [
       "array([0.16419139, 0.19982119, 0.20971757, 0.2117888 , 0.21448105])"
      ]
     },
     "execution_count": 38,
     "metadata": {},
     "output_type": "execute_result"
    }
   ],
   "source": [
    "weightage_list = distance_list/np.sum(distance_list)\n",
    "weightage_list"
   ]
  },
  {
   "cell_type": "markdown",
   "metadata": {
    "id": "lCX18TkDtnz8"
   },
   "source": [
    "Getting ratings of all movies by derived similar users"
   ]
  },
  {
   "cell_type": "code",
   "execution_count": 39,
   "metadata": {
    "colab": {
     "base_uri": "https://localhost:8080/",
     "height": 101
    },
    "id": "VEh6O0oAtv_F",
    "outputId": "140cf5f4-a9fb-47a7-8365-6fab2d732462"
   },
   "outputs": [
    {
     "data": {
      "text/plain": [
       "array([[0., 0., 0., ..., 0., 0., 0.],\n",
       "       [0., 0., 2., ..., 0., 0., 0.],\n",
       "       [0., 0., 3., ..., 0., 0., 0.],\n",
       "       [0., 0., 0., ..., 0., 0., 0.],\n",
       "       [0., 0., 0., ..., 0., 0., 0.]])"
      ]
     },
     "execution_count": 39,
     "metadata": {},
     "output_type": "execute_result"
    }
   ],
   "source": [
    "mov_rtngs_sim_users = user_to_movie_df.values[similar_user_list]\n",
    "mov_rtngs_sim_users"
   ]
  },
  {
   "cell_type": "code",
   "execution_count": 40,
   "metadata": {
    "colab": {
     "base_uri": "https://localhost:8080/",
     "height": 202
    },
    "id": "nhty6LqMur17",
    "outputId": "d49cf83a-3e2c-4092-c477-77f81b285735"
   },
   "outputs": [
    {
     "data": {
      "text/plain": [
       "Index([''Til There Was You (1997)', '1-900 (1994)', '101 Dalmatians (1996)',\n",
       "       '12 Angry Men (1957)', '187 (1997)', '2 Days in the Valley (1996)',\n",
       "       '20,000 Leagues Under the Sea (1954)', '2001: A Space Odyssey (1968)',\n",
       "       '3 Ninjas: High Noon At Mega Mountain (1998)', '39 Steps, The (1935)',\n",
       "       ...\n",
       "       'Yankee Zulu (1994)', 'Year of the Horse (1997)', 'You So Crazy (1994)',\n",
       "       'Young Frankenstein (1974)', 'Young Guns (1988)',\n",
       "       'Young Guns II (1990)', 'Young Poisoner's Handbook, The (1995)',\n",
       "       'Zeus and Roxanne (1997)', 'unknown',\n",
       "       'Á köldum klaka (Cold Fever) (1994)'],\n",
       "      dtype='object', name='movie title', length=1664)"
      ]
     },
     "execution_count": 40,
     "metadata": {},
     "output_type": "execute_result"
    }
   ],
   "source": [
    "movies_list = user_to_movie_df.columns\n",
    "movies_list"
   ]
  },
  {
   "cell_type": "code",
   "execution_count": 41,
   "metadata": {
    "colab": {
     "base_uri": "https://localhost:8080/",
     "height": 67
    },
    "id": "c_nwkKwhvQ7Y",
    "outputId": "bed4129d-df39-4742-8906-b24469f36cbf"
   },
   "outputs": [
    {
     "name": "stdout",
     "output_type": "stream",
     "text": [
      "Weightage list shape: 5\n",
      "mov_rtngs_sim_users shape: (5, 1664)\n",
      "Number of movies: 1664\n"
     ]
    }
   ],
   "source": [
    "print(\"Weightage list shape:\", len(weightage_list))\n",
    "print(\"mov_rtngs_sim_users shape:\", mov_rtngs_sim_users.shape)\n",
    "print(\"Number of movies:\", len(movies_list))"
   ]
  },
  {
   "cell_type": "markdown",
   "metadata": {
    "id": "oMgSULlTx71x"
   },
   "source": [
    "**Broadcasting weightage matrix to similar user rating matrix. so that it gets compatible for matrix operations**"
   ]
  },
  {
   "cell_type": "code",
   "execution_count": 42,
   "metadata": {
    "colab": {
     "base_uri": "https://localhost:8080/",
     "height": 34
    },
    "id": "0WF66O37x7WH",
    "outputId": "8f6b8c87-d797-4485-8468-48b6802439d1"
   },
   "outputs": [
    {
     "data": {
      "text/plain": [
       "(5, 1664)"
      ]
     },
     "execution_count": 42,
     "metadata": {},
     "output_type": "execute_result"
    }
   ],
   "source": [
    "weightage_list = weightage_list[:,np.newaxis] + np.zeros(len(movies_list))\n",
    "weightage_list.shape"
   ]
  },
  {
   "cell_type": "code",
   "execution_count": 149,
   "metadata": {
    "colab": {
     "base_uri": "https://localhost:8080/",
     "height": 50
    },
    "id": "RI6iizTIx7SO",
    "outputId": "e31a105c-d826-4928-ec93-15cf58e2cd42"
   },
   "outputs": [
    {
     "data": {
      "text/plain": [
       "array([0.        , 0.        , 1.02879509, ..., 0.        , 0.        ,\n",
       "       0.        ])"
      ]
     },
     "execution_count": 149,
     "metadata": {
      "tags": []
     },
     "output_type": "execute_result"
    }
   ],
   "source": [
    "new_rating_matrix = weightage_list*mov_rtngs_sim_users\n",
    "mean_rating_list = new_rating_matrix.sum(axis =0)\n",
    "mean_rating_list"
   ]
  },
  {
   "cell_type": "code",
   "execution_count": 43,
   "metadata": {
    "id": "jasA8xEWu3Sj"
   },
   "outputs": [],
   "source": [
    "from pprint import pprint\n",
    "def recommend_movies(n):\n",
    "  n = min(len(mean_rating_list),n)\n",
    "  # print(np.argsort(mean_rating_list)[::-1][:n])\n",
    "  pprint(list(movies_list[np.argsort(mean_rating_list)[::-1][:n]]))\n",
    "\n"
   ]
  },
  {
   "cell_type": "code",
   "execution_count": 151,
   "metadata": {
    "colab": {
     "base_uri": "https://localhost:8080/",
     "height": 202
    },
    "id": "4ix_nK1I33WS",
    "outputId": "64cfee5b-3f39-4616-81f3-d7a044706504"
   },
   "outputs": [
    {
     "name": "stdout",
     "output_type": "stream",
     "text": [
      "Movies recommended based on similar users are: \n",
      "['Star Wars (1977)',\n",
      " 'Terminator, The (1984)',\n",
      " \"Schindler's List (1993)\",\n",
      " 'Fugitive, The (1993)',\n",
      " 'Forrest Gump (1994)',\n",
      " 'Princess Bride, The (1987)',\n",
      " 'Empire Strikes Back, The (1980)',\n",
      " 'Pulp Fiction (1994)',\n",
      " 'Die Hard (1988)',\n",
      " 'Monty Python and the Holy Grail (1974)']\n"
     ]
    }
   ],
   "source": [
    "print(\"Movies recommended based on similar users are: \")\n",
    "recommend_movies(10)"
   ]
  },
  {
   "cell_type": "markdown",
   "metadata": {
    "id": "MZh3ID7NgwD7"
   },
   "source": [
    "It had been observed that, this recommendation system built can be made more efficient as it has few drawbacks.\n",
    "\n",
    "**Drawbacks:**\n",
    "\n",
    "**1.** But this recommendation system has a drawback, it also **recommends movies which are already seen by the given input User.**\n",
    "\n",
    "**2.** And also there is a possibility of recommending the **movies which are not at all seen by any of the similar users.**"
   ]
  },
  {
   "cell_type": "markdown",
   "metadata": {
    "id": "cMOC4pKzkKiQ"
   },
   "source": [
    "**Above drawbacks are addressed and a new recommender system with modification is built**\n",
    "\n",
    "Below function is defined to remove the movies which are already seen the current user and not at all seen by any of the similar users."
   ]
  },
  {
   "cell_type": "code",
   "execution_count": 44,
   "metadata": {
    "id": "cC5fgG3-iXei"
   },
   "outputs": [],
   "source": [
    "\n",
    "def filtered_movie_recommendations(n):\n",
    "  \n",
    "  first_zero_index = np.where(mean_rating_list == 0)[0][-1]\n",
    "  sortd_index = np.argsort(mean_rating_list)[::-1]\n",
    "  sortd_index = sortd_index[:list(sortd_index).index(first_zero_index)]\n",
    "  n = min(len(sortd_index),n)\n",
    "  movies_watched = list(refined_dataset[refined_dataset['user id'] == user_id]['movie title'])\n",
    "  filtered_movie_list = list(movies_list[sortd_index])\n",
    "  count = 0\n",
    "  final_movie_list = []\n",
    "  for i in filtered_movie_list:\n",
    "    if i not in movies_watched:\n",
    "      count+=1\n",
    "      final_movie_list.append(i)\n",
    "    if count == n:\n",
    "      break\n",
    "  if count == 0:\n",
    "    print(\"There are no movies left which are not seen by the input users and seen by similar users. May be increasing the number of similar users who are to be considered may give a chance of suggesting an unseen good movie.\")\n",
    "  else:\n",
    "    pprint(final_movie_list)\n"
   ]
  },
  {
   "cell_type": "code",
   "execution_count": 153,
   "metadata": {
    "colab": {
     "base_uri": "https://localhost:8080/",
     "height": 185
    },
    "id": "hhk_3V2QyeNz",
    "outputId": "d47981dd-3691-4255-a783-7b8fb2ce5d03"
   },
   "outputs": [
    {
     "name": "stdout",
     "output_type": "stream",
     "text": [
      "['Star Wars (1977)',\n",
      " \"Schindler's List (1993)\",\n",
      " 'Princess Bride, The (1987)',\n",
      " 'Empire Strikes Back, The (1980)',\n",
      " 'Return of the Jedi (1983)',\n",
      " 'Fargo (1996)',\n",
      " 'Dances with Wolves (1990)',\n",
      " 'Toy Story (1995)',\n",
      " 'Braveheart (1995)',\n",
      " 'Star Trek: First Contact (1996)']\n"
     ]
    }
   ],
   "source": [
    "filtered_movie_recommendations(10)"
   ]
  },
  {
   "cell_type": "markdown",
   "metadata": {
    "id": "MI7T25n6ZOEf"
   },
   "source": [
    "Coding up all of the above individual cells into a function.\n",
    "\n",
    "Giving Input as **User id, Number of similar Users to be considered, Number of top movie we want to recommend**"
   ]
  },
  {
   "cell_type": "code",
   "execution_count": 45,
   "metadata": {
    "id": "GQ4UfrTM33hF"
   },
   "outputs": [],
   "source": [
    "from pprint import pprint\n",
    "\n",
    "def recommender_system(user_id, n_similar_users, n_movies): #, user_to_movie_df, knn_model):\n",
    "  \n",
    "  print(\"Movie seen by the User:\")\n",
    "  pprint(list(refined_dataset[refined_dataset['user id'] == user_id]['movie title']))\n",
    "  print(\"\")\n",
    "\n",
    "  # def get_similar_users(user, user_to_movie_df, knn_model, n = 5):\n",
    "  def get_similar_users(user, n = 5):\n",
    "    \n",
    "    knn_input = np.asarray([user_to_movie_df.values[user-1]])\n",
    "    \n",
    "    distances, indices = knn_model.kneighbors(knn_input, n_neighbors=n+1)\n",
    "    \n",
    "    print(\"Top\",n,\"users who are very much similar to the User-\",user, \"are: \")\n",
    "    print(\" \")\n",
    "\n",
    "    for i in range(1,len(distances[0])):\n",
    "      print(i,\". User:\", indices[0][i]+1, \"separated by distance of\",distances[0][i])\n",
    "    print(\"\")\n",
    "    return indices.flatten()[1:] + 1, distances.flatten()[1:]\n",
    "\n",
    "\n",
    "  def filtered_movie_recommendations(n = 10):\n",
    "  \n",
    "    first_zero_index = np.where(mean_rating_list == 0)[0][-1]\n",
    "    sortd_index = np.argsort(mean_rating_list)[::-1]\n",
    "    sortd_index = sortd_index[:list(sortd_index).index(first_zero_index)]\n",
    "    n = min(len(sortd_index),n)\n",
    "    movies_watched = list(refined_dataset[refined_dataset['user id'] == user_id]['movie title'])\n",
    "    filtered_movie_list = list(movies_list[sortd_index])\n",
    "    count = 0\n",
    "    final_movie_list = []\n",
    "    for i in filtered_movie_list:\n",
    "      if i not in movies_watched:\n",
    "        count+=1\n",
    "        final_movie_list.append(i)\n",
    "      if count == n:\n",
    "        break\n",
    "    if count == 0:\n",
    "      print(\"There are no movies left which are not seen by the input users and seen by similar users. May be increasing the number of similar users who are to be considered may give a chance of suggesting an unseen good movie.\")\n",
    "    else:\n",
    "      pprint(final_movie_list)\n",
    "\n",
    "  similar_user_list, distance_list = get_similar_users(user_id,n_similar_users)\n",
    "  weightage_list = distance_list/np.sum(distance_list)\n",
    "  mov_rtngs_sim_users = user_to_movie_df.values[similar_user_list]\n",
    "  movies_list = user_to_movie_df.columns\n",
    "  weightage_list = weightage_list[:,np.newaxis] + np.zeros(len(movies_list))\n",
    "  new_rating_matrix = weightage_list*mov_rtngs_sim_users\n",
    "  mean_rating_list = new_rating_matrix.sum(axis =0)\n",
    "  print(\"\")\n",
    "  print(\"Movies recommended based on similar users are: \")\n",
    "  print(\"\")\n",
    "  filtered_movie_recommendations(n_movies)"
   ]
  },
  {
   "cell_type": "code",
   "execution_count": 234,
   "metadata": {
    "colab": {
     "base_uri": "https://localhost:8080/",
     "height": 1000
    },
    "id": "ZhQI_qBL33dj",
    "outputId": "fae03002-e4c8-46d9-b4ef-e5f0bcdb1781"
   },
   "outputs": [
    {
     "name": "stdout",
     "output_type": "stream",
     "text": [
      "Enter user id\n",
      "307\n",
      "number of similar users to be considered\n",
      "15\n",
      "Enter number of movies to be recommended:\n",
      "15\n",
      "Movie seen by the User:\n",
      "['12 Angry Men (1957)',\n",
      " '2001: A Space Odyssey (1968)',\n",
      " 'Abyss, The (1989)',\n",
      " 'Alien (1979)',\n",
      " 'Apollo 13 (1995)',\n",
      " 'Back to the Future (1985)',\n",
      " 'Barbarella (1968)',\n",
      " 'Batman (1989)',\n",
      " 'Beauty and the Beast (1991)',\n",
      " 'Blade Runner (1982)',\n",
      " 'Blues Brothers, The (1980)',\n",
      " 'Boot, Das (1981)',\n",
      " 'Brady Bunch Movie, The (1995)',\n",
      " 'Braveheart (1995)',\n",
      " 'Brazil (1985)',\n",
      " 'Casablanca (1942)',\n",
      " 'Close Shave, A (1995)',\n",
      " 'Contact (1997)',\n",
      " 'Crying Game, The (1992)',\n",
      " 'Dead Poets Society (1989)',\n",
      " 'Dial M for Murder (1954)',\n",
      " 'Dr. Strangelove or: How I Learned to Stop Worrying and Love the Bomb (1963)',\n",
      " 'Dragonheart (1996)',\n",
      " 'E.T. the Extra-Terrestrial (1982)',\n",
      " 'Empire Strikes Back, The (1980)',\n",
      " 'English Patient, The (1996)',\n",
      " 'Englishman Who Went Up a Hill, But Came Down a Mountain, The (1995)',\n",
      " 'Escape from L.A. (1996)',\n",
      " 'Fargo (1996)',\n",
      " 'Fast, Cheap & Out of Control (1997)',\n",
      " 'Field of Dreams (1989)',\n",
      " 'Fish Called Wanda, A (1988)',\n",
      " 'Four Weddings and a Funeral (1994)',\n",
      " 'Fried Green Tomatoes (1991)',\n",
      " 'Full Monty, The (1997)',\n",
      " 'Gandhi (1982)',\n",
      " 'Ghost (1990)',\n",
      " 'Graduate, The (1967)',\n",
      " 'Grand Day Out, A (1992)',\n",
      " 'Grumpier Old Men (1995)',\n",
      " 'Harold and Maude (1971)',\n",
      " 'Heathers (1989)',\n",
      " 'Heavy Metal (1981)',\n",
      " 'Highlander (1986)',\n",
      " 'Home Alone (1990)',\n",
      " 'How to Make an American Quilt (1995)',\n",
      " 'Hudsucker Proxy, The (1994)',\n",
      " 'Hunt for Red October, The (1990)',\n",
      " 'Independence Day (ID4) (1996)',\n",
      " 'Indiana Jones and the Last Crusade (1989)',\n",
      " 'Jurassic Park (1993)',\n",
      " 'Koyaanisqatsi (1983)',\n",
      " 'Lawnmower Man, The (1992)',\n",
      " 'Lawrence of Arabia (1962)',\n",
      " 'Like Water For Chocolate (Como agua para chocolate) (1992)',\n",
      " 'Lion King, The (1994)',\n",
      " 'Mary Poppins (1964)',\n",
      " 'Mask, The (1994)',\n",
      " \"McHale's Navy (1997)\",\n",
      " 'Men in Black (1997)',\n",
      " \"Microcosmos: Le peuple de l'herbe (1996)\",\n",
      " 'Monty Python and the Holy Grail (1974)',\n",
      " \"Monty Python's Life of Brian (1979)\",\n",
      " 'Mrs. Doubtfire (1993)',\n",
      " 'Much Ado About Nothing (1993)',\n",
      " 'Muppet Treasure Island (1996)',\n",
      " 'My Left Foot (1989)',\n",
      " 'My Life as a Dog (Mitt liv som hund) (1985)',\n",
      " 'Mystery Science Theater 3000: The Movie (1996)',\n",
      " 'Nightmare Before Christmas, The (1993)',\n",
      " 'Pink Floyd - The Wall (1982)',\n",
      " 'Pretty Woman (1990)',\n",
      " 'Princess Bride, The (1987)',\n",
      " 'Psycho (1960)',\n",
      " 'Pulp Fiction (1994)',\n",
      " 'Raiders of the Lost Ark (1981)',\n",
      " 'Real Genius (1985)',\n",
      " 'Return of the Jedi (1983)',\n",
      " 'Return of the Pink Panther, The (1974)',\n",
      " 'Right Stuff, The (1983)',\n",
      " 'Road to Wellville, The (1994)',\n",
      " 'Robin Hood: Men in Tights (1993)',\n",
      " 'Rumble in the Bronx (1995)',\n",
      " 'Secret of Roan Inish, The (1994)',\n",
      " 'Sex, Lies, and Videotape (1989)',\n",
      " 'Shadowlands (1993)',\n",
      " 'Shawshank Redemption, The (1994)',\n",
      " 'Shining, The (1980)',\n",
      " 'Sneakers (1992)',\n",
      " 'Snow White and the Seven Dwarfs (1937)',\n",
      " 'Sound of Music, The (1965)',\n",
      " 'Stand by Me (1986)',\n",
      " 'Star Trek III: The Search for Spock (1984)',\n",
      " 'Star Trek IV: The Voyage Home (1986)',\n",
      " 'Star Trek V: The Final Frontier (1989)',\n",
      " 'Star Trek VI: The Undiscovered Country (1991)',\n",
      " 'Star Trek: First Contact (1996)',\n",
      " 'Star Trek: Generations (1994)',\n",
      " 'Star Trek: The Motion Picture (1979)',\n",
      " 'Star Trek: The Wrath of Khan (1982)',\n",
      " 'Star Wars (1977)',\n",
      " 'Stargate (1994)',\n",
      " 'Tank Girl (1995)',\n",
      " 'Terminator, The (1984)',\n",
      " 'This Is Spinal Tap (1984)',\n",
      " 'Titanic (1997)',\n",
      " 'To Kill a Mockingbird (1962)',\n",
      " 'Top Gun (1986)',\n",
      " 'Toy Story (1995)',\n",
      " 'Wallace & Gromit: The Best of Aardman Animation (1996)',\n",
      " 'Wizard of Oz, The (1939)',\n",
      " 'Wrong Trousers, The (1993)']\n",
      "\n",
      "Top 15 users who are very much similar to the User- 307 are: \n",
      " \n",
      "1 . User: 70 separated by distance of 0.4560883724650484\n",
      "2 . User: 738 separated by distance of 0.4846662001127756\n",
      "3 . User: 922 separated by distance of 0.503221313979523\n",
      "4 . User: 407 separated by distance of 0.5038250337403114\n",
      "5 . User: 514 separated by distance of 0.5060750098353226\n",
      "6 . User: 44 separated by distance of 0.5160506271876224\n",
      "7 . User: 660 separated by distance of 0.5165826487301209\n",
      "8 . User: 5 separated by distance of 0.5211146313938015\n",
      "9 . User: 457 separated by distance of 0.5309167131718452\n",
      "10 . User: 23 separated by distance of 0.5316197783536492\n",
      "11 . User: 843 separated by distance of 0.5324703658288387\n",
      "12 . User: 64 separated by distance of 0.53318921205275\n",
      "13 . User: 198 separated by distance of 0.535682894616484\n",
      "14 . User: 815 separated by distance of 0.5416036160331636\n",
      "15 . User: 95 separated by distance of 0.5468066886836396\n",
      "\n",
      "\n",
      "Movies recommended based on similar users are: \n",
      "\n",
      "[\"Schindler's List (1993)\",\n",
      " 'Liar Liar (1997)',\n",
      " 'When Harry Met Sally... (1989)',\n",
      " 'Leaving Las Vegas (1995)',\n",
      " 'Silence of the Lambs, The (1991)',\n",
      " 'Dead Man Walking (1995)',\n",
      " 'Trainspotting (1996)',\n",
      " 'Forrest Gump (1994)',\n",
      " 'Scream (1996)',\n",
      " 'Twelve Monkeys (1995)',\n",
      " 'Jerry Maguire (1996)',\n",
      " 'Raising Arizona (1987)',\n",
      " 'Godfather, The (1972)',\n",
      " 'Rock, The (1996)',\n",
      " 'Fugitive, The (1993)']\n"
     ]
    }
   ],
   "source": [
    "print(\"Enter user id\")\n",
    "user_id= int(input())\n",
    "print(\"number of similar users to be considered\")\n",
    "sim_users = int(input())\n",
    "print(\"Enter number of movies to be recommended:\")\n",
    "n_movies = int(input())\n",
    "recommender_system(user_id,sim_users,n_movies)\n",
    "# recommender_system(300, 15,15)"
   ]
  },
  {
   "cell_type": "markdown",
   "metadata": {
    "id": "9i5m2wO4iQUW"
   },
   "source": [
    "## Movie Recommendation using KNN with Input as **Movie Name** and Number of movies you want to get recommended:"
   ]
  },
  {
   "cell_type": "markdown",
   "metadata": {
    "id": "XaQLSI1ni_qS"
   },
   "source": [
    "2. Reshaping model in such a way that each movie has n-dimensional rating space where n is total number of users who could rate.\n",
    "\n",
    " We will train the KNN model inorder to find the closely matching similar movies to the movie we give as input and we recommend the top movies which would more closely align to the movie we have given."
   ]
  },
  {
   "cell_type": "code",
   "execution_count": 46,
   "metadata": {
    "colab": {
     "base_uri": "https://localhost:8080/",
     "height": 391
    },
    "id": "pKgkHLCN33ZT",
    "outputId": "9b3ac3a7-2436-47ef-f6a6-fb39fc62c515"
   },
   "outputs": [
    {
     "data": {
      "text/html": [
       "<div>\n",
       "<style scoped>\n",
       "    .dataframe tbody tr th:only-of-type {\n",
       "        vertical-align: middle;\n",
       "    }\n",
       "\n",
       "    .dataframe tbody tr th {\n",
       "        vertical-align: top;\n",
       "    }\n",
       "\n",
       "    .dataframe thead th {\n",
       "        text-align: right;\n",
       "    }\n",
       "</style>\n",
       "<table border=\"1\" class=\"dataframe\">\n",
       "  <thead>\n",
       "    <tr style=\"text-align: right;\">\n",
       "      <th>user id</th>\n",
       "      <th>1</th>\n",
       "      <th>2</th>\n",
       "      <th>3</th>\n",
       "      <th>4</th>\n",
       "      <th>5</th>\n",
       "      <th>6</th>\n",
       "      <th>7</th>\n",
       "      <th>8</th>\n",
       "      <th>9</th>\n",
       "      <th>10</th>\n",
       "      <th>...</th>\n",
       "      <th>934</th>\n",
       "      <th>935</th>\n",
       "      <th>936</th>\n",
       "      <th>937</th>\n",
       "      <th>938</th>\n",
       "      <th>939</th>\n",
       "      <th>940</th>\n",
       "      <th>941</th>\n",
       "      <th>942</th>\n",
       "      <th>943</th>\n",
       "    </tr>\n",
       "    <tr>\n",
       "      <th>movie title</th>\n",
       "      <th></th>\n",
       "      <th></th>\n",
       "      <th></th>\n",
       "      <th></th>\n",
       "      <th></th>\n",
       "      <th></th>\n",
       "      <th></th>\n",
       "      <th></th>\n",
       "      <th></th>\n",
       "      <th></th>\n",
       "      <th></th>\n",
       "      <th></th>\n",
       "      <th></th>\n",
       "      <th></th>\n",
       "      <th></th>\n",
       "      <th></th>\n",
       "      <th></th>\n",
       "      <th></th>\n",
       "      <th></th>\n",
       "      <th></th>\n",
       "      <th></th>\n",
       "    </tr>\n",
       "  </thead>\n",
       "  <tbody>\n",
       "    <tr>\n",
       "      <th>'Til There Was You (1997)</th>\n",
       "      <td>0.0</td>\n",
       "      <td>0.0</td>\n",
       "      <td>0.0</td>\n",
       "      <td>0.0</td>\n",
       "      <td>0.0</td>\n",
       "      <td>0.0</td>\n",
       "      <td>0.0</td>\n",
       "      <td>0.0</td>\n",
       "      <td>0.0</td>\n",
       "      <td>0.0</td>\n",
       "      <td>...</td>\n",
       "      <td>0.0</td>\n",
       "      <td>0.0</td>\n",
       "      <td>0.0</td>\n",
       "      <td>0.0</td>\n",
       "      <td>0.0</td>\n",
       "      <td>0.0</td>\n",
       "      <td>0.0</td>\n",
       "      <td>0.0</td>\n",
       "      <td>0.0</td>\n",
       "      <td>0.0</td>\n",
       "    </tr>\n",
       "    <tr>\n",
       "      <th>1-900 (1994)</th>\n",
       "      <td>0.0</td>\n",
       "      <td>0.0</td>\n",
       "      <td>0.0</td>\n",
       "      <td>0.0</td>\n",
       "      <td>0.0</td>\n",
       "      <td>0.0</td>\n",
       "      <td>0.0</td>\n",
       "      <td>0.0</td>\n",
       "      <td>0.0</td>\n",
       "      <td>0.0</td>\n",
       "      <td>...</td>\n",
       "      <td>0.0</td>\n",
       "      <td>0.0</td>\n",
       "      <td>0.0</td>\n",
       "      <td>0.0</td>\n",
       "      <td>0.0</td>\n",
       "      <td>0.0</td>\n",
       "      <td>0.0</td>\n",
       "      <td>0.0</td>\n",
       "      <td>0.0</td>\n",
       "      <td>0.0</td>\n",
       "    </tr>\n",
       "    <tr>\n",
       "      <th>101 Dalmatians (1996)</th>\n",
       "      <td>2.0</td>\n",
       "      <td>0.0</td>\n",
       "      <td>0.0</td>\n",
       "      <td>0.0</td>\n",
       "      <td>2.0</td>\n",
       "      <td>0.0</td>\n",
       "      <td>0.0</td>\n",
       "      <td>0.0</td>\n",
       "      <td>0.0</td>\n",
       "      <td>0.0</td>\n",
       "      <td>...</td>\n",
       "      <td>2.0</td>\n",
       "      <td>0.0</td>\n",
       "      <td>0.0</td>\n",
       "      <td>2.0</td>\n",
       "      <td>4.0</td>\n",
       "      <td>0.0</td>\n",
       "      <td>0.0</td>\n",
       "      <td>0.0</td>\n",
       "      <td>0.0</td>\n",
       "      <td>0.0</td>\n",
       "    </tr>\n",
       "    <tr>\n",
       "      <th>12 Angry Men (1957)</th>\n",
       "      <td>5.0</td>\n",
       "      <td>0.0</td>\n",
       "      <td>0.0</td>\n",
       "      <td>0.0</td>\n",
       "      <td>0.0</td>\n",
       "      <td>4.0</td>\n",
       "      <td>4.0</td>\n",
       "      <td>0.0</td>\n",
       "      <td>0.0</td>\n",
       "      <td>5.0</td>\n",
       "      <td>...</td>\n",
       "      <td>0.0</td>\n",
       "      <td>0.0</td>\n",
       "      <td>0.0</td>\n",
       "      <td>0.0</td>\n",
       "      <td>0.0</td>\n",
       "      <td>0.0</td>\n",
       "      <td>0.0</td>\n",
       "      <td>0.0</td>\n",
       "      <td>0.0</td>\n",
       "      <td>0.0</td>\n",
       "    </tr>\n",
       "    <tr>\n",
       "      <th>187 (1997)</th>\n",
       "      <td>0.0</td>\n",
       "      <td>0.0</td>\n",
       "      <td>2.0</td>\n",
       "      <td>0.0</td>\n",
       "      <td>0.0</td>\n",
       "      <td>0.0</td>\n",
       "      <td>0.0</td>\n",
       "      <td>0.0</td>\n",
       "      <td>0.0</td>\n",
       "      <td>0.0</td>\n",
       "      <td>...</td>\n",
       "      <td>0.0</td>\n",
       "      <td>0.0</td>\n",
       "      <td>0.0</td>\n",
       "      <td>0.0</td>\n",
       "      <td>0.0</td>\n",
       "      <td>0.0</td>\n",
       "      <td>0.0</td>\n",
       "      <td>0.0</td>\n",
       "      <td>0.0</td>\n",
       "      <td>0.0</td>\n",
       "    </tr>\n",
       "  </tbody>\n",
       "</table>\n",
       "<p>5 rows × 943 columns</p>\n",
       "</div>"
      ],
      "text/plain": [
       "user id                    1    2    3    4    5    6    7    8    9    10   \\\n",
       "movie title                                                                   \n",
       "'Til There Was You (1997)  0.0  0.0  0.0  0.0  0.0  0.0  0.0  0.0  0.0  0.0   \n",
       "1-900 (1994)               0.0  0.0  0.0  0.0  0.0  0.0  0.0  0.0  0.0  0.0   \n",
       "101 Dalmatians (1996)      2.0  0.0  0.0  0.0  2.0  0.0  0.0  0.0  0.0  0.0   \n",
       "12 Angry Men (1957)        5.0  0.0  0.0  0.0  0.0  4.0  4.0  0.0  0.0  5.0   \n",
       "187 (1997)                 0.0  0.0  2.0  0.0  0.0  0.0  0.0  0.0  0.0  0.0   \n",
       "\n",
       "user id                    ...  934  935  936  937  938  939  940  941  942  \\\n",
       "movie title                ...                                                \n",
       "'Til There Was You (1997)  ...  0.0  0.0  0.0  0.0  0.0  0.0  0.0  0.0  0.0   \n",
       "1-900 (1994)               ...  0.0  0.0  0.0  0.0  0.0  0.0  0.0  0.0  0.0   \n",
       "101 Dalmatians (1996)      ...  2.0  0.0  0.0  2.0  4.0  0.0  0.0  0.0  0.0   \n",
       "12 Angry Men (1957)        ...  0.0  0.0  0.0  0.0  0.0  0.0  0.0  0.0  0.0   \n",
       "187 (1997)                 ...  0.0  0.0  0.0  0.0  0.0  0.0  0.0  0.0  0.0   \n",
       "\n",
       "user id                    943  \n",
       "movie title                     \n",
       "'Til There Was You (1997)  0.0  \n",
       "1-900 (1994)               0.0  \n",
       "101 Dalmatians (1996)      0.0  \n",
       "12 Angry Men (1957)        0.0  \n",
       "187 (1997)                 0.0  \n",
       "\n",
       "[5 rows x 943 columns]"
      ]
     },
     "execution_count": 46,
     "metadata": {},
     "output_type": "execute_result"
    }
   ],
   "source": [
    "# pivot and create movie-user matrix\n",
    "movie_to_user_df = refined_dataset.pivot(\n",
    "     index='movie title',\n",
    "   columns='user id',\n",
    "      values='rating').fillna(0)\n",
    "\n",
    "movie_to_user_df.head()"
   ]
  },
  {
   "cell_type": "code",
   "execution_count": 66,
   "metadata": {
    "colab": {
     "base_uri": "https://localhost:8080/",
     "height": 50
    },
    "id": "Y_ZM14b_33S1",
    "outputId": "d915467f-0982-453d-d90c-bb6f52f163be"
   },
   "outputs": [
    {
     "data": {
      "text/plain": [
       "<1664x943 sparse matrix of type '<class 'numpy.float64'>'\n",
       "\twith 99693 stored elements in Compressed Sparse Row format>"
      ]
     },
     "execution_count": 66,
     "metadata": {},
     "output_type": "execute_result"
    }
   ],
   "source": [
    "# transform matrix to scipy sparse matrix\n",
    "movie_to_user_sparse_df = csr_matrix(movie_to_user_df.values)\n",
    "movie_to_user_sparse_df"
   ]
  },
  {
   "cell_type": "markdown",
   "metadata": {
    "id": "WrE3OE3xAstv"
   },
   "source": [
    "Extracting movie names into a list:"
   ]
  },
  {
   "cell_type": "code",
   "execution_count": 67,
   "metadata": {
    "colab": {
     "base_uri": "https://localhost:8080/",
     "height": 185
    },
    "id": "C3fjBBBs9tNw",
    "outputId": "b2b9a713-d213-483f-84ce-9af538b806de"
   },
   "outputs": [
    {
     "data": {
      "text/plain": [
       "[\"'Til There Was You (1997)\",\n",
       " '1-900 (1994)',\n",
       " '101 Dalmatians (1996)',\n",
       " '12 Angry Men (1957)',\n",
       " '187 (1997)',\n",
       " '2 Days in the Valley (1996)',\n",
       " '20,000 Leagues Under the Sea (1954)',\n",
       " '2001: A Space Odyssey (1968)',\n",
       " '3 Ninjas: High Noon At Mega Mountain (1998)',\n",
       " '39 Steps, The (1935)']"
      ]
     },
     "execution_count": 67,
     "metadata": {},
     "output_type": "execute_result"
    }
   ],
   "source": [
    "movies_list = list(movie_to_user_df.index)\n",
    "movies_list[:10]"
   ]
  },
  {
   "cell_type": "markdown",
   "metadata": {
    "id": "-t97ADCYAxXy"
   },
   "source": [
    "Creating a dictionary with movie name as key and its index from the list as value:"
   ]
  },
  {
   "cell_type": "code",
   "execution_count": 68,
   "metadata": {
    "colab": {
     "base_uri": "https://localhost:8080/",
     "height": 54
    },
    "id": "5ewuTcPCAdw2",
    "outputId": "b6d31f07-b3e6-4dcb-9e7b-560d48239246"
   },
   "outputs": [
    {
     "name": "stdout",
     "output_type": "stream",
     "text": [
      "{\"'Til There Was You (1997)\": 0, '1-900 (1994)': 1, '101 Dalmatians (1996)': 2, '12 Angry Men (1957)': 3, '187 (1997)': 4, '2 Days in the Valley (1996)': 5, '20,000 Leagues Under the Sea (1954)': 6, '2001: A Space Odyssey (1968)': 7, '3 Ninjas: High Noon At Mega Mountain (1998)': 8, '39 Steps, The (1935)': 9, '8 1/2 (1963)': 10, '8 Heads in a Duffel Bag (1997)': 11, '8 Seconds (1994)': 12, 'A Chef in Love (1996)': 13, 'Above the Rim (1994)': 14, 'Absolute Power (1997)': 15, 'Abyss, The (1989)': 16, 'Ace Ventura: Pet Detective (1994)': 17, 'Ace Ventura: When Nature Calls (1995)': 18, 'Across the Sea of Time (1995)': 19, 'Addams Family Values (1993)': 20, 'Addicted to Love (1997)': 21, 'Addiction, The (1995)': 22, 'Adventures of Pinocchio, The (1996)': 23, 'Adventures of Priscilla, Queen of the Desert, The (1994)': 24, 'Adventures of Robin Hood, The (1938)': 25, 'Affair to Remember, An (1957)': 26, 'African Queen, The (1951)': 27, 'Afterglow (1997)': 28, 'Age of Innocence, The (1993)': 29, 'Aiqing wansui (1994)': 30, 'Air Bud (1997)': 31, 'Air Force One (1997)': 32, 'Air Up There, The (1994)': 33, 'Airheads (1994)': 34, 'Akira (1988)': 35, 'Aladdin (1992)': 36, 'Aladdin and the King of Thieves (1996)': 37, 'Alaska (1996)': 38, 'Albino Alligator (1996)': 39, 'Alice in Wonderland (1951)': 40, 'Alien (1979)': 41, 'Alien 3 (1992)': 42, 'Alien: Resurrection (1997)': 43, 'Aliens (1986)': 44, 'All About Eve (1950)': 45, 'All Dogs Go to Heaven 2 (1996)': 46, 'All Over Me (1997)': 47, 'All Things Fair (1996)': 48, 'Alphaville (1965)': 49, 'Amadeus (1984)': 50, 'Amateur (1994)': 51, 'Amazing Panda Adventure, The (1995)': 52, 'American Buffalo (1996)': 53, 'American Dream (1990)': 54, 'American President, The (1995)': 55, 'American Strays (1996)': 56, 'American Werewolf in London, An (1981)': 57, 'American in Paris, An (1951)': 58, 'Amistad (1997)': 59, \"Amityville 1992: It's About Time (1992)\": 60, 'Amityville 3-D (1983)': 61, 'Amityville Curse, The (1990)': 62, 'Amityville Horror, The (1979)': 63, 'Amityville II: The Possession (1982)': 64, 'Amityville: A New Generation (1993)': 65, 'Amityville: Dollhouse (1996)': 66, 'Amos & Andrew (1993)': 67, 'An Unforgettable Summer (1994)': 68, 'Anaconda (1997)': 69, 'Anastasia (1997)': 70, 'Andre (1994)': 71, 'Angel Baby (1995)': 72, 'Angel and the Badman (1947)': 73, 'Angel on My Shoulder (1946)': 74, 'Angela (1995)': 75, 'Angels and Insects (1995)': 76, 'Angels in the Outfield (1994)': 77, 'Angus (1995)': 78, 'Anna (1996)': 79, 'Anna Karenina (1997)': 80, 'Anne Frank Remembered (1995)': 81, 'Annie Hall (1977)': 82, 'Another Stakeout (1993)': 83, \"Antonia's Line (1995)\": 84, 'Aparajito (1956)': 85, 'Apartment, The (1960)': 86, 'Apocalypse Now (1979)': 87, 'Apollo 13 (1995)': 88, 'Apostle, The (1997)': 89, 'Apple Dumpling Gang, The (1975)': 90, \"April Fool's Day (1986)\": 91, 'Apt Pupil (1998)': 92, 'Aristocats, The (1970)': 93, 'Army of Darkness (1993)': 94, 'Around the World in 80 Days (1956)': 95, 'Arrival, The (1996)': 96, 'Arsenic and Old Lace (1944)': 97, 'As Good As It Gets (1997)': 98, 'Assassins (1995)': 99, 'Assignment, The (1997)': 100, 'Associate, The (1996)': 101, 'Audrey Rose (1977)': 102, 'August (1996)': 103, 'Austin Powers: International Man of Mystery (1997)': 104, 'Awfully Big Adventure, An (1995)': 105, 'Ayn Rand: A Sense of Life (1997)': 106, 'B*A*P*S (1997)': 107, 'B. Monkey (1998)': 108, 'Babe (1995)': 109, 'Baby-Sitters Club, The (1995)': 110, 'Babyfever (1994)': 111, 'Babysitter, The (1995)': 112, 'Back to the Future (1985)': 113, 'Backbeat (1993)': 114, 'Bad Boys (1995)': 115, 'Bad Company (1995)': 116, 'Bad Girls (1994)': 117, 'Bad Moon (1996)': 118, 'Bad Taste (1987)': 119, 'Ballad of Narayama, The (Narayama Bushiko) (1958)': 120, 'Balto (1995)': 121, 'Bananas (1971)': 122, 'Band Wagon, The (1953)': 123, 'Barb Wire (1996)': 124, 'Barbarella (1968)': 125, 'Barcelona (1994)': 126, 'Basic Instinct (1992)': 127, 'Basketball Diaries, The (1995)': 128, 'Basquiat (1996)': 129, 'Bastard Out of Carolina (1996)': 130, 'Batman & Robin (1997)': 131, 'Batman (1989)': 132, 'Batman Forever (1995)': 133, 'Batman Returns (1992)': 134, 'Baton Rouge (1988)': 135, 'Bean (1997)': 136, 'Beans of Egypt, Maine, The (1994)': 137, 'Beat the Devil (1954)': 138, 'Beautician and the Beast, The (1997)': 139, 'Beautiful Girls (1996)': 140, 'Beautiful Thing (1996)': 141, 'Beauty and the Beast (1991)': 142, 'Beavis and Butt-head Do America (1996)': 143, 'Bed of Roses (1996)': 144, 'Bedknobs and Broomsticks (1971)': 145, 'Before Sunrise (1995)': 146, 'Before and After (1996)': 147, 'Before the Rain (Pred dozhdot) (1994)': 148, 'Being Human (1993)': 149, 'Being There (1979)': 150, 'Believers, The (1987)': 151, 'Belle de jour (1967)': 152, 'Ben-Hur (1959)': 153, 'Benny & Joon (1993)': 154, 'Bent (1997)': 155, 'Best Men (1997)': 156, 'Best of the Best 3: No Turning Back (1995)': 157, 'Better Off Dead... (1985)': 158, 'Beverly Hillbillies, The (1993)': 159, 'Beverly Hills Cop III (1994)': 160, 'Beverly Hills Ninja (1997)': 161, 'Bewegte Mann, Der (1994)': 162, 'Beyond Bedlam (1993)': 163, 'Beyond Rangoon (1995)': 164, 'Bhaji on the Beach (1993)': 165, 'Big Bang Theory, The (1994)': 166, 'Big Blue, The (Grand bleu, Le) (1988)': 167, 'Big Bully (1996)': 168, 'Big Green, The (1995)': 169, 'Big Lebowski, The (1998)': 170, 'Big Night (1996)': 171, 'Big One, The (1997)': 172, 'Big Sleep, The (1946)': 173, 'Big Squeeze, The (1996)': 174, 'Billy Madison (1995)': 175, 'Bio-Dome (1996)': 176, 'Bird of Prey (1996)': 177, 'Birdcage, The (1996)': 178, 'Birds, The (1963)': 179, 'Bitter Moon (1992)': 180, 'Bitter Sugar (Azucar Amargo) (1996)': 181, 'Black Beauty (1994)': 182, 'Black Sheep (1996)': 183, 'Blade Runner (1982)': 184, 'Blink (1994)': 185, 'Bliss (1997)': 186, 'Blob, The (1958)': 187, 'Blood & Wine (1997)': 188, 'Blood Beach (1981)': 189, \"Blood For Dracula (Andy Warhol's Dracula) (1974)\": 190, 'Bloodsport 2 (1995)': 191, 'Bloody Child, The (1996)': 192, 'Blown Away (1994)': 193, 'Blue Angel, The (Blaue Engel, Der) (1930)': 194, 'Blue Chips (1994)': 195, 'Blue Sky (1994)': 196, 'Blue in the Face (1995)': 197, 'Blues Brothers 2000 (1998)': 198, 'Blues Brothers, The (1980)': 199, 'Bob Roberts (1992)': 200, 'Body Parts (1991)': 201, 'Body Snatcher, The (1945)': 202, 'Body Snatchers (1993)': 203, 'Bogus (1996)': 204, 'Bonheur, Le (1965)': 205, 'Bonnie and Clyde (1967)': 206, 'Boogie Nights (1997)': 207, 'Boomerang (1992)': 208, 'Boot, Das (1981)': 209, 'Booty Call (1997)': 210, 'Bottle Rocket (1996)': 211, 'Bound (1996)': 212, 'Boxing Helena (1993)': 213, \"Boy's Life 2 (1997)\": 214, 'Boys (1996)': 215, 'Boys Life (1995)': 216, 'Boys in Venice (1996)': 217, 'Boys of St. Vincent, The (1993)': 218, 'Boys on the Side (1995)': 219, 'Boys, Les (1997)': 220, 'Brady Bunch Movie, The (1995)': 221, 'Braindead (1992)': 222, \"Bram Stoker's Dracula (1992)\": 223, 'Brassed Off (1996)': 224, 'Braveheart (1995)': 225, 'Brazil (1985)': 226, 'Bread and Chocolate (Pane e cioccolata) (1973)': 227, 'Breakdown (1997)': 228, \"Breakfast at Tiffany's (1961)\": 229, 'Breaking the Waves (1996)': 230, 'Bride of Frankenstein (1935)': 231, 'Bridge on the River Kwai, The (1957)': 232, 'Bridges of Madison County, The (1995)': 233, 'Bringing Up Baby (1938)': 234, 'Broken Arrow (1996)': 235, 'Broken English (1996)': 236, 'Bronx Tale, A (1993)': 237, 'Brother Minister: The Assassination of Malcolm X (1994)': 238, \"Brother's Kiss, A (1997)\": 239, 'Brothers McMullen, The (1995)': 240, 'Brothers in Trouble (1995)': 241, 'Browning Version, The (1994)': 242, 'Buddy (1997)': 243, 'Bulletproof (1996)': 244, 'Bullets Over Broadway (1994)': 245, 'Burnt By the Sun (1994)': 246, 'Burnt Offerings (1976)': 247, 'Bushwhacked (1995)': 248, 'Butch Cassidy and the Sundance Kid (1969)': 249, 'Butcher Boy, The (1998)': 250, 'Butterfly Kiss (1995)': 251, 'Bye Bye, Love (1995)': 252, \"C'est arrivé près de chez vous (1992)\": 253, 'Cabin Boy (1994)': 254, 'Cable Guy, The (1996)': 255, 'Calendar Girl (1993)': 256, 'Canadian Bacon (1994)': 257, 'Candidate, The (1972)': 258, 'Candyman (1992)': 259, 'Candyman: Farewell to the Flesh (1995)': 260, 'Cape Fear (1962)': 261, 'Cape Fear (1991)': 262, 'Captives (1994)': 263, 'Career Girls (1997)': 264, 'Careful (1992)': 265, \"Carlito's Way (1993)\": 266, 'Carmen Miranda: Bananas Is My Business (1994)': 267, 'Caro Diario (Dear Diary) (1994)': 268, 'Carpool (1996)': 269, 'Carrie (1976)': 270, 'Carried Away (1996)': 271, 'Carrington (1995)': 272, 'Casablanca (1942)': 273, 'Casino (1995)': 274, 'Casper (1995)': 275, 'Castle Freak (1995)': 276, 'Cat People (1982)': 277, 'Cat on a Hot Tin Roof (1958)': 278, \"Cats Don't Dance (1997)\": 279, 'Catwalk (1995)': 280, 'Caught (1996)': 281, 'Celestial Clockwork (1994)': 282, 'Celluloid Closet, The (1995)': 283, 'Celtic Pride (1996)': 284, 'Cement Garden, The (1993)': 285, 'Cemetery Man (Dellamorte Dellamore) (1994)': 286, 'Century (1993)': 287, 'Chain Reaction (1996)': 288, 'Chairman of the Board (1998)': 289, 'Chamber, The (1996)': 290, 'Charade (1963)': 291, 'Chasers (1994)': 292, 'Chasing Amy (1997)': 293, 'Children of the Corn: The Gathering (1996)': 294, 'Children of the Revolution (1996)': 295, 'Chinatown (1974)': 296, 'Christmas Carol, A (1938)': 297, 'Chungking Express (1994)': 298, 'Ciao, Professore! (1993)': 299, 'Cinderella (1950)': 300, 'Cinema Paradiso (1988)': 301, 'Circle of Friends (1995)': 302, 'Citizen Kane (1941)': 303, 'Citizen Ruth (1996)': 304, 'City Hall (1996)': 305, \"City Slickers II: The Legend of Curly's Gold (1994)\": 306, 'City of Angels (1998)': 307, 'City of Industry (1997)': 308, 'City of Lost Children, The (1995)': 309, 'Clean Slate (1994)': 310, 'Clean Slate (Coup de Torchon) (1981)': 311, 'Clear and Present Danger (1994)': 312, 'Clerks (1994)': 313, 'Client, The (1994)': 314, 'Cliffhanger (1993)': 315, 'Clockers (1995)': 316, 'Clockwork Orange, A (1971)': 317, 'Close Shave, A (1995)': 318, 'Clueless (1995)': 319, 'Cobb (1994)': 320, 'Cold Comfort Farm (1995)': 321, 'Coldblooded (1995)': 322, 'Collectionneuse, La (1967)': 323, 'Colonel Chabert, Le (1994)': 324, 'Color of Night (1994)': 325, 'Commandments (1997)': 326, 'Con Air (1997)': 327, 'Conan the Barbarian (1981)': 328, 'Condition Red (1995)': 329, 'Coneheads (1993)': 330, 'Congo (1995)': 331, 'Conspiracy Theory (1997)': 332, 'Contact (1997)': 333, 'Contempt (Mépris, Le) (1963)': 334, 'Convent, The (Convento, O) (1995)': 335, 'Cook the Thief His Wife & Her Lover, The (1989)': 336, 'Cool Hand Luke (1967)': 337, 'Cool Runnings (1993)': 338, 'Cop Land (1997)': 339, 'Cops and Robbersons (1994)': 340, 'Copycat (1995)': 341, 'Corrina, Corrina (1994)': 342, 'Cosi (1996)': 343, 'Country Life (1994)': 344, 'Courage Under Fire (1996)': 345, 'Cowboy Way, The (1994)': 346, 'Craft, The (1996)': 347, 'Crash (1996)': 348, 'Crimson Tide (1995)': 349, 'Critical Care (1997)': 350, 'Cronos (1992)': 351, 'Crooklyn (1994)': 352, 'Crossfire (1947)': 353, 'Crossing Guard, The (1995)': 354, 'Crow, The (1994)': 355, 'Crow: City of Angels, The (1996)': 356, 'Crows and Sparrows (1949)': 357, 'Crucible, The (1996)': 358, 'Crude Oasis, The (1995)': 359, 'Crumb (1994)': 360, 'Cry, the Beloved Country (1995)': 361, 'Crying Game, The (1992)': 362, 'Curdled (1996)': 363, 'Cure, The (1995)': 364, 'Cutthroat Island (1995)': 365, 'Cyclo (1995)': 366, 'Cyrano de Bergerac (1990)': 367, 'Cérémonie, La (1995)': 368, 'D3: The Mighty Ducks (1996)': 369, 'Dadetown (1995)': 370, 'Daens (1992)': 371, 'Damsel in Distress, A (1937)': 372, 'Dances with Wolves (1990)': 373, 'Dangerous Beauty (1998)': 374, 'Dangerous Ground (1997)': 375, 'Dangerous Minds (1995)': 376, \"Daniel Defoe's Robinson Crusoe (1996)\": 377, \"Dante's Peak (1997)\": 378, 'Dark City (1998)': 379, 'Dave (1993)': 380, 'Davy Crockett, King of the Wild Frontier (1955)': 381, 'Day the Earth Stood Still, The (1951)': 382, 'Day the Sun Turned Cold, The (Tianguo niezi) (1994)': 383, 'Daylight (1996)': 384, 'Days of Thunder (1990)': 385, 'Daytrippers, The (1996)': 386, 'Dazed and Confused (1993)': 387, 'Dead Man (1995)': 388, 'Dead Man Walking (1995)': 389, 'Dead Poets Society (1989)': 390, 'Dead Presidents (1995)': 391, 'Dear God (1996)': 392, 'Death and the Maiden (1994)': 393, 'Death in Brunswick (1991)': 394, 'Death in the Garden (Mort en ce jardin, La) (1956)': 395, 'Deceiver (1997)': 396, 'Deconstructing Harry (1997)': 397, 'Deep Rising (1998)': 398, 'Deer Hunter, The (1978)': 399, 'Delicatessen (1991)': 400, 'Delta of Venus (1994)': 401, 'Demolition Man (1993)': 402, 'Denise Calls Up (1995)': 403, 'Desert Winds (1995)': 404, 'Designated Mourner, The (1997)': 405, 'Desperado (1995)': 406, 'Desperate Measures (1998)': 407, 'Destiny Turns on the Radio (1995)': 408, 'Devil in a Blue Dress (1995)': 409, \"Devil's Advocate, The (1997)\": 410, \"Devil's Own, The (1997)\": 411, 'Diabolique (1996)': 412, 'Dial M for Murder (1954)': 413, 'Die Hard (1988)': 414, 'Die Hard 2 (1990)': 415, 'Die Hard: With a Vengeance (1995)': 416, 'Die xue shuang xiong (Killer, The) (1989)': 417, 'Dingo (1992)': 418, 'Dirty Dancing (1987)': 419, 'Disclosure (1994)': 420, 'Diva (1981)': 421, 'Dolores Claiborne (1994)': 422, 'Don Juan DeMarco (1995)': 423, \"Don't Be a Menace to South Central While Drinking Your Juice in the Hood (1996)\": 424, 'Donnie Brasco (1997)': 425, 'Doom Generation, The (1995)': 426, 'Doors, The (1991)': 427, 'Double Happiness (1994)': 428, 'Double Team (1997)': 429, 'Double vie de Véronique, La (Double Life of Veronique, The) (1991)': 430, 'Down Periscope (1996)': 431, 'Down by Law (1986)': 432, 'Dr. Strangelove or: How I Learned to Stop Worrying and Love the Bomb (1963)': 433, 'Dracula: Dead and Loving It (1995)': 434, 'Dragonheart (1996)': 435, 'Dream Man (1995)': 436, 'Dream With the Fishes (1997)': 437, 'Drop Dead Fred (1991)': 438, 'Drop Zone (1994)': 439, 'Drunks (1995)': 440, 'Duck Soup (1933)': 441, 'Dumb & Dumber (1994)': 442, 'Dumbo (1941)': 443, 'Dunston Checks In (1996)': 444, 'Duoluo tianshi (1995)': 445, 'E.T. the Extra-Terrestrial (1982)': 446, 'East of Eden (1955)': 447, 'Eat Drink Man Woman (1994)': 448, 'Ed (1996)': 449, 'Ed Wood (1994)': 450, \"Ed's Next Move (1996)\": 451, 'Eddie (1996)': 452, 'Edge, The (1997)': 453, 'Eighth Day, The (1996)': 454, 'Emma (1996)': 455, 'Empire Strikes Back, The (1980)': 456, 'Enchanted April (1991)': 457, 'Endless Summer 2, The (1994)': 458, \"Enfer, L' (1994)\": 459, 'English Patient, The (1996)': 460, 'Englishman Who Went Up a Hill, But Came Down a Mountain, The (1995)': 461, 'Entertaining Angels: The Dorothy Day Story (1996)': 462, 'Eraser (1996)': 463, 'Escape from L.A. (1996)': 464, 'Escape from New York (1981)': 465, 'Escape to Witch Mountain (1975)': 466, 'Etz Hadomim Tafus (Under the Domin Tree) (1994)': 467, \"Eve's Bayou (1997)\": 468, 'Even Cowgirls Get the Blues (1993)': 469, 'Evening Star, The (1996)': 470, 'Event Horizon (1997)': 471, 'Everest (1998)': 472, 'Every Other Weekend (1990)': 473, 'Everyone Says I Love You (1996)': 474, 'Evil Dead II (1987)': 475, 'Evita (1996)': 476, 'Excess Baggage (1997)': 477, 'Executive Decision (1996)': 478, 'Exit to Eden (1994)': 479, 'Exotica (1994)': 480, 'Extreme Measures (1996)': 481, 'Eye for an Eye (1996)': 482, \"Eye of Vichy, The (Oeil de Vichy, L') (1993)\": 483, 'Face/Off (1997)': 484, 'Faces (1968)': 485, 'Fair Game (1995)': 486, 'FairyTale: A True Story (1997)': 487, 'Faithful (1996)': 488, 'Fall (1997)': 489, 'Fallen (1998)': 490, 'Falling in Love Again (1980)': 491, 'Family Thing, A (1996)': 492, 'Fan, The (1996)': 493, 'Fantasia (1940)': 494, 'Far From Home: The Adventures of Yellow Dog (1995)': 495, 'Farewell My Concubine (1993)': 496, 'Farewell to Arms, A (1932)': 497, 'Fargo (1996)': 498, 'Farinelli: il castrato (1994)': 499, 'Farmer & Chase (1995)': 500, 'Fast, Cheap & Out of Control (1997)': 501, 'Faster Pussycat! Kill! Kill! (1965)': 502, 'Fatal Instinct (1993)': 503, 'Father of the Bride (1950)': 504, 'Father of the Bride Part II (1995)': 505, \"Fathers' Day (1997)\": 506, 'Faust (1994)': 507, 'Fausto (1993)': 508, 'Favor, The (1994)': 509, 'Fear (1996)': 510, 'Fear of a Black Hat (1993)': 511, 'Fear, The (1995)': 512, 'Fearless (1993)': 513, 'Feast of July (1995)': 514, 'Feeling Minnesota (1996)': 515, 'Female Perversions (1996)': 516, 'Field of Dreams (1989)': 517, 'Fierce Creatures (1997)': 518, 'Fifth Element, The (1997)': 519, 'Fille seule, La (A Single Girl) (1995)': 520, 'Fire Down Below (1997)': 521, 'Fire on the Mountain (1996)': 522, 'Firestorm (1998)': 523, 'Firm, The (1993)': 524, 'First Kid (1996)': 525, 'First Knight (1995)': 526, 'First Wives Club, The (1996)': 527, 'Fish Called Wanda, A (1988)': 528, 'Fled (1996)': 529, 'Flesh and Bone (1993)': 530, 'Flintstones, The (1994)': 531, 'Flipper (1996)': 532, 'Flirt (1995)': 533, 'Flirting With Disaster (1996)': 534, 'Flower of My Secret, The (Flor de mi secreto, La) (1995)': 535, 'Flubber (1997)': 536, 'Fluke (1995)': 537, 'Fly Away Home (1996)': 538, 'Fog, The (1980)': 539, 'Fools Rush In (1997)': 540, 'For Ever Mozart (1996)': 541, 'For Love or Money (1993)': 542, 'For Richer or Poorer (1997)': 543, 'For Whom the Bell Tolls (1943)': 544, 'For the Moment (1994)': 545, 'Forbidden Christ, The (Cristo proibito, Il) (1950)': 546, 'Forbidden Planet (1956)': 547, 'Foreign Correspondent (1940)': 548, 'Foreign Student (1994)': 549, 'Forget Paris (1995)': 550, 'Forrest Gump (1994)': 551, 'Four Days in September (1997)': 552, 'Four Rooms (1995)': 553, 'Four Weddings and a Funeral (1994)': 554, 'Fox and the Hound, The (1981)': 555, 'Foxfire (1996)': 556, 'Frankie Starlight (1995)': 557, 'Free Willy (1993)': 558, 'Free Willy 2: The Adventure Home (1995)': 559, 'Free Willy 3: The Rescue (1997)': 560, 'Freeway (1996)': 561, 'French Kiss (1995)': 562, 'French Twist (Gazon maudit) (1995)': 563, 'Fresh (1994)': 564, 'Friday (1995)': 565, 'Fried Green Tomatoes (1991)': 566, 'Frighteners, The (1996)': 567, 'Frisk (1995)': 568, 'From Dusk Till Dawn (1996)': 569, 'Fugitive, The (1993)': 570, 'Full Metal Jacket (1987)': 571, 'Full Monty, The (1997)': 572, 'Full Speed (1996)': 573, 'Funeral, The (1996)': 574, 'Funny Face (1957)': 575, 'Further Gesture, A (1996)': 576, 'G.I. Jane (1997)': 577, 'Gabbeh (1996)': 578, 'Game, The (1997)': 579, 'Gandhi (1982)': 580, 'Gang Related (1997)': 581, 'Garden of Finzi-Contini, The (Giardino dei Finzi-Contini, Il) (1970)': 582, 'Gaslight (1944)': 583, 'Gate of Heavenly Peace, The (1995)': 584, 'Gattaca (1997)': 585, 'Gay Divorcee, The (1934)': 586, 'George of the Jungle (1997)': 587, 'Georgia (1995)': 588, 'Germinal (1993)': 589, 'Geronimo: An American Legend (1993)': 590, 'Get Shorty (1995)': 591, 'Get on the Bus (1996)': 592, 'Getaway, The (1994)': 593, 'Getting Away With Murder (1996)': 594, 'Getting Even with Dad (1994)': 595, 'Ghost (1990)': 596, 'Ghost and Mrs. Muir, The (1947)': 597, 'Ghost and the Darkness, The (1996)': 598, 'Ghost in the Shell (Kokaku kidotai) (1995)': 599, 'Ghosts of Mississippi (1996)': 600, 'Giant (1956)': 601, 'Gigi (1958)': 602, \"Gilligan's Island: The Movie (1998)\": 603, 'Girl 6 (1996)': 604, 'Girl in the Cadillac (1995)': 605, 'Girls Town (1996)': 606, 'Glass Shield, The (1994)': 607, 'Glengarry Glen Ross (1992)': 608, 'Glimmer Man, The (1996)': 609, 'Glory (1989)': 610, 'Go Fish (1994)': 611, 'Godfather, The (1972)': 612, 'Godfather: Part II, The (1974)': 613, 'Gold Diggers: The Secret of Bear Mountain (1995)': 614, 'Golden Earrings (1947)': 615, 'GoldenEye (1995)': 616, \"Gone Fishin' (1997)\": 617, 'Gone with the Wind (1939)': 618, 'Good Man in Africa, A (1994)': 619, 'Good Morning (1971)': 620, 'Good Will Hunting (1997)': 621, 'Good, The Bad and The Ugly, The (1966)': 622, 'GoodFellas (1990)': 623, 'Goofy Movie, A (1995)': 624, 'Gordy (1995)': 625, 'Grace of My Heart (1996)': 626, 'Graduate, The (1967)': 627, 'Grand Day Out, A (1992)': 628, 'Grass Harp, The (1995)': 629, 'Grateful Dead (1995)': 630, 'Grease (1978)': 631, 'Grease 2 (1982)': 632, 'Great Day in Harlem, A (1994)': 633, 'Great Dictator, The (1940)': 634, 'Great Escape, The (1963)': 635, 'Great Expectations (1998)': 636, 'Great Race, The (1965)': 637, 'Great White Hype, The (1996)': 638, \"Gridlock'd (1997)\": 639, 'Grifters, The (1990)': 640, 'Grosse Fatigue (1994)': 641, 'Grosse Pointe Blank (1997)': 642, 'Groundhog Day (1993)': 643, 'Grumpier Old Men (1995)': 644, 'Guantanamera (1994)': 645, 'Guilty as Sin (1993)': 646, 'Gumby: The Movie (1995)': 647, 'Hackers (1995)': 648, 'Half Baked (1998)': 649, 'Halloween: The Curse of Michael Myers (1995)': 650, 'Hamlet (1996)': 651, 'Hana-bi (1997)': 652, 'Happy Gilmore (1996)': 653, 'Hard Eight (1996)': 654, 'Hard Rain (1998)': 655, 'Hard Target (1993)': 656, 'Harlem (1993)': 657, 'Harold and Maude (1971)': 658, 'Harriet the Spy (1996)': 659, 'Hate (Haine, La) (1995)': 660, 'Haunted World of Edward D. Wood Jr., The (1995)': 661, 'He Walked by Night (1948)': 662, 'Head Above Water (1996)': 663, 'Hear My Song (1991)': 664, 'Hearts and Minds (1996)': 665, 'Heat (1995)': 666, 'Heathers (1989)': 667, 'Heaven & Earth (1993)': 668, \"Heaven's Prisoners (1996)\": 669, 'Heavenly Creatures (1994)': 670, 'Heavy (1995)': 671, 'Heavy Metal (1981)': 672, 'Heavyweights (1994)': 673, 'Hedd Wyn (1992)': 674, 'Heidi Fleiss: Hollywood Madam (1995) ': 675, 'Hellraiser: Bloodline (1996)': 676, 'Henry V (1989)': 677, 'Herbie Rides Again (1974)': 678, 'Hercules (1997)': 679, 'Here Comes Cookie (1935)': 680, 'Hideaway (1995)': 681, 'High Noon (1952)': 682, 'High School High (1996)': 683, 'Higher Learning (1995)': 684, 'Highlander (1986)': 685, 'Highlander III: The Sorcerer (1994)': 686, 'His Girl Friday (1940)': 687, 'Hollow Reed (1996)': 688, 'Homage (1995)': 689, 'Home Alone (1990)': 690, 'Home Alone 3 (1997)': 691, 'Home for the Holidays (1995)': 692, 'Homeward Bound II: Lost in San Francisco (1996)': 693, 'Homeward Bound: The Incredible Journey (1993)': 694, 'Hoodlum (1997)': 695, 'Hoop Dreams (1994)': 696, 'Horse Whisperer, The (1998)': 697, 'Horseman on the Roof, The (Hussard sur le toit, Le) (1995)': 698, 'Hostile Intentions (1994)': 699, 'Hot Shots! Part Deux (1993)': 700, 'Hotel de Love (1996)': 701, 'Hour of the Pig, The (1993)': 702, 'House Arrest (1996)': 703, 'House Party 3 (1994)': 704, 'House of Yes, The (1997)': 705, 'House of the Spirits, The (1993)': 706, 'Houseguest (1994)': 707, 'How to Be a Player (1997)': 708, 'How to Make an American Quilt (1995)': 709, 'Howling, The (1981)': 710, 'Hudsucker Proxy, The (1994)': 711, 'Hugo Pool (1997)': 712, 'Hunchback of Notre Dame, The (1996)': 713, 'Hungarian Fairy Tale, A (1987)': 714, 'Hunt for Red October, The (1990)': 715, 'Hunted, The (1995)': 716, 'Hurricane Streets (1998)': 717, 'Hush (1998)': 718, \"I Can't Sleep (J'ai pas sommeil) (1994)\": 719, \"I Don't Want to Talk About It (De eso no se habla) (1993)\": 720, 'I Know What You Did Last Summer (1997)': 721, 'I Like It Like That (1994)': 722, 'I Love Trouble (1994)': 723, 'I Shot Andy Warhol (1996)': 724, \"I'll Do Anything (1994)\": 725, \"I'm Not Rappaport (1996)\": 726, 'I, Worst of All (Yo, la peor de todas) (1990)': 727, 'I.Q. (1994)': 728, 'Ice Storm, The (1997)': 729, 'If Lucy Fell (1996)': 730, 'Ill Gotten Gains (1997)': 731, 'Immortal Beloved (1994)': 732, 'In & Out (1997)': 733, 'In Love and War (1996)': 734, 'In the Army Now (1994)': 735, 'In the Bleak Midwinter (1995)': 736, 'In the Company of Men (1997)': 737, 'In the Line of Duty 2 (1987)': 738, 'In the Line of Fire (1993)': 739, 'In the Mouth of Madness (1995)': 740, 'In the Name of the Father (1993)': 741, 'In the Realm of the Senses (Ai no corrida) (1976)': 742, 'Incognito (1997)': 743, 'Independence Day (ID4) (1996)': 744, 'Indian Summer (1996)': 745, 'Indian in the Cupboard, The (1995)': 746, 'Indiana Jones and the Last Crusade (1989)': 747, 'Infinity (1996)': 748, 'Inkwell, The (1994)': 749, 'Innocent Sleep, The (1995)': 750, 'Innocents, The (1961)': 751, 'Inspector General, The (1949)': 752, 'Interview with the Vampire (1994)': 753, 'Intimate Relations (1996)': 754, 'Inventing the Abbotts (1997)': 755, 'Invitation, The (Zaproszenie) (1986)': 756, 'Island of Dr. Moreau, The (1996)': 757, 'It Could Happen to You (1994)': 758, 'It Happened One Night (1934)': 759, 'It Takes Two (1995)': 760, \"It's My Party (1995)\": 761, \"It's a Wonderful Life (1946)\": 762, 'JLG/JLG - autoportrait de décembre (1994)': 763, 'Jack (1996)': 764, 'Jack and Sarah (1995)': 765, 'Jackal, The (1997)': 766, 'Jackie Brown (1997)': 767, \"Jackie Chan's First Strike (1996)\": 768, 'Jade (1995)': 769, 'James and the Giant Peach (1996)': 770, 'Jane Eyre (1996)': 771, \"Jason's Lyric (1994)\": 772, 'Jaws (1975)': 773, 'Jaws 2 (1978)': 774, 'Jaws 3-D (1983)': 775, 'Jean de Florette (1986)': 776, 'Jefferson in Paris (1995)': 777, 'Jeffrey (1995)': 778, 'Jerky Boys, The (1994)': 779, 'Jerry Maguire (1996)': 780, 'Jimmy Hollywood (1994)': 781, 'Jingle All the Way (1996)': 782, \"Joe's Apartment (1996)\": 783, 'Johnny 100 Pesos (1993)': 784, 'Johnny Mnemonic (1995)': 785, 'Johns (1996)': 786, 'Journey of August King, The (1995)': 787, 'Joy Luck Club, The (1993)': 788, 'Jude (1996)': 789, 'Judge Dredd (1995)': 790, 'Judgment Night (1993)': 791, 'Jumanji (1995)': 792, 'Jungle Book, The (1994)': 793, 'Jungle2Jungle (1997)': 794, 'Junior (1994)': 795, \"Jupiter's Wife (1994)\": 796, 'Jurassic Park (1993)': 797, 'Juror, The (1996)': 798, 'Jury Duty (1995)': 799, 'Just Cause (1995)': 800, 'Kalifornia (1993)': 801, 'Kama Sutra: A Tale of Love (1996)': 802, 'Kansas City (1996)': 803, 'Kaspar Hauser (1993)': 804, 'Kazaam (1996)': 805, 'Keys to Tulsa (1997)': 806, 'Kicked in the Head (1997)': 807, 'Kicking and Screaming (1995)': 808, \"Kid in King Arthur's Court, A (1995)\": 809, 'Kids (1995)': 810, 'Kids in the Hall: Brain Candy (1996)': 811, 'Kika (1993)': 812, 'Killer (Bulletproof Heart) (1994)': 813, 'Killer: A Journal of Murder (1995)': 814, 'Killing Fields, The (1984)': 815, 'Killing Zoe (1994)': 816, 'Kim (1950)': 817, 'King of New York (1990)': 818, 'King of the Hill (1993)': 819, 'Kingpin (1996)': 820, 'Kiss Me, Guido (1997)': 821, 'Kiss of Death (1995)': 822, 'Kiss the Girls (1997)': 823, 'Kissed (1996)': 824, 'Kolya (1996)': 825, 'Koyaanisqatsi (1983)': 826, 'Kull the Conqueror (1997)': 827, 'Kundun (1997)': 828, 'L.A. Confidential (1997)': 829, 'Lady of Burlesque (1943)': 830, 'Ladybird Ladybird (1994)': 831, 'Lamerica (1994)': 832, 'Land Before Time III: The Time of the Great Giving (1995) (V)': 833, 'Land and Freedom (Tierra y libertad) (1995)': 834, 'Larger Than Life (1996)': 835, 'Lashou shentan (1992)': 836, 'Lassie (1994)': 837, 'Last Action Hero (1993)': 838, 'Last Dance (1996)': 839, 'Last Klezmer: Leopold Kozlowski, His Life and Music, The (1995)': 840, 'Last Man Standing (1996)': 841, 'Last Summer in the Hamptons (1995)': 842, 'Last Supper, The (1995)': 843, 'Last Time I Committed Suicide, The (1997)': 844, 'Last Time I Saw Paris, The (1954)': 845, 'Last of the Mohicans, The (1992)': 846, 'Late Bloomers (1996)': 847, 'Laura (1944)': 848, 'Lawnmower Man 2: Beyond Cyberspace (1996)': 849, 'Lawnmower Man, The (1992)': 850, 'Lawrence of Arabia (1962)': 851, 'Lay of the Land, The (1997)': 852, 'Leading Man, The (1996)': 853, 'Leave It to Beaver (1997)': 854, 'Leaving Las Vegas (1995)': 855, 'Legal Deceit (1997)': 856, 'Legends of the Fall (1994)': 857, 'Leopard Son, The (1996)': 858, 'Letter From Death Row, A (1998)': 859, 'Liar Liar (1997)': 860, 'Liebelei (1933)': 861, 'Life Less Ordinary, A (1997)': 862, 'Life with Mikey (1993)': 863, 'Lightning Jack (1994)': 864, 'Like Water For Chocolate (Como agua para chocolate) (1992)': 865, 'Line King: Al Hirschfeld, The (1996)': 866, 'Lion King, The (1994)': 867, 'Little Big League (1994)': 868, 'Little Buddha (1993)': 869, 'Little City (1998)': 870, 'Little Lord Fauntleroy (1936)': 871, 'Little Odessa (1994)': 872, 'Little Princess, A (1995)': 873, 'Little Princess, The (1939)': 874, 'Little Rascals, The (1994)': 875, 'Little Women (1994)': 876, 'Live Nude Girls (1995)': 877, 'Living in Oblivion (1995)': 878, 'Loaded (1994)': 879, 'Local Hero (1983)': 880, 'Loch Ness (1995)': 881, 'Locusts, The (1997)': 882, 'Lone Star (1996)': 883, 'Long Kiss Goodnight, The (1996)': 884, 'Looking for Richard (1996)': 885, 'Lord of Illusions (1995)': 886, 'Losing Chase (1996)': 887, 'Losing Isaiah (1995)': 888, 'Lost Highway (1997)': 889, 'Lost Horizon (1937)': 890, 'Lost World: Jurassic Park, The (1997)': 891, 'Lost in Space (1998)': 892, 'Lotto Land (1995)': 893, 'Love & Human Remains (1993)': 894, 'Love Affair (1994)': 895, 'Love Bug, The (1969)': 896, 'Love Is All There Is (1996)': 897, 'Love Jones (1997)': 898, 'Love Serenade (1996)': 899, 'Love and Death on Long Island (1997)': 900, 'Love and Other Catastrophes (1996)': 901, 'Love and a .45 (1994)': 902, 'Love in the Afternoon (1957)': 903, 'Love! Valour! Compassion! (1997)': 904, \"Lover's Knot (1996)\": 905, 'Low Down Dirty Shame, A (1994)': 906, 'Low Life, The (1994)': 907, 'M (1931)': 908, 'M*A*S*H (1970)': 909, 'M. Butterfly (1993)': 910, 'MURDER and murder (1996)': 911, 'Ma vie en rose (My Life in Pink) (1997)': 912, 'Machine, The (1994)': 913, 'Mad City (1997)': 914, 'Mad Dog Time (1996)': 915, 'Mad Love (1995)': 916, 'Madame Butterfly (1995)': 917, 'Made in America (1993)': 918, 'Madness of King George, The (1994)': 919, 'Madonna: Truth or Dare (1991)': 920, 'Magic Hour, The (1998)': 921, 'Magnificent Seven, The (1954)': 922, 'Major Payne (1994)': 923, 'Malice (1993)': 924, 'Mallrats (1995)': 925, 'Maltese Falcon, The (1941)': 926, 'Mamma Roma (1962)': 927, 'Man Who Knew Too Little, The (1997)': 928, 'Man Who Would Be King, The (1975)': 929, 'Man Without a Face, The (1993)': 930, 'Man from Down Under, The (1943)': 931, 'Man in the Iron Mask, The (1998)': 932, 'Man of No Importance, A (1994)': 933, 'Man of the House (1995)': 934, 'Man of the Year (1995)': 935, 'Manchurian Candidate, The (1962)': 936, 'Manhattan (1979)': 937, 'Manhattan Murder Mystery (1993)': 938, 'Manny & Lo (1996)': 939, 'Manon of the Spring (Manon des sources) (1986)': 940, \"Margaret's Museum (1995)\": 941, 'Mark of Zorro, The (1940)': 942, 'Marked for Death (1990)': 943, 'Marlene Dietrich: Shadow and Light (1996) ': 944, 'Mars Attacks! (1996)': 945, \"Marvin's Room (1996)\": 946, 'Mary Poppins (1964)': 947, 'Mary Reilly (1996)': 948, \"Mary Shelley's Frankenstein (1994)\": 949, 'Mask, The (1994)': 950, \"Mat' i syn (1997)\": 951, 'MatchMaker, The (1997)': 952, 'Matilda (1996)': 953, 'Maverick (1994)': 954, 'Maximum Risk (1996)': 955, 'Maya Lin: A Strong Clear Vision (1994)': 956, 'Maybe, Maybe Not (Bewegte Mann, Der) (1994)': 957, \"McHale's Navy (1997)\": 958, 'Mediterraneo (1991)': 959, 'Meet John Doe (1941)': 960, 'Meet Me in St. Louis (1944)': 961, 'Meet Wally Sparks (1997)': 962, 'Men With Guns (1997)': 963, 'Men in Black (1997)': 964, 'Men of Means (1998)': 965, 'Menace II Society (1993)': 966, 'Mercury Rising (1998)': 967, 'Metisse (Café au Lait) (1993)': 968, 'Metro (1997)': 969, 'Miami Rhapsody (1995)': 970, 'Michael (1996)': 971, 'Michael Collins (1996)': 972, \"Microcosmos: Le peuple de l'herbe (1996)\": 973, 'Midnight Dancers (Sibak) (1994)': 974, 'Midnight in the Garden of Good and Evil (1997)': 975, 'Mighty Aphrodite (1995)': 976, 'Mighty Morphin Power Rangers: The Movie (1995)': 977, 'Mighty, The (1998)': 978, 'Milk Money (1994)': 979, 'Mille bolle blu (1993)': 980, \"Miller's Crossing (1990)\": 981, 'Mimic (1997)': 982, 'Mina Tannenbaum (1994)': 983, 'Miracle on 34th Street (1994)': 984, 'Mirage (1995)': 985, 'Mirror Has Two Faces, The (1996)': 986, 'Mission: Impossible (1996)': 987, 'Misérables, Les (1995)': 988, 'Mixed Nuts (1994)': 989, 'Modern Affair, A (1995)': 990, 'Moll Flanders (1996)': 991, 'Mondo (1996)': 992, 'Money Talks (1997)': 993, 'Money Train (1995)': 994, 'Month by the Lake, A (1995)': 995, 'Monty Python and the Holy Grail (1974)': 996, \"Monty Python's Life of Brian (1979)\": 997, 'Moonlight and Valentino (1995)': 998, 'Mortal Kombat (1995)': 999, 'Mortal Kombat: Annihilation (1997)': 1000, 'Mostro, Il (1994)': 1001, 'Mother (1996)': 1002, 'Mother Night (1996)': 1003, 'Mouse Hunt (1997)': 1004, \"Mr. Holland's Opus (1995)\": 1005, 'Mr. Jones (1993)': 1006, 'Mr. Magoo (1997)': 1007, 'Mr. Smith Goes to Washington (1939)': 1008, 'Mr. Wonderful (1993)': 1009, 'Mr. Wrong (1996)': 1010, 'Mrs. Brown (Her Majesty, Mrs. Brown) (1997)': 1011, 'Mrs. Dalloway (1997)': 1012, 'Mrs. Doubtfire (1993)': 1013, 'Mrs. Parker and the Vicious Circle (1994)': 1014, 'Mrs. Winterbourne (1996)': 1015, 'Much Ado About Nothing (1993)': 1016, 'Mulholland Falls (1996)': 1017, 'Multiplicity (1996)': 1018, 'Muppet Treasure Island (1996)': 1019, 'Murder at 1600 (1997)': 1020, 'Murder in the First (1995)': 1021, 'Murder, My Sweet (1944)': 1022, \"Muriel's Wedding (1994)\": 1023, 'Mute Witness (1994)': 1024, \"My Best Friend's Wedding (1997)\": 1025, 'My Crazy Life (Mi vida loca) (1993)': 1026, 'My Fair Lady (1964)': 1027, 'My Family (1995)': 1028, 'My Favorite Season (1993)': 1029, 'My Favorite Year (1982)': 1030, 'My Fellow Americans (1996)': 1031, 'My Left Foot (1989)': 1032, \"My Life and Times With Antonin Artaud (En compagnie d'Antonin Artaud) (1993)\": 1033, 'My Life as a Dog (Mitt liv som hund) (1985)': 1034, 'My Man Godfrey (1936)': 1035, 'My Own Private Idaho (1991)': 1036, 'Mystery Science Theater 3000: The Movie (1996)': 1037, 'Nadja (1994)': 1038, 'Naked (1993)': 1039, 'Naked Gun 33 1/3: The Final Insult (1994)': 1040, 'Naked in New York (1994)': 1041, \"National Lampoon's Senior Trip (1995)\": 1042, 'Natural Born Killers (1994)': 1043, 'Nell (1994)': 1044, 'Nelly & Monsieur Arnaud (1995)': 1045, 'Nemesis 2: Nebula (1995)': 1046, 'Neon Bible, The (1995)': 1047, 'Net, The (1995)': 1048, 'NeverEnding Story III, The (1994)': 1049, 'New Age, The (1994)': 1050, 'New Jersey Drive (1995)': 1051, 'New York Cop (1996)': 1052, 'Newton Boys, The (1998)': 1053, 'Next Karate Kid, The (1994)': 1054, 'Next Step, The (1995)': 1055, 'Niagara, Niagara (1997)': 1056, 'Nick of Time (1995)': 1057, 'Nico Icon (1995)': 1058, 'Night Falls on Manhattan (1997)': 1059, 'Night Flier (1997)': 1060, 'Night of the Living Dead (1968)': 1061, 'Night on Earth (1991)': 1062, 'Nightmare Before Christmas, The (1993)': 1063, 'Nightmare on Elm Street, A (1984)': 1064, 'Nightwatch (1997)': 1065, 'Nikita (La Femme Nikita) (1990)': 1066, 'Nil By Mouth (1997)': 1067, 'Nina Takes a Lover (1994)': 1068, 'Nine Months (1995)': 1069, 'Ninotchka (1939)': 1070, 'Nixon (1995)': 1071, 'No Escape (1994)': 1072, 'Nobody Loves Me (Keiner liebt mich) (1994)': 1073, \"Nobody's Fool (1994)\": 1074, 'Normal Life (1996)': 1075, 'North (1994)': 1076, 'North by Northwest (1959)': 1077, 'Nosferatu (Nosferatu, eine Symphonie des Grauens) (1922)': 1078, 'Nosferatu a Venezia (1986)': 1079, 'Nothing Personal (1995)': 1080, 'Nothing to Lose (1994)': 1081, 'Notorious (1946)': 1082, 'Now and Then (1995)': 1083, 'Nowhere (1997)': 1084, 'Nutty Professor, The (1996)': 1085, 'Nénette et Boni (1996)': 1086, 'Object of My Affection, The (1998)': 1087, 'Of Human Bondage (1934)': 1088, 'Of Love and Shadows (1994)': 1089, 'Office Killer (1997)': 1090, 'Old Lady Who Walked in the Sea, The (Vieille qui marchait dans la mer, La) (1991)': 1091, 'Old Man and the Sea, The (1958)': 1092, 'Old Yeller (1957)': 1093, 'Oliver & Company (1988)': 1094, 'Omen, The (1976)': 1095, 'On Golden Pond (1981)': 1096, 'Once Upon a Time in America (1984)': 1097, 'Once Upon a Time in the West (1969)': 1098, 'Once Upon a Time... When We Were Colored (1995)': 1099, 'Once Were Warriors (1994)': 1100, 'One Fine Day (1996)': 1101, \"One Flew Over the Cuckoo's Nest (1975)\": 1102, 'One Night Stand (1997)': 1103, 'Only You (1994)': 1104, 'Open Season (1996)': 1105, 'Operation Dumbo Drop (1995)': 1106, 'Original Gangstas (1996)': 1107, 'Orlando (1993)': 1108, 'Oscar & Lucinda (1997)': 1109, 'Othello (1995)': 1110, 'Other Voices, Other Rooms (1997)': 1111, 'Out to Sea (1997)': 1112, 'Outbreak (1995)': 1113, 'Outlaw, The (1943)': 1114, 'Pagemaster, The (1994)': 1115, 'Pallbearer, The (1996)': 1116, 'Palmetto (1998)': 1117, 'Palookaville (1996)': 1118, 'Panther (1995)': 1119, 'Paper, The (1994)': 1120, 'Paradise Lost: The Child Murders at Robin Hood Hills (1996)': 1121, 'Paradise Road (1997)': 1122, 'Parent Trap, The (1961)': 1123, 'Paris Is Burning (1990)': 1124, 'Paris Was a Woman (1995)': 1125, 'Paris, France (1993)': 1126, 'Paris, Texas (1984)': 1127, 'Party Girl (1995)': 1128, 'Passion Fish (1992)': 1129, 'Pather Panchali (1955)': 1130, 'Paths of Glory (1957)': 1131, 'Patton (1970)': 1132, 'Peacemaker, The (1997)': 1133, 'Penny Serenade (1941)': 1134, 'People vs. Larry Flynt, The (1996)': 1135, 'Perez Family, The (1995)': 1136, 'Perfect Candidate, A (1996)': 1137, 'Perfect World, A (1993)': 1138, 'Persuasion (1995)': 1139, 'Pest, The (1997)': 1140, \"Pete's Dragon (1977)\": 1141, 'Phantom, The (1996)': 1142, 'Phantoms (1998)': 1143, \"Pharaoh's Army (1995)\": 1144, 'Phat Beach (1996)': 1145, 'Phenomenon (1996)': 1146, 'Philadelphia (1993)': 1147, 'Philadelphia Story, The (1940)': 1148, 'Piano, The (1993)': 1149, 'Picnic (1955)': 1150, 'Picture Bride (1995)': 1151, 'Picture Perfect (1997)': 1152, 'Pie in the Sky (1995)': 1153, 'Pillow Book, The (1995)': 1154, 'Pink Floyd - The Wall (1982)': 1155, 'Pinocchio (1940)': 1156, 'Platoon (1986)': 1157, 'Playing God (1997)': 1158, 'Pocahontas (1995)': 1159, 'Poetic Justice (1993)': 1160, 'Poison Ivy II (1995)': 1161, 'Police Story 4: Project S (Chao ji ji hua) (1993)': 1162, 'Pollyanna (1960)': 1163, 'Pompatus of Love, The (1996)': 1164, 'Ponette (1996)': 1165, 'Portrait of a Lady, The (1996)': 1166, 'Postino, Il (1994)': 1167, 'Postman, The (1997)': 1168, 'Powder (1995)': 1169, 'Power 98 (1995)': 1170, \"Preacher's Wife, The (1996)\": 1171, 'Prefontaine (1997)': 1172, 'Pretty Woman (1990)': 1173, 'Price Above Rubies, A (1998)': 1174, 'Priest (1994)': 1175, 'Primal Fear (1996)': 1176, 'Primary Colors (1998)': 1177, 'Princess Bride, The (1987)': 1178, 'Princess Caraboo (1994)': 1179, 'Prisoner of the Mountains (Kavkazsky Plennik) (1996)': 1180, 'Private Benjamin (1980)': 1181, 'Private Parts (1997)': 1182, 'Professional, The (1994)': 1183, 'Program, The (1993)': 1184, 'Promesse, La (1996)': 1185, 'Promise, The (Versprechen, Das) (1994)': 1186, 'Prophecy II, The (1998)': 1187, 'Prophecy, The (1995)': 1188, 'Psycho (1960)': 1189, 'Pulp Fiction (1994)': 1190, 'Pump Up the Volume (1990)': 1191, 'Purple Noon (1960)': 1192, 'Pushing Hands (1992)': 1193, \"Pyromaniac's Love Story, A (1995)\": 1194, 'Quartier Mozart (1992)': 1195, 'Queen Margot (Reine Margot, La) (1994)': 1196, 'Quest, The (1996)': 1197, 'Quick and the Dead, The (1995)': 1198, 'Quiet Man, The (1952)': 1199, 'Quiet Room, The (1996)': 1200, 'Quiz Show (1994)': 1201, 'Race the Sun (1996)': 1202, 'Radioland Murders (1994)': 1203, 'Raging Bull (1980)': 1204, 'Raiders of the Lost Ark (1981)': 1205, 'Rainmaker, The (1997)': 1206, 'Raise the Red Lantern (1991)': 1207, 'Raising Arizona (1987)': 1208, 'Ran (1985)': 1209, 'Ransom (1996)': 1210, 'Raw Deal (1948)': 1211, 'Ready to Wear (Pret-A-Porter) (1994)': 1212, 'Real Genius (1985)': 1213, 'Reality Bites (1994)': 1214, 'Rear Window (1954)': 1215, 'Rebecca (1940)': 1216, 'Rebel Without a Cause (1955)': 1217, 'Reckless (1995)': 1218, 'Red Corner (1997)': 1219, 'Red Firecracker, Green Firecracker (1994)': 1220, 'Red Rock West (1992)': 1221, 'Ref, The (1994)': 1222, 'Relative Fear (1994)': 1223, 'Relic, The (1997)': 1224, 'Reluctant Debutante, The (1958)': 1225, 'Remains of the Day, The (1993)': 1226, 'Renaissance Man (1994)': 1227, 'Rendezvous in Paris (Rendez-vous de Paris, Les) (1995)': 1228, 'Rent-a-Kid (1995)': 1229, 'Replacement Killers, The (1998)': 1230, 'Reservoir Dogs (1992)': 1231, 'Restoration (1995)': 1232, 'Return of Martin Guerre, The (Retour de Martin Guerre, Le) (1982)': 1233, 'Return of the Jedi (1983)': 1234, 'Return of the Pink Panther, The (1974)': 1235, 'Rhyme & Reason (1997)': 1236, \"Rich Man's Wife, The (1996)\": 1237, 'Richard III (1995)': 1238, 'Richie Rich (1994)': 1239, 'Ridicule (1996)': 1240, 'Right Stuff, The (1983)': 1241, 'Ripe (1996)': 1242, 'Rising Sun (1993)': 1243, 'River Wild, The (1994)': 1244, 'Road to Wellville, The (1994)': 1245, 'Rob Roy (1995)': 1246, \"Robert A. Heinlein's The Puppet Masters (1994)\": 1247, 'Robin Hood: Men in Tights (1993)': 1248, 'Robin Hood: Prince of Thieves (1991)': 1249, 'Robocop 3 (1993)': 1250, 'Rock, The (1996)': 1251, 'Rocket Man (1997)': 1252, 'Roman Holiday (1953)': 1253, 'Romeo Is Bleeding (1993)': 1254, 'Romper Stomper (1992)': 1255, \"Romy and Michele's High School Reunion (1997)\": 1256, 'Room with a View, A (1986)': 1257, 'Roommates (1995)': 1258, \"Roseanna's Grave (For Roseanna) (1997)\": 1259, 'Rosencrantz and Guildenstern Are Dead (1990)': 1260, 'Rosewood (1997)': 1261, 'Rough Magic (1995)': 1262, 'Ruby in Paradise (1993)': 1263, 'Rudy (1993)': 1264, 'Ruling Class, The (1972)': 1265, 'Rumble in the Bronx (1995)': 1266, 'Run of the Country, The (1995)': 1267, 'S.F.W. (1994)': 1268, 'Sabrina (1954)': 1269, 'Sabrina (1995)': 1270, 'Safe (1995)': 1271, 'Safe Passage (1994)': 1272, 'Saint of Fort Washington, The (1993)': 1273, 'Saint, The (1997)': 1274, 'Salut cousin! (1996)': 1275, 'Santa Clause, The (1994)': 1276, 'Santa with Muscles (1996)': 1277, 'Savage Nights (Nuits fauves, Les) (1992)': 1278, 'Scarlet Letter, The (1926)': 1279, 'Scarlet Letter, The (1995)': 1280, \"Schindler's List (1993)\": 1281, 'Schizopolis (1996)': 1282, 'Scout, The (1994)': 1283, 'Scream (1996)': 1284, 'Scream 2 (1997)': 1285, 'Scream of Stone (Schrei aus Stein) (1991)': 1286, 'Screamers (1995)': 1287, 'Search for One-eye Jimmy, The (1996)': 1288, 'Searching for Bobby Fischer (1993)': 1289, 'Second Jungle Book: Mowgli & Baloo, The (1997)': 1290, 'Secret Adventures of Tom Thumb, The (1993)': 1291, 'Secret Agent, The (1996)': 1292, 'Secret Garden, The (1993)': 1293, 'Secret of Roan Inish, The (1994)': 1294, 'Secrets & Lies (1996)': 1295, 'Selena (1997)': 1296, 'Sense and Sensibility (1995)': 1297, 'Senseless (1998)': 1298, 'Serial Mom (1994)': 1299, 'Set It Off (1996)': 1300, 'Seven (Se7en) (1995)': 1301, 'Seven Years in Tibet (1997)': 1302, 'Seventh Seal, The (Sjunde inseglet, Det) (1957)': 1303, 'Sex, Lies, and Videotape (1989)': 1304, 'Sexual Life of the Belgians, The (1994)': 1305, 'Sgt. Bilko (1996)': 1306, 'Shadow Conspiracy (1997)': 1307, 'Shadow of Angels (Schatten der Engel) (1976)': 1308, 'Shadow, The (1994)': 1309, 'Shadowlands (1993)': 1310, 'Shadows (Cienie) (1988)': 1311, 'Shaggy Dog, The (1959)': 1312, 'Shall We Dance? (1937)': 1313, 'Shall We Dance? (1996)': 1314, 'Shallow Grave (1994)': 1315, 'Shanghai Triad (Yao a yao yao dao waipo qiao) (1995)': 1316, 'Shawshank Redemption, The (1994)': 1317, \"She's So Lovely (1997)\": 1318, \"She's the One (1996)\": 1319, 'Shiloh (1997)': 1320, 'Shine (1996)': 1321, 'Shining, The (1980)': 1322, 'Shooter, The (1995)': 1323, 'Shooting Fish (1997)': 1324, 'Shopping (1994)': 1325, 'Short Cuts (1993)': 1326, 'Show, The (1995)': 1327, 'Showgirls (1995)': 1328, 'Silence of the Lambs, The (1991)': 1329, 'Silence of the Palace, The (Saimt el Qusur) (1994)': 1330, 'Simple Twist of Fate, A (1994)': 1331, 'Simple Wish, A (1997)': 1332, \"Singin' in the Rain (1952)\": 1333, 'Sirens (1994)': 1334, 'Six Degrees of Separation (1993)': 1335, 'Sixth Man, The (1997)': 1336, 'Sleeper (1973)': 1337, 'Sleepers (1996)': 1338, 'Sleepless in Seattle (1993)': 1339, 'Sleepover (1995)': 1340, 'Sliding Doors (1998)': 1341, 'Sling Blade (1996)': 1342, 'Slingshot, The (1993)': 1343, 'Sliver (1993)': 1344, 'Small Faces (1995)': 1345, 'Smile Like Yours, A (1997)': 1346, \"Smilla's Sense of Snow (1997)\": 1347, 'Smoke (1995)': 1348, 'Sneakers (1992)': 1349, 'Snow White and the Seven Dwarfs (1937)': 1350, 'So Dear to My Heart (1949)': 1351, 'So I Married an Axe Murderer (1993)': 1352, 'Solo (1996)': 1353, 'Some Folks Call It a Sling Blade (1993)': 1354, 'Some Kind of Wonderful (1987)': 1355, 'Some Like It Hot (1959)': 1356, \"Some Mother's Son (1996)\": 1357, 'Somebody to Love (1994)': 1358, \"Someone Else's America (1995)\": 1359, 'Something to Talk About (1995)': 1360, 'Somewhere in Time (1980)': 1361, 'Son in Law (1993)': 1362, \"Sophie's Choice (1982)\": 1363, 'Soul Food (1997)': 1364, 'Sound of Music, The (1965)': 1365, 'Space Jam (1996)': 1366, 'Spanish Prisoner, The (1997)': 1367, 'Spanking the Monkey (1994)': 1368, 'Spawn (1997)': 1369, 'Specialist, The (1994)': 1370, 'Species (1995)': 1371, 'Speechless (1994)': 1372, 'Speed (1994)': 1373, 'Speed 2: Cruise Control (1997)': 1374, 'Spellbound (1945)': 1375, 'Sphere (1998)': 1376, 'Spice World (1997)': 1377, 'Spirits of the Dead (Tre passi nel delirio) (1968)': 1378, 'Spitfire Grill, The (1996)': 1379, 'Sprung (1997)': 1380, 'Spy Hard (1996)': 1381, 'Squeeze (1996)': 1382, 'Stag (1997)': 1383, 'Stalingrad (1993)': 1384, 'Stalker (1979)': 1385, 'Stand by Me (1986)': 1386, 'Star Kid (1997)': 1387, \"Star Maker, The (Uomo delle stelle, L') (1995)\": 1388, 'Star Maps (1997)': 1389, 'Star Trek III: The Search for Spock (1984)': 1390, 'Star Trek IV: The Voyage Home (1986)': 1391, 'Star Trek V: The Final Frontier (1989)': 1392, 'Star Trek VI: The Undiscovered Country (1991)': 1393, 'Star Trek: First Contact (1996)': 1394, 'Star Trek: Generations (1994)': 1395, 'Star Trek: The Motion Picture (1979)': 1396, 'Star Trek: The Wrath of Khan (1982)': 1397, 'Star Wars (1977)': 1398, 'Stargate (1994)': 1399, 'Stars Fell on Henrietta, The (1995)': 1400, 'Starship Troopers (1997)': 1401, 'Steal Big, Steal Little (1995)': 1402, 'Stealing Beauty (1996)': 1403, 'Steel (1997)': 1404, 'Stefano Quantestorie (1993)': 1405, \"Stephen King's The Langoliers (1995)\": 1406, 'Sting, The (1973)': 1407, 'Stonewall (1995)': 1408, 'Story of Xinghua, The (1993)': 1409, 'Strange Days (1995)': 1410, 'Stranger in the House (1997)': 1411, 'Stranger, The (1994)': 1412, 'Strawberry and Chocolate (Fresa y chocolate) (1993)': 1413, 'Street Fighter (1994)': 1414, 'Streetcar Named Desire, A (1951)': 1415, 'Strictly Ballroom (1992)': 1416, 'Striking Distance (1993)': 1417, 'Stripes (1981)': 1418, 'Striptease (1996)': 1419, 'Stuart Saves His Family (1995)': 1420, 'Stupids, The (1996)': 1421, 'SubUrbia (1997)': 1422, 'Substance of Fire, The (1996)': 1423, 'Substitute, The (1996)': 1424, 'Sudden Death (1995)': 1425, 'Sudden Manhattan (1996)': 1426, 'Sum of Us, The (1994)': 1427, 'Sunchaser, The (1996)': 1428, 'Sunset Blvd. (1950)': 1429, 'Sunset Park (1996)': 1430, 'Super Mario Bros. (1993)': 1431, 'Supercop (1992)': 1432, 'Surviving Picasso (1996)': 1433, 'Surviving the Game (1994)': 1434, 'Suture (1993)': 1435, 'Swan Princess, The (1994)': 1436, 'Sweet Hereafter, The (1997)': 1437, 'Sweet Nothing (1995)': 1438, 'Swept from the Sea (1997)': 1439, 'Swimming with Sharks (1995)': 1440, 'Swingers (1996)': 1441, 'Swiss Family Robinson (1960)': 1442, 'Switchback (1997)': 1443, 'Switchblade Sisters (1975)': 1444, 'Sword in the Stone, The (1963)': 1445, 'Symphonie pastorale, La (1946)': 1446, 'T-Men (1947)': 1447, 'Tainted (1998)': 1448, 'Tales From the Crypt Presents: Demon Knight (1995)': 1449, 'Tales from the Crypt Presents: Bordello of Blood (1996)': 1450, 'Tales from the Hood (1995)': 1451, 'Talking About Sex (1994)': 1452, 'Tango Lesson, The (1997)': 1453, 'Tank Girl (1995)': 1454, 'Target (1995)': 1455, 'Taxi Driver (1976)': 1456, 'Telling Lies in America (1997)': 1457, 'Temptress Moon (Feng Yue) (1996)': 1458, 'Terminal Velocity (1994)': 1459, 'Terminator 2: Judgment Day (1991)': 1460, 'Terminator, The (1984)': 1461, 'Terror in a Texas Town (1958)': 1462, 'Tetsuo II: Body Hammer (1992)': 1463, 'That Darn Cat! (1965)': 1464, 'That Darn Cat! (1997)': 1465, 'That Old Feeling (1997)': 1466, 'That Thing You Do! (1996)': 1467, 'The Courtyard (1995)': 1468, 'The Deadly Cure (1996)': 1469, 'The Innocent (1994)': 1470, 'Theodore Rex (1995)': 1471, 'They Made Me a Criminal (1939)': 1472, 'Thieves (Voleurs, Les) (1996)': 1473, 'Thin Blue Line, The (1988)': 1474, 'Thin Line Between Love and Hate, A (1996)': 1475, 'Thin Man, The (1934)': 1476, \"Things to Do in Denver when You're Dead (1995)\": 1477, 'Thinner (1996)': 1478, 'Third Man, The (1949)': 1479, 'Thirty-Two Short Films About Glenn Gould (1993)': 1480, 'This Is Spinal Tap (1984)': 1481, 'Thousand Acres, A (1997)': 1482, 'Three Caballeros, The (1945)': 1483, 'Three Colors: Blue (1993)': 1484, 'Three Colors: Red (1994)': 1485, 'Three Colors: White (1994)': 1486, 'Three Lives and Only One Death (1996)': 1487, 'Three Musketeers, The (1993)': 1488, 'Three Wishes (1995)': 1489, 'Threesome (1994)': 1490, 'Tie Me Up! Tie Me Down! (1990)': 1491, 'Tie That Binds, The (1995)': 1492, 'Tigrero: A Film That Was Never Made (1994)': 1493, 'Time Tracers (1995)': 1494, 'Time to Kill, A (1996)': 1495, 'Timecop (1994)': 1496, 'Tin Cup (1996)': 1497, 'Tin Drum, The (Blechtrommel, Die) (1979)': 1498, 'Tin Men (1987)': 1499, 'Titanic (1997)': 1500, 'To Be or Not to Be (1942)': 1501, 'To Catch a Thief (1955)': 1502, 'To Cross the Rubicon (1991)': 1503, 'To Die For (1995)': 1504, 'To Gillian on Her 37th Birthday (1996)': 1505, 'To Have, or Not (1995)': 1506, 'To Kill a Mockingbird (1962)': 1507, 'To Live (Huozhe) (1994)': 1508, 'To Wong Foo, Thanks for Everything! Julie Newmar (1995)': 1509, 'Tokyo Fist (1995)': 1510, 'Tom & Viv (1994)': 1511, 'Tom and Huck (1995)': 1512, 'Tombstone (1993)': 1513, 'Tommy Boy (1995)': 1514, 'Tomorrow Never Dies (1997)': 1515, 'Top Gun (1986)': 1516, 'Top Hat (1935)': 1517, 'Total Eclipse (1995)': 1518, 'Touch (1997)': 1519, 'Touch of Evil (1958)': 1520, 'Tough and Deadly (1995)': 1521, 'Touki Bouki (Journey of the Hyena) (1973)': 1522, 'Toy Story (1995)': 1523, 'Trainspotting (1996)': 1524, 'Transformers: The Movie, The (1986)': 1525, 'Traveller (1997)': 1526, 'Treasure of the Sierra Madre, The (1948)': 1527, 'Trees Lounge (1996)': 1528, 'Trial and Error (1997)': 1529, 'Trial by Jury (1994)': 1530, 'Trigger Effect, The (1996)': 1531, 'True Crime (1995)': 1532, 'True Lies (1994)': 1533, 'True Romance (1993)': 1534, 'Truman Show, The (1998)': 1535, 'Trust (1990)': 1536, 'Truth About Cats & Dogs, The (1996)': 1537, 'Truth or Consequences, N.M. (1997)': 1538, 'Turbo: A Power Rangers Movie (1997)': 1539, 'Turbulence (1997)': 1540, 'Turning, The (1992)': 1541, 'Twelfth Night (1996)': 1542, 'Twelve Monkeys (1995)': 1543, 'Twilight (1998)': 1544, 'Twin Town (1997)': 1545, 'Twisted (1996)': 1546, 'Twister (1996)': 1547, 'Two Bits (1995)': 1548, 'Two Deaths (1995)': 1549, 'Two Friends (1986) ': 1550, 'Two Much (1996)': 1551, 'Two if by Sea (1996)': 1552, 'Two or Three Things I Know About Her (1966)': 1553, 'U Turn (1997)': 1554, 'U.S. Marshalls (1998)': 1555, \"Ulee's Gold (1997)\": 1556, 'Umbrellas of Cherbourg, The (Parapluies de Cherbourg, Les) (1964)': 1557, 'Unbearable Lightness of Being, The (1988)': 1558, 'Under Siege (1992)': 1559, 'Under Siege 2: Dark Territory (1995)': 1560, 'Underground (1995)': 1561, 'Underneath, The (1995)': 1562, 'Underworld (1997)': 1563, 'Unforgettable (1996)': 1564, 'Unforgiven (1992)': 1565, 'Unhook the Stars (1996)': 1566, 'Unstrung Heroes (1995)': 1567, 'Until the End of the World (Bis ans Ende der Welt) (1991)': 1568, 'Unzipped (1995)': 1569, 'Up Close and Personal (1996)': 1570, 'Up in Smoke (1978)': 1571, 'Usual Suspects, The (1995)': 1572, 'Vampire in Brooklyn (1995)': 1573, 'Van, The (1996)': 1574, 'Vanya on 42nd Street (1994)': 1575, 'Vegas Vacation (1997)': 1576, 'Venice/Venice (1992)': 1577, 'Vermin (1998)': 1578, 'Vermont Is For Lovers (1992)': 1579, 'Vertigo (1958)': 1580, 'Very Brady Sequel, A (1996)': 1581, 'Very Natural Thing, A (1974)': 1582, 'Victor/Victoria (1982)': 1583, 'Vie est belle, La (Life is Rosey) (1987)': 1584, 'Village of the Damned (1995)': 1585, 'Virtuosity (1995)': 1586, 'Visitors, The (Visiteurs, Les) (1993)': 1587, 'Volcano (1997)': 1588, 'Wag the Dog (1997)': 1589, 'Waiting for Guffman (1996)': 1590, 'Waiting to Exhale (1995)': 1591, 'Walk in the Clouds, A (1995)': 1592, 'Walk in the Sun, A (1945)': 1593, 'Walkabout (1971)': 1594, 'Walking Dead, The (1995)': 1595, 'Walking and Talking (1996)': 1596, 'Wallace & Gromit: The Best of Aardman Animation (1996)': 1597, 'War Room, The (1993)': 1598, 'War at Home, The (1996)': 1599, 'War, The (1994)': 1600, 'Warriors of Virtue (1997)': 1601, 'Washington Square (1997)': 1602, 'Waterworld (1995)': 1603, 'Wedding Bell Blues (1996)': 1604, 'Wedding Gift, The (1994)': 1605, 'Wedding Singer, The (1998)': 1606, \"Weekend at Bernie's (1989)\": 1607, 'Welcome To Sarajevo (1997)': 1608, 'Welcome to the Dollhouse (1995)': 1609, \"Wend Kuuni (God's Gift) (1982)\": 1610, \"Wes Craven's New Nightmare (1994)\": 1611, 'What Happened Was... (1994)': 1612, \"What's Eating Gilbert Grape (1993)\": 1613, \"What's Love Got to Do with It (1993)\": 1614, 'When Harry Met Sally... (1989)': 1615, 'When Night Is Falling (1995)': 1616, 'When We Were Kings (1996)': 1617, 'When a Man Loves a Woman (1994)': 1618, 'When the Cats Away (Chacun cherche son chat) (1996)': 1619, 'While You Were Sleeping (1995)': 1620, 'White Balloon, The (1995)': 1621, \"White Man's Burden (1995)\": 1622, 'White Squall (1996)': 1623, 'Whole Wide World, The (1996)': 1624, \"Widows' Peak (1994)\": 1625, 'Wife, The (1995)': 1626, 'Wild America (1997)': 1627, 'Wild Bill (1995)': 1628, 'Wild Bunch, The (1969)': 1629, 'Wild Reeds (1994)': 1630, 'Wild Things (1998)': 1631, \"William Shakespeare's Romeo and Juliet (1996)\": 1632, 'Willy Wonka and the Chocolate Factory (1971)': 1633, 'Window to Paris (1994)': 1634, 'Wings of Courage (1995)': 1635, 'Wings of Desire (1987)': 1636, 'Wings of the Dove, The (1997)': 1637, 'Winnie the Pooh and the Blustery Day (1968)': 1638, 'Winter Guest, The (1997)': 1639, 'Wishmaster (1997)': 1640, 'With Honors (1994)': 1641, 'Withnail and I (1987)': 1642, 'Witness (1985)': 1643, 'Wizard of Oz, The (1939)': 1644, 'Wolf (1994)': 1645, 'Woman in Question, The (1950)': 1646, 'Women, The (1939)': 1647, 'Wonderful, Horrible Life of Leni Riefenstahl, The (1993)': 1648, 'Wonderland (1997)': 1649, \"Wooden Man's Bride, The (Wu Kui) (1994)\": 1650, 'World of Apu, The (Apur Sansar) (1959)': 1651, 'Wrong Trousers, The (1993)': 1652, 'Wyatt Earp (1994)': 1653, 'Yankee Zulu (1994)': 1654, 'Year of the Horse (1997)': 1655, 'You So Crazy (1994)': 1656, 'Young Frankenstein (1974)': 1657, 'Young Guns (1988)': 1658, 'Young Guns II (1990)': 1659, \"Young Poisoner's Handbook, The (1995)\": 1660, 'Zeus and Roxanne (1997)': 1661, 'unknown': 1662, 'Á köldum klaka (Cold Fever) (1994)': 1663}\n"
     ]
    }
   ],
   "source": [
    "movie_dict = {movie : index for index, movie in enumerate(movies_list)}\n",
    "print(movie_dict)"
   ]
  },
  {
   "cell_type": "code",
   "execution_count": 69,
   "metadata": {
    "id": "d3o8f5RPLqkY"
   },
   "outputs": [],
   "source": [
    "case_insensitive_movies_list = [i.lower() for i in movies_list]"
   ]
  },
  {
   "cell_type": "markdown",
   "metadata": {
    "id": "TzI5h6UapJLS"
   },
   "source": [
    "Fitting a KNN model:"
   ]
  },
  {
   "cell_type": "code",
   "execution_count": 70,
   "metadata": {
    "colab": {
     "base_uri": "https://localhost:8080/",
     "height": 67
    },
    "id": "HH5XdKjBpIsQ",
    "outputId": "937c7c7b-adea-4472-9ea9-d27e09688caf"
   },
   "outputs": [
    {
     "data": {
      "text/html": [
       "<style>#sk-container-id-2 {color: black;}#sk-container-id-2 pre{padding: 0;}#sk-container-id-2 div.sk-toggleable {background-color: white;}#sk-container-id-2 label.sk-toggleable__label {cursor: pointer;display: block;width: 100%;margin-bottom: 0;padding: 0.3em;box-sizing: border-box;text-align: center;}#sk-container-id-2 label.sk-toggleable__label-arrow:before {content: \"▸\";float: left;margin-right: 0.25em;color: #696969;}#sk-container-id-2 label.sk-toggleable__label-arrow:hover:before {color: black;}#sk-container-id-2 div.sk-estimator:hover label.sk-toggleable__label-arrow:before {color: black;}#sk-container-id-2 div.sk-toggleable__content {max-height: 0;max-width: 0;overflow: hidden;text-align: left;background-color: #f0f8ff;}#sk-container-id-2 div.sk-toggleable__content pre {margin: 0.2em;color: black;border-radius: 0.25em;background-color: #f0f8ff;}#sk-container-id-2 input.sk-toggleable__control:checked~div.sk-toggleable__content {max-height: 200px;max-width: 100%;overflow: auto;}#sk-container-id-2 input.sk-toggleable__control:checked~label.sk-toggleable__label-arrow:before {content: \"▾\";}#sk-container-id-2 div.sk-estimator input.sk-toggleable__control:checked~label.sk-toggleable__label {background-color: #d4ebff;}#sk-container-id-2 div.sk-label input.sk-toggleable__control:checked~label.sk-toggleable__label {background-color: #d4ebff;}#sk-container-id-2 input.sk-hidden--visually {border: 0;clip: rect(1px 1px 1px 1px);clip: rect(1px, 1px, 1px, 1px);height: 1px;margin: -1px;overflow: hidden;padding: 0;position: absolute;width: 1px;}#sk-container-id-2 div.sk-estimator {font-family: monospace;background-color: #f0f8ff;border: 1px dotted black;border-radius: 0.25em;box-sizing: border-box;margin-bottom: 0.5em;}#sk-container-id-2 div.sk-estimator:hover {background-color: #d4ebff;}#sk-container-id-2 div.sk-parallel-item::after {content: \"\";width: 100%;border-bottom: 1px solid gray;flex-grow: 1;}#sk-container-id-2 div.sk-label:hover label.sk-toggleable__label {background-color: #d4ebff;}#sk-container-id-2 div.sk-serial::before {content: \"\";position: absolute;border-left: 1px solid gray;box-sizing: border-box;top: 0;bottom: 0;left: 50%;z-index: 0;}#sk-container-id-2 div.sk-serial {display: flex;flex-direction: column;align-items: center;background-color: white;padding-right: 0.2em;padding-left: 0.2em;position: relative;}#sk-container-id-2 div.sk-item {position: relative;z-index: 1;}#sk-container-id-2 div.sk-parallel {display: flex;align-items: stretch;justify-content: center;background-color: white;position: relative;}#sk-container-id-2 div.sk-item::before, #sk-container-id-2 div.sk-parallel-item::before {content: \"\";position: absolute;border-left: 1px solid gray;box-sizing: border-box;top: 0;bottom: 0;left: 50%;z-index: -1;}#sk-container-id-2 div.sk-parallel-item {display: flex;flex-direction: column;z-index: 1;position: relative;background-color: white;}#sk-container-id-2 div.sk-parallel-item:first-child::after {align-self: flex-end;width: 50%;}#sk-container-id-2 div.sk-parallel-item:last-child::after {align-self: flex-start;width: 50%;}#sk-container-id-2 div.sk-parallel-item:only-child::after {width: 0;}#sk-container-id-2 div.sk-dashed-wrapped {border: 1px dashed gray;margin: 0 0.4em 0.5em 0.4em;box-sizing: border-box;padding-bottom: 0.4em;background-color: white;}#sk-container-id-2 div.sk-label label {font-family: monospace;font-weight: bold;display: inline-block;line-height: 1.2em;}#sk-container-id-2 div.sk-label-container {text-align: center;}#sk-container-id-2 div.sk-container {/* jupyter's `normalize.less` sets `[hidden] { display: none; }` but bootstrap.min.css set `[hidden] { display: none !important; }` so we also need the `!important` here to be able to override the default hidden behavior on the sphinx rendered scikit-learn.org. See: https://github.com/scikit-learn/scikit-learn/issues/21755 */display: inline-block !important;position: relative;}#sk-container-id-2 div.sk-text-repr-fallback {display: none;}</style><div id=\"sk-container-id-2\" class=\"sk-top-container\"><div class=\"sk-text-repr-fallback\"><pre>NearestNeighbors(algorithm=&#x27;brute&#x27;, metric=&#x27;cosine&#x27;)</pre><b>In a Jupyter environment, please rerun this cell to show the HTML representation or trust the notebook. <br />On GitHub, the HTML representation is unable to render, please try loading this page with nbviewer.org.</b></div><div class=\"sk-container\" hidden><div class=\"sk-item\"><div class=\"sk-estimator sk-toggleable\"><input class=\"sk-toggleable__control sk-hidden--visually\" id=\"sk-estimator-id-2\" type=\"checkbox\" checked><label for=\"sk-estimator-id-2\" class=\"sk-toggleable__label sk-toggleable__label-arrow\">NearestNeighbors</label><div class=\"sk-toggleable__content\"><pre>NearestNeighbors(algorithm=&#x27;brute&#x27;, metric=&#x27;cosine&#x27;)</pre></div></div></div></div></div>"
      ],
      "text/plain": [
       "NearestNeighbors(algorithm='brute', metric='cosine')"
      ]
     },
     "execution_count": 70,
     "metadata": {},
     "output_type": "execute_result"
    }
   ],
   "source": [
    "knn_movie_model = NearestNeighbors(metric='cosine', algorithm='brute')\n",
    "knn_movie_model.fit(movie_to_user_sparse_df)\n"
   ]
  },
  {
   "cell_type": "code",
   "execution_count": 71,
   "metadata": {
    "id": "yE70fQ9bqGiH"
   },
   "outputs": [],
   "source": [
    "## function to find top n similar users of the given input user \n",
    "def get_similar_movies(movie, n = 10):\n",
    "  ## input to this function is the movie and number of top similar movies you want.\n",
    "  index = movie_dict[movie]\n",
    "  knn_input = np.asarray([movie_to_user_df.values[index]])\n",
    "  n = min(len(movies_list)-1,n)\n",
    "  distances, indices = knn_movie_model.kneighbors(knn_input, n_neighbors=n+1)\n",
    "  \n",
    "  print(\"Top\",n,\"movies which are very much similar to the Movie-\",movie, \"are: \")\n",
    "  print(\" \")\n",
    "  for i in range(1,len(distances[0])):\n",
    "    print(movies_list[indices[0][i]])\n",
    "  \n"
   ]
  },
  {
   "cell_type": "markdown",
   "metadata": {
    "id": "2swG-7i8VcDh"
   },
   "source": [
    "Testing the recommender system with basic input with the movie names\n"
   ]
  },
  {
   "cell_type": "code",
   "execution_count": 72,
   "metadata": {
    "colab": {
     "base_uri": "https://localhost:8080/",
     "height": 302
    },
    "id": "KTElQKhe33Rg",
    "outputId": "44bc712a-096d-4ca2-d099-035cc2c5c7fc"
   },
   "outputs": [
    {
     "name": "stdout",
     "output_type": "stream",
     "text": [
      "Top 15 movies which are very much similar to the Movie- 101 Dalmatians (1996) are: \n",
      " \n",
      "Jack (1996)\n",
      "Twister (1996)\n",
      "Willy Wonka and the Chocolate Factory (1971)\n",
      "Independence Day (ID4) (1996)\n",
      "Toy Story (1995)\n",
      "Father of the Bride Part II (1995)\n",
      "Hunchback of Notre Dame, The (1996)\n",
      "Lion King, The (1994)\n",
      "Mrs. Doubtfire (1993)\n",
      "Jungle Book, The (1994)\n",
      "Grumpier Old Men (1995)\n",
      "Mission: Impossible (1996)\n",
      "Mr. Holland's Opus (1995)\n",
      "Homeward Bound II: Lost in San Francisco (1996)\n",
      "Dragonheart (1996)\n"
     ]
    }
   ],
   "source": [
    "from pprint import pprint\n",
    "movie_name = '101 Dalmatians (1996)'\n",
    "\n",
    "get_similar_movies(movie_name,15)"
   ]
  },
  {
   "cell_type": "markdown",
   "metadata": {
    "id": "LIGky82kuQxF"
   },
   "source": [
    "**Dynamically suggesting** movie name from the existing movie corpus we have, based on the user input using try and except architecture."
   ]
  },
  {
   "cell_type": "markdown",
   "metadata": {
    "id": "eJus19K5VpkG"
   },
   "source": [
    "Defining a function which outputs movie names as suggestion when the user mis spells the movie name. **User might have intended to type any of these movie names.**"
   ]
  },
  {
   "cell_type": "code",
   "execution_count": 53,
   "metadata": {
    "id": "AXKHWqLVI1w5"
   },
   "outputs": [],
   "source": [
    "# function which takes input and returns suggestions for the user\n",
    "\n",
    "def get_possible_movies(movie):\n",
    "\n",
    "    temp = ''\n",
    "    possible_movies = case_insensitive_movies_list.copy()\n",
    "    for i in movie :\n",
    "      out = []\n",
    "      temp += i\n",
    "      for j in possible_movies:\n",
    "        if temp in j:\n",
    "          out.append(j)\n",
    "      if len(out) == 0:\n",
    "          return possible_movies\n",
    "      out.sort()\n",
    "      possible_movies = out.copy()\n",
    "\n",
    "    return possible_movies"
   ]
  },
  {
   "cell_type": "markdown",
   "metadata": {
    "id": "UM1yfFMNW-T7"
   },
   "source": [
    "This function provides user with **movie name suggestions if movie name is mis-spelled** or **Recommends similar movies to the input movie** if the movie name is valid."
   ]
  },
  {
   "cell_type": "code",
   "execution_count": 54,
   "metadata": {
    "id": "TW1wNb-tuOWL"
   },
   "outputs": [],
   "source": [
    "class invalid(Exception):\n",
    "    pass\n",
    "\n",
    "def spell_correction():\n",
    "    \n",
    "    try:\n",
    "\n",
    "      movie_name = input(\"Enter the Movie name: \")\n",
    "      movie_name_lower = movie_name.lower()\n",
    "      if movie_name_lower not in case_insensitive_movies_list :\n",
    "        raise invalid\n",
    "      else :\n",
    "        # movies_list[case_insensitive_country_names.index(movie_name_lower)]\n",
    "        num_recom = int(input(\"Enter Number of movie recommendations needed: \"))\n",
    "        get_similar_movies(movies_list[case_insensitive_movies_list.index(movie_name_lower)],num_recom)\n",
    "\n",
    "    except invalid:\n",
    "\n",
    "      possible_movies = get_possible_movies(movie_name_lower)\n",
    "\n",
    "      if len(possible_movies) == len(movies_list) :\n",
    "        print(\"Movie name entered is does not exist in the list \")\n",
    "      else :\n",
    "        indices = [case_insensitive_movies_list.index(i) for i in possible_movies]\n",
    "        print(\"Entered Movie name is not matching with any movie from the dataset . Please check the below suggestions :\\n\",[movies_list[i] for i in indices])\n",
    "        spell_correction()\n"
   ]
  },
  {
   "cell_type": "code",
   "execution_count": 236,
   "metadata": {
    "colab": {
     "base_uri": "https://localhost:8080/",
     "height": 406
    },
    "id": "0_J8X0l_33PE",
    "outputId": "0d2f0aaa-fa93-4fd3-a249-8815e5b089b1"
   },
   "outputs": [
    {
     "name": "stdout",
     "output_type": "stream",
     "text": [
      "Enter the Movie name: back\n",
      "Entered Movie name is not matching with any movie from the dataset . Please check the below suggestions :\n",
      " ['Back to the Future (1985)', 'Backbeat (1993)', 'Best of the Best 3: No Turning Back (1995)', 'Empire Strikes Back, The (1980)', 'Hunchback of Notre Dame, The (1996)', 'Switchback (1997)']\n",
      "Enter the Movie name: Empire Strikes Back, The (1980)\n",
      "Enter Number of movie recommendations needed: 15\n",
      "Top 15 movies which are very much similar to the Movie- Empire Strikes Back, The (1980) are: \n",
      " \n",
      "Raiders of the Lost Ark (1981)\n",
      "Indiana Jones and the Last Crusade (1989)\n",
      "Back to the Future (1985)\n",
      "Star Wars (1977)\n",
      "Terminator, The (1984)\n",
      "Return of the Jedi (1983)\n",
      "Terminator 2: Judgment Day (1991)\n",
      "Princess Bride, The (1987)\n",
      "Jurassic Park (1993)\n",
      "Fugitive, The (1993)\n",
      "Silence of the Lambs, The (1991)\n",
      "E.T. the Extra-Terrestrial (1982)\n",
      "Star Trek: The Wrath of Khan (1982)\n",
      "Alien (1979)\n",
      "Blade Runner (1982)\n"
     ]
    }
   ],
   "source": [
    "spell_correction()"
   ]
  },
  {
   "cell_type": "markdown",
   "metadata": {
    "id": "nRarT70-aRTg"
   },
   "source": [
    "Observation on above built KNN Recommender System:\n",
    "\n",
    "An interesting observation would be that the above KNN model for movies recommends movies that are produced in very similar years of the input movie. However, the cosine distance of all those recommendations are observed to be actually quite small. This might be because there are too many zero values in our movie-user matrix. With too many zero values in our data, the data sparsity becomes a real issue for KNN model and the distance in KNN model starts to fall apart. So I'd like to dig deeper and look closer inside our data."
   ]
  },
  {
   "cell_type": "markdown",
   "metadata": {
    "id": "fi1AOjkPaWAp"
   },
   "source": [
    "\n",
    "Let's now look at how sparse the movie-user matrix is by calculating percentage of zero values in the data."
   ]
  },
  {
   "cell_type": "code",
   "execution_count": 228,
   "metadata": {
    "colab": {
     "base_uri": "https://localhost:8080/",
     "height": 34
    },
    "id": "MK0JWPnQ33My",
    "outputId": "484bff9d-cc8f-4b7a-a227-a33967d12bbe"
   },
   "outputs": [
    {
     "name": "stdout",
     "output_type": "stream",
     "text": [
      "There is about 93.65% of ratings in our data is missing\n"
     ]
    }
   ],
   "source": [
    "# calcuate total number of entries in the movie-user matrix\n",
    "num_entries = movie_to_user_df.shape[0] * movie_to_user_df.shape[1]\n",
    "# calculate total number of entries with zero values\n",
    "num_zeros = (movie_to_user_df==0).sum(axis=1).sum()\n",
    "# calculate ratio of number of zeros to number of entries\n",
    "ratio_zeros = num_zeros / num_entries\n",
    "print('There is about {:.2%} of ratings in our data is missing'.format(ratio_zeros))"
   ]
  },
  {
   "cell_type": "markdown",
   "metadata": {
    "id": "_xe7IF4LiWLv"
   },
   "source": [
    "This result confirms the above hypothesis. The vast majority of entries in our data is zero. This explains why the distance between similar items or opposite items are both pretty large.\n",
    "\n",
    "So, lets try out deep learning models and Natural Language Processing techniques in the next segment of this project."
   ]
  },
  {
   "cell_type": "code",
   "execution_count": null,
   "metadata": {
    "id": "cpybAavhiz41"
   },
   "outputs": [],
   "source": []
  },
  {
   "cell_type": "markdown",
   "metadata": {
    "id": "jVJu1rsTx0F3"
   },
   "source": [
    "# Rough Work"
   ]
  },
  {
   "cell_type": "code",
   "execution_count": 119,
   "metadata": {
    "colab": {
     "base_uri": "https://localhost:8080/",
     "height": 34
    },
    "id": "ZZXpqM8lhzoe",
    "outputId": "c5310c5c-4d59-4d7a-ceb0-e7ac5ca19709"
   },
   "outputs": [
    {
     "data": {
      "text/plain": [
       "array([0.1, 0.2, 0.2, 0.4, 0.1])"
      ]
     },
     "execution_count": 119,
     "metadata": {
      "tags": []
     },
     "output_type": "execute_result"
    }
   ],
   "source": [
    "d = np.asarray([2,4,4,8,2])\n",
    "d = d/np.sum(d)\n",
    "d"
   ]
  },
  {
   "cell_type": "code",
   "execution_count": 120,
   "metadata": {
    "colab": {
     "base_uri": "https://localhost:8080/",
     "height": 101
    },
    "id": "ayT0tFP1iSvt",
    "outputId": "a5f9bb70-506f-4e88-e0e2-02debadc1ac1"
   },
   "outputs": [
    {
     "data": {
      "text/plain": [
       "array([[10, 20, 30],\n",
       "       [30, 40, 20],\n",
       "       [50, 30, 10],\n",
       "       [40, 30, 10],\n",
       "       [30, 20, 50]])"
      ]
     },
     "execution_count": 120,
     "metadata": {
      "tags": []
     },
     "output_type": "execute_result"
    }
   ],
   "source": [
    "e = np.asarray([[10,20,30],[30,40,20],[50,30,10],[40,30,10],[30,20,50]])\n",
    "e"
   ]
  },
  {
   "cell_type": "code",
   "execution_count": 116,
   "metadata": {
    "colab": {
     "base_uri": "https://localhost:8080/",
     "height": 84
    },
    "id": "8F95Ey9HtclY",
    "outputId": "aff99e60-ab97-4b6e-8c06-9da136c2a103"
   },
   "outputs": [
    {
     "data": {
      "text/plain": [
       "(array([[1., 1., 1., 1., 1.],\n",
       "        [2., 2., 2., 2., 2.],\n",
       "        [3., 3., 3., 3., 3.],\n",
       "        [4., 4., 4., 4., 4.]]), (5,), (4, 1))"
      ]
     },
     "execution_count": 116,
     "metadata": {
      "tags": []
     },
     "output_type": "execute_result"
    }
   ],
   "source": [
    "x = np.arange(4)\n",
    "xx = x.reshape(4,1)\n",
    "y = np.ones(5)\n",
    "xx+y, y.shape, xx.shape"
   ]
  },
  {
   "cell_type": "code",
   "execution_count": 121,
   "metadata": {
    "colab": {
     "base_uri": "https://localhost:8080/",
     "height": 101
    },
    "id": "xLyZGIO3wmjM",
    "outputId": "6f8b3e74-7a85-4cc2-e9ea-a42547a4906d"
   },
   "outputs": [
    {
     "data": {
      "text/plain": [
       "array([[0.1, 0.1, 0.1],\n",
       "       [0.2, 0.2, 0.2],\n",
       "       [0.2, 0.2, 0.2],\n",
       "       [0.4, 0.4, 0.4],\n",
       "       [0.1, 0.1, 0.1]])"
      ]
     },
     "execution_count": 121,
     "metadata": {
      "tags": []
     },
     "output_type": "execute_result"
    }
   ],
   "source": [
    "d = d[:,np.newaxis] + np.zeros(3)\n",
    "d"
   ]
  },
  {
   "cell_type": "code",
   "execution_count": 127,
   "metadata": {
    "colab": {
     "base_uri": "https://localhost:8080/",
     "height": 101
    },
    "id": "5SSmgMawwwUf",
    "outputId": "6f77c167-f3a5-4f9d-efd4-d2b479e5df8a"
   },
   "outputs": [
    {
     "data": {
      "text/plain": [
       "array([[ 1.,  2.,  3.],\n",
       "       [ 6.,  8.,  4.],\n",
       "       [10.,  6.,  2.],\n",
       "       [16., 12.,  4.],\n",
       "       [ 3.,  2.,  5.]])"
      ]
     },
     "execution_count": 127,
     "metadata": {
      "tags": []
     },
     "output_type": "execute_result"
    }
   ],
   "source": [
    "f = d * e\n",
    "f"
   ]
  },
  {
   "cell_type": "code",
   "execution_count": 131,
   "metadata": {
    "colab": {
     "base_uri": "https://localhost:8080/",
     "height": 34
    },
    "id": "3WvWb8R1xe1B",
    "outputId": "1fe7e6d7-8069-4873-a4fc-c76882084749"
   },
   "outputs": [
    {
     "data": {
      "text/plain": [
       "array([36., 30., 18.])"
      ]
     },
     "execution_count": 131,
     "metadata": {
      "tags": []
     },
     "output_type": "execute_result"
    }
   ],
   "source": [
    "f.sum(axis=0)"
   ]
  },
  {
   "cell_type": "code",
   "execution_count": 135,
   "metadata": {
    "colab": {
     "base_uri": "https://localhost:8080/",
     "height": 34
    },
    "id": "wV0Enmh_zEb9",
    "outputId": "02b143b2-d213-451d-bdd1-eaec4d85376a"
   },
   "outputs": [
    {
     "data": {
      "text/plain": [
       "array([32., 28., 24.])"
      ]
     },
     "execution_count": 135,
     "metadata": {
      "tags": []
     },
     "output_type": "execute_result"
    }
   ],
   "source": [
    "q = e.mean(axis=0)\n",
    "q"
   ]
  },
  {
   "cell_type": "code",
   "execution_count": 157,
   "metadata": {
    "colab": {
     "base_uri": "https://localhost:8080/",
     "height": 34
    },
    "id": "qmFVYlEuzNt8",
    "outputId": "20061a5d-209f-4349-fd77-7a79ecfbe38a"
   },
   "outputs": [
    {
     "data": {
      "text/plain": [
       "array([5, 4, 1, 6])"
      ]
     },
     "execution_count": 157,
     "metadata": {
      "tags": []
     },
     "output_type": "execute_result"
    }
   ],
   "source": [
    "l = np.asarray([3,7,1,2,8,9,3])\n",
    "np.argsort(l)[::-1][:4]"
   ]
  },
  {
   "cell_type": "code",
   "execution_count": 97,
   "metadata": {
    "colab": {
     "base_uri": "https://localhost:8080/",
     "height": 50
    },
    "id": "8AsMXObq3V_w",
    "outputId": "7535e81d-ad16-4537-e6e6-268ab0c7b091"
   },
   "outputs": [
    {
     "data": {
      "text/plain": [
       "(array([11,  3, 10,  8,  6,  1, 12,  0,  7,  2,  4, 13,  9,  5]),\n",
       " array([9, 8, 7, 6, 6, 6, 5, 3, 2, 2, 1, 0, 0, 0]))"
      ]
     },
     "execution_count": 97,
     "metadata": {
      "tags": []
     },
     "output_type": "execute_result"
    }
   ],
   "source": [
    "p = np.asarray([3,6,2,8,1,0,6,2,6,0,7,9,5,0])\n",
    "np.argsort(p)[::-1], np.sort(p)[::-1]"
   ]
  },
  {
   "cell_type": "code",
   "execution_count": 98,
   "metadata": {
    "colab": {
     "base_uri": "https://localhost:8080/",
     "height": 34
    },
    "id": "mOR0d1_Llq5m",
    "outputId": "d0200f5e-a76f-4f36-f4e4-f5079ca7cdfa"
   },
   "outputs": [
    {
     "data": {
      "text/plain": [
       "13"
      ]
     },
     "execution_count": 98,
     "metadata": {
      "tags": []
     },
     "output_type": "execute_result"
    }
   ],
   "source": [
    "# list(p)[::-1].index(0)\n",
    "j = np.where(p == 0)[0][-1]\n",
    "j"
   ]
  },
  {
   "cell_type": "code",
   "execution_count": 99,
   "metadata": {
    "colab": {
     "base_uri": "https://localhost:8080/",
     "height": 34
    },
    "id": "ZopTiksUnhPl",
    "outputId": "e7b8a57b-5cab-49a7-cd61-8e0377fac752"
   },
   "outputs": [
    {
     "data": {
      "text/plain": [
       "array([11,  3, 10,  8,  6,  1, 12,  0,  7,  2,  4])"
      ]
     },
     "execution_count": 99,
     "metadata": {
      "tags": []
     },
     "output_type": "execute_result"
    }
   ],
   "source": [
    "j = np.where(p == 0)[0][-1]\n",
    "h = np.argsort(p)[::-1]\n",
    "h[:list(h).index(j)]"
   ]
  },
  {
   "cell_type": "code",
   "execution_count": 204,
   "metadata": {
    "colab": {
     "base_uri": "https://localhost:8080/",
     "height": 118
    },
    "id": "vgMQdXL-u43G",
    "outputId": "123edaf0-d199-4ed2-c1ce-c19acc0cfe1d"
   },
   "outputs": [
    {
     "name": "stdout",
     "output_type": "stream",
     "text": [
      "hit\n",
      "ro\n",
      "rohi\n",
      "34\n",
      " \n",
      "ohit\n"
     ]
    }
   ],
   "source": [
    "f = 'rohith kumar 346'\n",
    "i = ['hit','ro','rohi','34',' ','itho','ohit']\n",
    "\n",
    "for j in i:\n",
    "  if j in f:\n",
    "    print(j)"
   ]
  },
  {
   "cell_type": "code",
   "execution_count": 208,
   "metadata": {
    "colab": {
     "base_uri": "https://localhost:8080/",
     "height": 34
    },
    "id": "T_3krmlmMSjl",
    "outputId": "917c6eed-3f31-4901-a084-9598bd0169e8"
   },
   "outputs": [
    {
     "data": {
      "text/plain": [
       "[1, 5, 4, 0]"
      ]
     },
     "execution_count": 208,
     "metadata": {
      "tags": []
     },
     "output_type": "execute_result"
    }
   ],
   "source": [
    "d = [2,3,76,4,7,1]\n",
    "e = [3,1,7,2]\n",
    "[d.index(i) for i in e]"
   ]
  },
  {
   "cell_type": "code",
   "execution_count": null,
   "metadata": {
    "id": "_DgLG9Y0Tt6A"
   },
   "outputs": [],
   "source": []
  }
 ],
 "metadata": {
  "colab": {
   "authorship_tag": "ABX9TyM1K937XEBtUiFWogHB4DtZ",
   "collapsed_sections": [
    "jVJu1rsTx0F3"
   ],
   "include_colab_link": true,
   "name": "Item-based-Collaborative-Recommender-System-using-KNN.ipynb",
   "provenance": []
  },
  "kernelspec": {
   "display_name": "Python 3 (ipykernel)",
   "language": "python",
   "name": "python3"
  },
  "language_info": {
   "codemirror_mode": {
    "name": "ipython",
    "version": 3
   },
   "file_extension": ".py",
   "mimetype": "text/x-python",
   "name": "python",
   "nbconvert_exporter": "python",
   "pygments_lexer": "ipython3",
   "version": "3.11.3"
  }
 },
 "nbformat": 4,
 "nbformat_minor": 1
}
